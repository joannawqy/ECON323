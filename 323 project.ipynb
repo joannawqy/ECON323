{
 "cells": [
  {
   "cell_type": "code",
   "execution_count": 1,
   "id": "216a219d-8296-4df4-af7f-845fa3e83fa1",
   "metadata": {},
   "outputs": [],
   "source": [
    "import pandas as pd"
   ]
  },
  {
   "cell_type": "code",
   "execution_count": 2,
   "id": "20a7c20a-50e5-49df-8f47-4519ff4c71a3",
   "metadata": {},
   "outputs": [],
   "source": [
    "df=pd.read_excel(\"women_manger.xlsx\")"
   ]
  },
  {
   "cell_type": "code",
   "execution_count": 3,
   "id": "fac554c7-c624-4b83-a76a-7fb73f25f82a",
   "metadata": {},
   "outputs": [],
   "source": [
    " #Extract the required columns\n",
    "#df = df[['GeoAreaName', 'TimePeriod', 'Value','Time_Detail']]\n",
    "columns_to_extract = ['GeoAreaName', 'TimePeriod', 'Value']\n",
    "# Read the Excel file into a DataFrame and select the desired columns.\n",
    "df = pd.read_excel(\"women_manger.xlsx\", usecols=columns_to_extract)\n",
    "df.to_excel('women_manager.xlsx', index=False)"
   ]
  },
  {
   "cell_type": "code",
   "execution_count": 4,
   "id": "613e5b5f-25b7-483d-8ac4-32415e059c0c",
   "metadata": {},
   "outputs": [],
   "source": [
    "file_path = 'pct_usinginternet.xlsx'\n",
    "\n",
    "# List of column names you want to extract.\n",
    "columns_to_extract = ['GeoAreaName', 'TimePeriod', 'Value']\n",
    "\n",
    "# Read the Excel file into a DataFrame and select the desired columns.\n",
    "df = pd.read_excel(file_path, usecols=columns_to_extract)\n",
    "df.to_excel('pct_internetuse.xlsx', index=False)"
   ]
  }
 ],
 "metadata": {
  "kernelspec": {
   "display_name": "Python 3 (ipykernel)",
   "language": "python",
   "name": "python3"
  },
  "language_info": {
   "codemirror_mode": {
    "name": "ipython",
    "version": 3
   },
   "file_extension": ".py",
   "mimetype": "text/x-python",
   "name": "python",
   "nbconvert_exporter": "python",
   "pygments_lexer": "ipython3",
   "version": "3.11.4"
  }
 },
 "nbformat": 4,
 "nbformat_minor": 5
}
