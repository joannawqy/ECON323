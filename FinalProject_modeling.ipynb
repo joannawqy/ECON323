{
 "cells": [
  {
   "cell_type": "markdown",
   "id": "7635aa8c-22b4-4b52-ada9-662d17802ca0",
   "metadata": {},
   "source": [
    "### Modeling"
   ]
  },
  {
   "cell_type": "code",
   "execution_count": 1,
   "id": "6392d501-228a-4801-bd07-ac1e18cf063c",
   "metadata": {},
   "outputs": [
    {
     "name": "stdout",
     "output_type": "stream",
     "text": [
      "\u001b[33mWARNING: Skipping /opt/conda/lib/python3.11/site-packages/nlopt-2.7.1.dist-info due to invalid metadata entry 'name'\u001b[0m\u001b[33m\n",
      "\u001b[0m\u001b[33mWARNING: Skipping /opt/conda/lib/python3.11/site-packages/nlopt-2.7.1.dist-info due to invalid metadata entry 'name'\u001b[0m\u001b[33m\n",
      "\u001b[0mRequirement already satisfied: linearmodels in /opt/conda/lib/python3.11/site-packages (5.3)\n",
      "Requirement already satisfied: numpy>=1.19.0 in /opt/conda/lib/python3.11/site-packages (from linearmodels) (1.24.4)\n",
      "Requirement already satisfied: pandas>=1.1.0 in /opt/conda/lib/python3.11/site-packages (from linearmodels) (1.5.3)\n",
      "Requirement already satisfied: scipy>=1.5.0 in /opt/conda/lib/python3.11/site-packages (from linearmodels) (1.11.1)\n",
      "Requirement already satisfied: statsmodels>=0.12.0 in /opt/conda/lib/python3.11/site-packages (from linearmodels) (0.14.0)\n",
      "Requirement already satisfied: mypy-extensions>=0.4 in /opt/conda/lib/python3.11/site-packages (from linearmodels) (1.0.0)\n",
      "Requirement already satisfied: Cython>=0.29.34 in /opt/conda/lib/python3.11/site-packages (from linearmodels) (0.29.36)\n",
      "Requirement already satisfied: pyhdfe>=0.1 in /opt/conda/lib/python3.11/site-packages (from linearmodels) (0.2.0)\n",
      "Requirement already satisfied: formulaic>=0.6.5 in /opt/conda/lib/python3.11/site-packages (from linearmodels) (0.6.6)\n",
      "Requirement already satisfied: setuptools-scm[toml]<8.0.0,>=7.0.0 in /opt/conda/lib/python3.11/site-packages (from linearmodels) (7.1.0)\n",
      "Requirement already satisfied: astor>=0.8 in /opt/conda/lib/python3.11/site-packages (from formulaic>=0.6.5->linearmodels) (0.8.1)\n",
      "Requirement already satisfied: interface-meta>=1.2.0 in /opt/conda/lib/python3.11/site-packages (from formulaic>=0.6.5->linearmodels) (1.3.0)\n",
      "Requirement already satisfied: typing-extensions>=4.2.0 in /opt/conda/lib/python3.11/site-packages (from formulaic>=0.6.5->linearmodels) (4.7.1)\n",
      "Requirement already satisfied: wrapt>=1.0 in /opt/conda/lib/python3.11/site-packages (from formulaic>=0.6.5->linearmodels) (1.15.0)\n",
      "Requirement already satisfied: python-dateutil>=2.8.1 in /opt/conda/lib/python3.11/site-packages (from pandas>=1.1.0->linearmodels) (2.8.2)\n",
      "Requirement already satisfied: pytz>=2020.1 in /opt/conda/lib/python3.11/site-packages (from pandas>=1.1.0->linearmodels) (2023.3)\n",
      "Requirement already satisfied: packaging>=20.0 in /opt/conda/lib/python3.11/site-packages (from setuptools-scm[toml]<8.0.0,>=7.0.0->linearmodels) (23.1)\n",
      "Requirement already satisfied: setuptools in /opt/conda/lib/python3.11/site-packages (from setuptools-scm[toml]<8.0.0,>=7.0.0->linearmodels) (68.0.0)\n",
      "Requirement already satisfied: patsy>=0.5.2 in /opt/conda/lib/python3.11/site-packages (from statsmodels>=0.12.0->linearmodels) (0.5.3)\n",
      "Requirement already satisfied: six in /opt/conda/lib/python3.11/site-packages (from patsy>=0.5.2->statsmodels>=0.12.0->linearmodels) (1.16.0)\n",
      "\u001b[33mWARNING: Skipping /opt/conda/lib/python3.11/site-packages/nlopt-2.7.1.dist-info due to invalid metadata entry 'name'\u001b[0m\u001b[33m\n",
      "\u001b[0m"
     ]
    }
   ],
   "source": [
    "!pip install linearmodels"
   ]
  },
  {
   "cell_type": "code",
   "execution_count": 2,
   "id": "021a8a9f-2e19-4ae9-a1b9-55b08adaaedf",
   "metadata": {},
   "outputs": [],
   "source": [
    "%matplotlib inline\n",
    "import matplotlib.pyplot as plt\n",
    "plt.rcParams[\"figure.figsize\"] = (11, 5)  #set default figure size\n",
    "import numpy as np\n",
    "import pandas as pd\n",
    "import statsmodels.api as sm\n",
    "from statsmodels.iolib.summary2 import summary_col\n",
    "from linearmodels.iv import IV2SLS\n",
    "from sklearn import (\n",
    "    linear_model, metrics, neural_network, pipeline, model_selection\n",
    ")\n",
    "import seaborn as sns"
   ]
  },
  {
   "cell_type": "code",
   "execution_count": 3,
   "id": "0cb7c96e-3f95-4d17-b4ff-061f2f872536",
   "metadata": {},
   "outputs": [
    {
     "name": "stdout",
     "output_type": "stream",
     "text": [
      "Index(['country', 'Code', 'ContinentCode', 'year',\n",
      "       'GDP per capita constant 2010 dollars',\n",
      "       'Capital investment as percent of GDP',\n",
      "       'Capital investment billion USD',\n",
      "       'Household consumption as percent of GDP',\n",
      "       'Household consumption billion USD', 'Labor force million people',\n",
      "       'Government spending as percent of GDP',\n",
      "       'Government spending billion USD', 'Population growth percent',\n",
      "       'Happiness Index 0 (unhappy) - 10 (happy)',\n",
      "       'Economic growth: the rate of change of real GDP',\n",
      "       'Gross Domestic Product billions of 2010 U.S. dollars',\n",
      "       'Unemployment rate', 'Exports of goods and services billion USD',\n",
      "       'Exports of goods and services annual growth',\n",
      "       'Current account balance billion USD', 'ranking index'],\n",
      "      dtype='object')\n"
     ]
    }
   ],
   "source": [
    "df = pd.read_csv('merged_data.csv')\n",
    "print(df.columns)"
   ]
  },
  {
   "cell_type": "markdown",
   "id": "1355ea0e-aa48-4ccb-991b-83ac57570812",
   "metadata": {},
   "source": [
    "#### Part 1: Linear regression using variables selected by Lasso"
   ]
  },
  {
   "cell_type": "markdown",
   "id": "14351dd2-5d0f-48ce-a0e7-d584d5758d90",
   "metadata": {},
   "source": [
    "$ log (Ranking Index) = \\beta_0 + \\beta_1 (\\text{GDP}) + \\beta_2 (\\text{GDP growth}) + \\beta_3 x_3 + \\cdots + \\beta_n x_n + \\varepsilon $"
   ]
  },
  {
   "cell_type": "code",
   "execution_count": 4,
   "id": "f6301f3a-b65c-4fed-b412-7f8b133c985d",
   "metadata": {},
   "outputs": [
    {
     "name": "stdout",
     "output_type": "stream",
     "text": [
      "                                 OLS Regression Results                                \n",
      "=======================================================================================\n",
      "Dep. Variable:          ranking index   R-squared (uncentered):                   0.979\n",
      "Model:                            OLS   Adj. R-squared (uncentered):              0.978\n",
      "Method:                 Least Squares   F-statistic:                              648.1\n",
      "Date:                Mon, 27 Nov 2023   Prob (F-statistic):                   6.07e-143\n",
      "Time:                        02:45:16   Log-Likelihood:                         -235.09\n",
      "No. Observations:                 192   AIC:                                      496.2\n",
      "Df Residuals:                     179   BIC:                                      538.5\n",
      "Df Model:                          13                                                  \n",
      "Covariance Type:            nonrobust                                                  \n",
      "========================================================================================================================\n",
      "                                                           coef    std err          t      P>|t|      [0.025      0.975]\n",
      "------------------------------------------------------------------------------------------------------------------------\n",
      "Current account balance billion USD                     -0.0006      0.001     -0.742      0.459      -0.002       0.001\n",
      "Exports of goods and services annual growth             -0.0122      0.015     -0.817      0.415      -0.042       0.017\n",
      "Exports of goods and services billion USD                0.0015      0.000      5.157      0.000       0.001       0.002\n",
      "Unemployment rate                                       -0.1129      0.025     -4.501      0.000      -0.162      -0.063\n",
      "Gross Domestic Product billions of 2010 U.S. dollars -8.911e-05   8.64e-05     -1.032      0.304      -0.000    8.13e-05\n",
      "Economic growth: the rate of change of real GDP         -0.0014      0.027     -0.051      0.959      -0.056       0.053\n",
      "Happiness Index 0 (unhappy) - 10 (happy)                 0.0101      0.124      0.081      0.935      -0.234       0.254\n",
      "Population growth percent                               -0.1673      0.095     -1.763      0.080      -0.355       0.020\n",
      "Government spending as percent of GDP                    0.0368      0.019      1.980      0.049       0.000       0.073\n",
      "Labor force million people                               0.0002      0.001      0.213      0.832      -0.002       0.002\n",
      "Household consumption as percent of GDP                  0.0684      0.008      8.465      0.000       0.052       0.084\n",
      "Capital investment billion USD                        1.191e-05      0.000      0.044      0.965      -0.001       0.001\n",
      "GDP per capita constant 2010 dollars                  3.147e-05   5.34e-06      5.889      0.000    2.09e-05     4.2e-05\n",
      "==============================================================================\n",
      "Omnibus:                       24.996   Durbin-Watson:                   0.577\n",
      "Prob(Omnibus):                  0.000   Jarque-Bera (JB):               37.984\n",
      "Skew:                          -0.737   Prob(JB):                     5.65e-09\n",
      "Kurtosis:                       4.604   Cond. No.                     9.62e+04\n",
      "==============================================================================\n",
      "\n",
      "Notes:\n",
      "[1] R² is computed without centering (uncentered) since the model does not contain a constant.\n",
      "[2] Standard Errors assume that the covariance matrix of the errors is correctly specified.\n",
      "[3] The condition number is large, 9.62e+04. This might indicate that there are\n",
      "strong multicollinearity or other numerical problems.\n"
     ]
    }
   ],
   "source": [
    "# as the 'Capital investment billion USD' and 'Capital investment as percent of GDP' represents similar things \n",
    "# and have a relatively high correlation, we kept one of them \n",
    "X = df[['Current account balance billion USD',\n",
    "        'Exports of goods and services annual growth',\n",
    "        'Exports of goods and services billion USD',\n",
    "        'Unemployment rate',\n",
    "        'Gross Domestic Product billions of 2010 U.S. dollars',\n",
    "        'Economic growth: the rate of change of real GDP',\n",
    "        'Happiness Index 0 (unhappy) - 10 (happy)',\n",
    "        'Population growth percent',\n",
    "        'Government spending as percent of GDP',\n",
    "        'Labor force million people',\n",
    "        'Household consumption as percent of GDP',\n",
    "        'Capital investment billion USD',\n",
    "        'GDP per capita constant 2010 dollars']]\n",
    "\n",
    "y = df['ranking index']\n",
    "y_log = np.log(y + 1)\n",
    "\n",
    "df['const'] = 1\n",
    "reg1 = sm.OLS(endog = y_log, exog = X, \\\n",
    "    missing='drop')\n",
    "results = reg1.fit()\n",
    "print(results.summary())"
   ]
  },
  {
   "cell_type": "code",
   "execution_count": 5,
   "id": "4312d554-f7c7-40f8-8406-79120be51313",
   "metadata": {},
   "outputs": [
    {
     "name": "stdout",
     "output_type": "stream",
     "text": [
      "0.6429409949562513\n"
     ]
    }
   ],
   "source": [
    "# calculating mse \n",
    "sqft_lr_model = linear_model.LinearRegression()\n",
    "sqft_lr_model.fit(X, y_log)\n",
    "mse = metrics.mean_squared_error(y_log, sqft_lr_model.predict(X))\n",
    "print(mse)"
   ]
  },
  {
   "cell_type": "markdown",
   "id": "790b2790-b9ff-4e4b-b80e-d931e9fdf0bd",
   "metadata": {},
   "source": [
    "- As we could see from the OLS result table above, the coefficient on the variable 'Gross Domestic Product billions of 2010 U.S. dollars' is -8.911e-05, the associated p-value is 0.304, which is statistically insignificant at the 5% level. \n",
    "- And the coefficient on the variable 'Economic growth: the rate of change of real GDP' is -0.0014, the associated p-value is 0.959, which is statistically insignificant at the 5% level as well.\n",
    "- But the coefficient on 'GDP per capita constant 2010 dollars' has a p-value of 0, which is statistically significant at the 5% level."
   ]
  },
  {
   "cell_type": "code",
   "execution_count": 6,
   "id": "23976ef2-4634-48e0-9348-b47ede9d7835",
   "metadata": {},
   "outputs": [],
   "source": [
    "# fitted graph"
   ]
  },
  {
   "cell_type": "markdown",
   "id": "ebf1523e-88c0-469b-bae7-ff4a14eb0cd9",
   "metadata": {},
   "source": [
    "#### Part 2: Two-stage least squares (2SLS) regression"
   ]
  },
  {
   "cell_type": "markdown",
   "id": "fc3f4a7f-d171-4157-9f66-f09696a079c7",
   "metadata": {},
   "source": [
    "- As the OLS model above is likely suffer from endogeneity issues (reverse causality: better university is likely lead to a higher GDP of the country, and omitted variable bias : there are too many variables correlated with both the university ranking of a country and its GDP, and we may not be able to get data and control all of them). Therefore, here we include the 2SLS model to deal with the problem of endogeneity."
   ]
  },
  {
   "cell_type": "markdown",
   "id": "c660f140-fd7b-458e-a4ab-848e336a58c2",
   "metadata": {},
   "source": [
    "- In this model, to test the effect of 'Gross Domestic Product billions of 2010 U.S. dollars' on log of ranking index, the instrument we have chosen is 'Exports of goods and services billion USD', as it satisfies the three conditions for instruments, which are first stage, exogeneity and exclusion."
   ]
  },
  {
   "cell_type": "markdown",
   "id": "86096695-4442-4ffa-b5e4-964ce39224f0",
   "metadata": {},
   "source": [
    "##### 1. first stage"
   ]
  },
  {
   "cell_type": "markdown",
   "id": "f85da3fc-a1a7-408b-aef1-e79d8657e167",
   "metadata": {},
   "source": [
    "$$\n",
    "\\text{Gross Domestic Product billions of 2010 U.S. dollars}_i = \\delta_0 + \\delta_1 \\text{Exports of goods and services billion USD}_i + v_i\n",
    "$$"
   ]
  },
  {
   "cell_type": "code",
   "execution_count": 7,
   "id": "22968ab3-4af9-4d66-956e-85c04b666af4",
   "metadata": {},
   "outputs": [
    {
     "name": "stdout",
     "output_type": "stream",
     "text": [
      "                                             OLS Regression Results                                             \n",
      "================================================================================================================\n",
      "Dep. Variable:     Gross Domestic Product billions of 2010 U.S. dollars   R-squared:                       0.749\n",
      "Model:                                                              OLS   Adj. R-squared:                  0.747\n",
      "Method:                                                   Least Squares   F-statistic:                     566.3\n",
      "Date:                                                  Mon, 27 Nov 2023   Prob (F-statistic):           6.80e-59\n",
      "Time:                                                          02:45:17   Log-Likelihood:                -1735.8\n",
      "No. Observations:                                                   192   AIC:                             3476.\n",
      "Df Residuals:                                                       190   BIC:                             3482.\n",
      "Df Model:                                                             1                                         \n",
      "Covariance Type:                                              nonrobust                                         \n",
      "=============================================================================================================\n",
      "                                                coef    std err          t      P>|t|      [0.025      0.975]\n",
      "-------------------------------------------------------------------------------------------------------------\n",
      "const                                     -1217.7986    206.682     -5.892      0.000   -1625.485    -810.112\n",
      "Exports of goods and services billion USD     5.4865      0.231     23.796      0.000       5.032       5.941\n",
      "==============================================================================\n",
      "Omnibus:                       77.535   Durbin-Watson:                   0.286\n",
      "Prob(Omnibus):                  0.000   Jarque-Bera (JB):              556.935\n",
      "Skew:                           1.321   Prob(JB):                    1.16e-121\n",
      "Kurtosis:                      10.914   Cond. No.                     1.25e+03\n",
      "==============================================================================\n",
      "\n",
      "Notes:\n",
      "[1] Standard Errors assume that the covariance matrix of the errors is correctly specified.\n",
      "[2] The condition number is large, 1.25e+03. This might indicate that there are\n",
      "strong multicollinearity or other numerical problems.\n"
     ]
    }
   ],
   "source": [
    "# test the first stage\n",
    "results_fs = sm.OLS(df['Gross Domestic Product billions of 2010 U.S. dollars'],\n",
    "                    df[['const', 'Exports of goods and services billion USD']]).fit()\n",
    "print(results_fs.summary())"
   ]
  },
  {
   "cell_type": "markdown",
   "id": "5edc9a63-b474-4911-8dce-14f53efd0bfa",
   "metadata": {},
   "source": [
    "- As we see from the table, the coefficient is large and the p-value is 0 which is lower than 0.05, therefore the instrument is correlated with the GDP. -> satisfies the first condition for instrument we mentioned above"
   ]
  },
  {
   "cell_type": "markdown",
   "id": "82c6cc90-c42a-4b72-bedd-93e16ac8956c",
   "metadata": {},
   "source": [
    "- We cannot directly test whether the instrument is correlated with the error term or not (exogeneity and exclusion). But intuitively, the export should not correlated with the ranking index except for the fact that it inflences GDP. As we could see from the QS ranking calculation, none of the considered factors (Sustainability, Employment outcomes, International research network, etc.) seem related to the export of countries. Therefore we could infer export is a viable instrument in this case."
   ]
  },
  {
   "cell_type": "markdown",
   "id": "f9cd45eb-fd70-4aba-b484-440f6d06fe88",
   "metadata": {},
   "source": [
    "##### 2. second stage"
   ]
  },
  {
   "cell_type": "markdown",
   "id": "c2d952c4-c554-48c0-8937-978f0fdc42eb",
   "metadata": {},
   "source": [
    "$$\n",
    "\\log(\\text{ranking index})_i = \\beta_0 + \\beta_1 \\widehat{\\text{GDP}}_i + u_i\n",
    "$$"
   ]
  },
  {
   "cell_type": "code",
   "execution_count": 8,
   "id": "ec34745d-3774-4b76-bab4-4965d9412c66",
   "metadata": {},
   "outputs": [
    {
     "name": "stdout",
     "output_type": "stream",
     "text": [
      "                            OLS Regression Results                            \n",
      "==============================================================================\n",
      "Dep. Variable:          ranking index   R-squared:                       0.339\n",
      "Model:                            OLS   Adj. R-squared:                  0.335\n",
      "Method:                 Least Squares   F-statistic:                     97.27\n",
      "Date:                Mon, 27 Nov 2023   Prob (F-statistic):           8.65e-19\n",
      "Time:                        02:45:18   Log-Likelihood:                -290.06\n",
      "No. Observations:                 192   AIC:                             584.1\n",
      "Df Residuals:                     190   BIC:                             590.6\n",
      "Df Model:                           1                                         \n",
      "Covariance Type:            nonrobust                                         \n",
      "=================================================================================\n",
      "                    coef    std err          t      P>|t|      [0.025      0.975]\n",
      "---------------------------------------------------------------------------------\n",
      "const             5.0544      0.094     53.847      0.000       4.869       5.240\n",
      "predicted_gdp     0.0002   2.26e-05      9.863      0.000       0.000       0.000\n",
      "==============================================================================\n",
      "Omnibus:                        3.667   Durbin-Watson:                   0.426\n",
      "Prob(Omnibus):                  0.160   Jarque-Bera (JB):                3.338\n",
      "Skew:                          -0.316   Prob(JB):                        0.188\n",
      "Kurtosis:                       3.133   Cond. No.                     4.91e+03\n",
      "==============================================================================\n",
      "\n",
      "Notes:\n",
      "[1] Standard Errors assume that the covariance matrix of the errors is correctly specified.\n",
      "[2] The condition number is large, 4.91e+03. This might indicate that there are\n",
      "strong multicollinearity or other numerical problems.\n"
     ]
    }
   ],
   "source": [
    "df['predicted_gdp'] = results_fs.predict()\n",
    "\n",
    "results_ss = sm.OLS(y_log,\n",
    "                    df[['const', 'predicted_gdp']]).fit()\n",
    "print(results_ss.summary())"
   ]
  },
  {
   "cell_type": "markdown",
   "id": "cf464829-804a-471a-8ffd-710af5c463bf",
   "metadata": {},
   "source": [
    "##### 3. directly using linearmodels package (IV2SLS)"
   ]
  },
  {
   "cell_type": "code",
   "execution_count": 9,
   "id": "794d0427-3a8d-4217-b32d-a292589ca7ef",
   "metadata": {},
   "outputs": [
    {
     "name": "stdout",
     "output_type": "stream",
     "text": [
      "                          IV-2SLS Estimation Summary                          \n",
      "==============================================================================\n",
      "Dep. Variable:          ranking index   R-squared:                      0.2503\n",
      "Estimator:                    IV-2SLS   Adj. R-squared:                 0.2463\n",
      "No. Observations:                 192   F-statistic:                    86.714\n",
      "Date:                Mon, Nov 27 2023   P-value (F-stat)                0.0000\n",
      "Time:                        02:45:25   Distribution:                  chi2(1)\n",
      "Cov. Estimator:            unadjusted                                         \n",
      "                                                                              \n",
      "                                                  Parameter Estimates                                                   \n",
      "========================================================================================================================\n",
      "                                                      Parameter  Std. Err.     T-stat    P-value    Lower CI    Upper CI\n",
      "------------------------------------------------------------------------------------------------------------------------\n",
      "const                                                    5.0544     0.0994     50.842     0.0000      4.8595      5.2492\n",
      "Gross Domestic Product billions of 2010 U.S. dollars     0.0002  2.389e-05     9.3120     0.0000      0.0002      0.0003\n",
      "========================================================================================================================\n",
      "\n",
      "Endogenous: Gross Domestic Product billions of 2010 U.S. dollars\n",
      "Instruments: Exports of goods and services billion USD\n",
      "Unadjusted Covariance (Homoskedastic)\n",
      "Debiased: False\n"
     ]
    }
   ],
   "source": [
    "iv = IV2SLS(dependent = y_log,\n",
    "            exog = df['const'],\n",
    "            endog = df['Gross Domestic Product billions of 2010 U.S. dollars'],\n",
    "            instruments = df['Exports of goods and services billion USD']).fit(cov_type='unadjusted')\n",
    "\n",
    "print(iv.summary)"
   ]
  },
  {
   "cell_type": "markdown",
   "id": "e5584820-75e9-41eb-b79f-eb8f02062cd6",
   "metadata": {},
   "source": [
    "- the package give us the same coefficient as we get from the first stage second stage analysis, therefore in the next part we directly use the iv package"
   ]
  },
  {
   "cell_type": "markdown",
   "id": "2f7abe5f-c560-4a16-8fbc-8656239b9dc5",
   "metadata": {},
   "source": [
    "##### 4. testing the effect of GDP growth on ranking index"
   ]
  },
  {
   "cell_type": "markdown",
   "id": "8f908de2-f3cf-441e-8ff5-9f3db924f418",
   "metadata": {},
   "source": [
    "- for testing the impact of GDP gowth on log ranking index, we change the instrument to 'Exports of goods and services annual growth'"
   ]
  },
  {
   "cell_type": "code",
   "execution_count": 10,
   "id": "75d0127f-8515-4f26-ba2d-3b63b1f83f45",
   "metadata": {},
   "outputs": [
    {
     "name": "stdout",
     "output_type": "stream",
     "text": [
      "                                           OLS Regression Results                                          \n",
      "===========================================================================================================\n",
      "Dep. Variable:     Economic growth: the rate of change of real GDP   R-squared:                       0.607\n",
      "Model:                                                         OLS   Adj. R-squared:                  0.605\n",
      "Method:                                              Least Squares   F-statistic:                     293.3\n",
      "Date:                                             Mon, 27 Nov 2023   Prob (F-statistic):           2.25e-40\n",
      "Time:                                                     02:45:26   Log-Likelihood:                -448.93\n",
      "No. Observations:                                              192   AIC:                             901.9\n",
      "Df Residuals:                                                  190   BIC:                             908.4\n",
      "Df Model:                                                        1                                         \n",
      "Covariance Type:                                         nonrobust                                         \n",
      "===============================================================================================================\n",
      "                                                  coef    std err          t      P>|t|      [0.025      0.975]\n",
      "---------------------------------------------------------------------------------------------------------------\n",
      "const                                           1.0095      0.194      5.200      0.000       0.627       1.392\n",
      "Exports of goods and services annual growth     0.4394      0.026     17.125      0.000       0.389       0.490\n",
      "==============================================================================\n",
      "Omnibus:                       25.766   Durbin-Watson:                   1.698\n",
      "Prob(Omnibus):                  0.000   Jarque-Bera (JB):               63.861\n",
      "Skew:                           0.562   Prob(JB):                     1.36e-14\n",
      "Kurtosis:                       5.592   Cond. No.                         8.09\n",
      "==============================================================================\n",
      "\n",
      "Notes:\n",
      "[1] Standard Errors assume that the covariance matrix of the errors is correctly specified.\n"
     ]
    }
   ],
   "source": [
    "# first stage\n",
    "results_fs = sm.OLS(df['Economic growth: the rate of change of real GDP'],\n",
    "                    df[['const', 'Exports of goods and services annual growth']]).fit()\n",
    "print(results_fs.summary())"
   ]
  },
  {
   "cell_type": "code",
   "execution_count": 12,
   "id": "e5090606-85a8-4e2e-a63d-2ad8fda8f8e0",
   "metadata": {},
   "outputs": [
    {
     "name": "stdout",
     "output_type": "stream",
     "text": [
      "                          IV-2SLS Estimation Summary                          \n",
      "==============================================================================\n",
      "Dep. Variable:          ranking index   R-squared:                     -0.0023\n",
      "Estimator:                    IV-2SLS   Adj. R-squared:                -0.0076\n",
      "No. Observations:                 192   F-statistic:                    2.4150\n",
      "Date:                Mon, Nov 27 2023   P-value (F-stat)                0.1202\n",
      "Time:                        02:46:03   Distribution:                  chi2(1)\n",
      "Cov. Estimator:            unadjusted                                         \n",
      "                                                                              \n",
      "                                                Parameter Estimates                                                \n",
      "===================================================================================================================\n",
      "                                                 Parameter  Std. Err.     T-stat    P-value    Lower CI    Upper CI\n",
      "-------------------------------------------------------------------------------------------------------------------\n",
      "const                                               5.6516     0.1187     47.617     0.0000      5.4190      5.8843\n",
      "Economic growth: the rate of change of real GDP    -0.0486     0.0313    -1.5540     0.1202     -0.1099      0.0127\n",
      "===================================================================================================================\n",
      "\n",
      "Endogenous: Economic growth: the rate of change of real GDP\n",
      "Instruments: Exports of goods and services annual growth\n",
      "Unadjusted Covariance (Homoskedastic)\n",
      "Debiased: False\n"
     ]
    }
   ],
   "source": [
    "# 2SLS\n",
    "iv2 = IV2SLS(dependent = y_log,\n",
    "            exog = df['const'],\n",
    "            endog = df['Economic growth: the rate of change of real GDP'],\n",
    "            instruments = df['Exports of goods and services annual growth']).fit(cov_type='unadjusted')\n",
    "\n",
    "print(iv2.summary)"
   ]
  }
 ],
 "metadata": {
  "kernelspec": {
   "display_name": "Python 3 (ipykernel)",
   "language": "python",
   "name": "python3"
  },
  "language_info": {
   "codemirror_mode": {
    "name": "ipython",
    "version": 3
   },
   "file_extension": ".py",
   "mimetype": "text/x-python",
   "name": "python",
   "nbconvert_exporter": "python",
   "pygments_lexer": "ipython3",
   "version": "3.11.4"
  }
 },
 "nbformat": 4,
 "nbformat_minor": 5
}
