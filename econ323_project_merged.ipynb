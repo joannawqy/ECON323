{
 "cells": [
  {
   "cell_type": "markdown",
   "id": "b17da469-1fb9-4f7d-8055-6f13b4554a4c",
   "metadata": {},
   "source": [
    "### Overview"
   ]
  },
  {
   "cell_type": "code",
   "execution_count": 1,
   "id": "7a6f2934-3786-4d36-a934-e252d1ec7913",
   "metadata": {},
   "outputs": [],
   "source": [
    "import pandas as pd\n",
    "import numpy as np"
   ]
  },
  {
   "cell_type": "code",
   "execution_count": 2,
   "id": "d9390be8-fcd3-44af-b7bf-2dcc24fafa04",
   "metadata": {
    "collapsed": true,
    "jupyter": {
     "outputs_hidden": true
    },
    "scrolled": true
   },
   "outputs": [
    {
     "name": "stdout",
     "output_type": "stream",
     "text": [
      "\u001b[33mWARNING: Skipping /opt/conda/lib/python3.11/site-packages/nlopt-2.7.1.dist-info due to invalid metadata entry 'name'\u001b[0m\u001b[33m\n",
      "\u001b[0m\u001b[33mWARNING: Skipping /opt/conda/lib/python3.11/site-packages/nlopt-2.7.1.dist-info due to invalid metadata entry 'name'\u001b[0m\u001b[33m\n",
      "\u001b[0mRequirement already satisfied: linearmodels in /opt/conda/lib/python3.11/site-packages (5.3)\n",
      "Requirement already satisfied: numpy>=1.19.0 in /opt/conda/lib/python3.11/site-packages (from linearmodels) (1.24.4)\n",
      "Requirement already satisfied: pandas>=1.1.0 in /opt/conda/lib/python3.11/site-packages (from linearmodels) (1.5.3)\n",
      "Requirement already satisfied: scipy>=1.5.0 in /opt/conda/lib/python3.11/site-packages (from linearmodels) (1.11.1)\n",
      "Requirement already satisfied: statsmodels>=0.12.0 in /opt/conda/lib/python3.11/site-packages (from linearmodels) (0.14.0)\n",
      "Requirement already satisfied: mypy-extensions>=0.4 in /opt/conda/lib/python3.11/site-packages (from linearmodels) (1.0.0)\n",
      "Requirement already satisfied: Cython>=0.29.34 in /opt/conda/lib/python3.11/site-packages (from linearmodels) (0.29.36)\n",
      "Requirement already satisfied: pyhdfe>=0.1 in /opt/conda/lib/python3.11/site-packages (from linearmodels) (0.2.0)\n",
      "Requirement already satisfied: formulaic>=0.6.5 in /opt/conda/lib/python3.11/site-packages (from linearmodels) (0.6.6)\n",
      "Requirement already satisfied: setuptools-scm[toml]<8.0.0,>=7.0.0 in /opt/conda/lib/python3.11/site-packages (from linearmodels) (7.1.0)\n",
      "Requirement already satisfied: astor>=0.8 in /opt/conda/lib/python3.11/site-packages (from formulaic>=0.6.5->linearmodels) (0.8.1)\n",
      "Requirement already satisfied: interface-meta>=1.2.0 in /opt/conda/lib/python3.11/site-packages (from formulaic>=0.6.5->linearmodels) (1.3.0)\n",
      "Requirement already satisfied: typing-extensions>=4.2.0 in /opt/conda/lib/python3.11/site-packages (from formulaic>=0.6.5->linearmodels) (4.7.1)\n",
      "Requirement already satisfied: wrapt>=1.0 in /opt/conda/lib/python3.11/site-packages (from formulaic>=0.6.5->linearmodels) (1.15.0)\n",
      "Requirement already satisfied: python-dateutil>=2.8.1 in /opt/conda/lib/python3.11/site-packages (from pandas>=1.1.0->linearmodels) (2.8.2)\n",
      "Requirement already satisfied: pytz>=2020.1 in /opt/conda/lib/python3.11/site-packages (from pandas>=1.1.0->linearmodels) (2023.3)\n",
      "Requirement already satisfied: packaging>=20.0 in /opt/conda/lib/python3.11/site-packages (from setuptools-scm[toml]<8.0.0,>=7.0.0->linearmodels) (23.1)\n",
      "Requirement already satisfied: setuptools in /opt/conda/lib/python3.11/site-packages (from setuptools-scm[toml]<8.0.0,>=7.0.0->linearmodels) (68.0.0)\n",
      "Requirement already satisfied: patsy>=0.5.2 in /opt/conda/lib/python3.11/site-packages (from statsmodels>=0.12.0->linearmodels) (0.5.3)\n",
      "Requirement already satisfied: six in /opt/conda/lib/python3.11/site-packages (from patsy>=0.5.2->statsmodels>=0.12.0->linearmodels) (1.16.0)\n",
      "\u001b[33mWARNING: Skipping /opt/conda/lib/python3.11/site-packages/nlopt-2.7.1.dist-info due to invalid metadata entry 'name'\u001b[0m\u001b[33m\n",
      "\u001b[0m"
     ]
    }
   ],
   "source": [
    "!pip install linearmodels"
   ]
  },
  {
   "cell_type": "markdown",
   "id": "d6a10588-d35d-447b-a80b-4d98f4b79b46",
   "metadata": {},
   "source": [
    "### Data Wrangling"
   ]
  },
  {
   "cell_type": "markdown",
   "id": "0e78159e-dda5-4aee-856a-b9694c536b95",
   "metadata": {},
   "source": [
    "In this research, the three most essential variables we are going to use are QS ranking (Y), GDP per capita (X) and manufacturing export (IV) of countries. In this section, we will be doing data wrangling to datasets to aquire the variables of interest."
   ]
  },
  {
   "cell_type": "markdown",
   "id": "832cc947-81ee-4995-b38e-1b391ec2416c",
   "metadata": {},
   "source": [
    "#### step1: head the dataset to have an overview of it"
   ]
  },
  {
   "cell_type": "code",
   "execution_count": 2,
   "id": "cbf0bc13-dd7a-4b54-a59b-c4994180e4ce",
   "metadata": {},
   "outputs": [],
   "source": [
    "ranking = pd.read_csv('qs-world-university-rankings-2017-to-2022-V2.csv')"
   ]
  },
  {
   "cell_type": "code",
   "execution_count": 3,
   "id": "af9d52f7-b797-4263-be1f-3472e524ba78",
   "metadata": {},
   "outputs": [
    {
     "data": {
      "text/html": [
       "<div>\n",
       "<style scoped>\n",
       "    .dataframe tbody tr th:only-of-type {\n",
       "        vertical-align: middle;\n",
       "    }\n",
       "\n",
       "    .dataframe tbody tr th {\n",
       "        vertical-align: top;\n",
       "    }\n",
       "\n",
       "    .dataframe thead th {\n",
       "        text-align: right;\n",
       "    }\n",
       "</style>\n",
       "<table border=\"1\" class=\"dataframe\">\n",
       "  <thead>\n",
       "    <tr style=\"text-align: right;\">\n",
       "      <th></th>\n",
       "      <th>university</th>\n",
       "      <th>year</th>\n",
       "      <th>rank_display</th>\n",
       "      <th>score</th>\n",
       "      <th>link</th>\n",
       "      <th>country</th>\n",
       "      <th>city</th>\n",
       "      <th>region</th>\n",
       "      <th>logo</th>\n",
       "      <th>type</th>\n",
       "      <th>research_output</th>\n",
       "      <th>student_faculty_ratio</th>\n",
       "      <th>international_students</th>\n",
       "      <th>size</th>\n",
       "      <th>faculty_count</th>\n",
       "    </tr>\n",
       "  </thead>\n",
       "  <tbody>\n",
       "    <tr>\n",
       "      <th>0</th>\n",
       "      <td>Massachusetts Institute of Technology (MIT)</td>\n",
       "      <td>2017</td>\n",
       "      <td>1</td>\n",
       "      <td>100.0</td>\n",
       "      <td>https://www.topuniversities.com/universities/m...</td>\n",
       "      <td>United States</td>\n",
       "      <td>Cambridge</td>\n",
       "      <td>North America</td>\n",
       "      <td>https://www.topuniversities.com/sites/default/...</td>\n",
       "      <td>Private</td>\n",
       "      <td>Very High</td>\n",
       "      <td>4.0</td>\n",
       "      <td>3,730</td>\n",
       "      <td>M</td>\n",
       "      <td>3,065</td>\n",
       "    </tr>\n",
       "    <tr>\n",
       "      <th>1</th>\n",
       "      <td>Stanford University</td>\n",
       "      <td>2017</td>\n",
       "      <td>2</td>\n",
       "      <td>98.7</td>\n",
       "      <td>https://www.topuniversities.com/universities/s...</td>\n",
       "      <td>United States</td>\n",
       "      <td>Stanford</td>\n",
       "      <td>North America</td>\n",
       "      <td>https://www.topuniversities.com/sites/default/...</td>\n",
       "      <td>Private</td>\n",
       "      <td>Very High</td>\n",
       "      <td>3.0</td>\n",
       "      <td>3,879</td>\n",
       "      <td>L</td>\n",
       "      <td>4,725</td>\n",
       "    </tr>\n",
       "    <tr>\n",
       "      <th>2</th>\n",
       "      <td>Harvard University</td>\n",
       "      <td>2017</td>\n",
       "      <td>3</td>\n",
       "      <td>98.3</td>\n",
       "      <td>https://www.topuniversities.com/universities/h...</td>\n",
       "      <td>United States</td>\n",
       "      <td>Cambridge</td>\n",
       "      <td>North America</td>\n",
       "      <td>https://www.topuniversities.com/sites/default/...</td>\n",
       "      <td>Private</td>\n",
       "      <td>Very High</td>\n",
       "      <td>5.0</td>\n",
       "      <td>5,877</td>\n",
       "      <td>L</td>\n",
       "      <td>4,646</td>\n",
       "    </tr>\n",
       "    <tr>\n",
       "      <th>3</th>\n",
       "      <td>University of Cambridge</td>\n",
       "      <td>2017</td>\n",
       "      <td>4</td>\n",
       "      <td>97.2</td>\n",
       "      <td>https://www.topuniversities.com/universities/u...</td>\n",
       "      <td>United Kingdom</td>\n",
       "      <td>Cambridge</td>\n",
       "      <td>Europe</td>\n",
       "      <td>https://www.topuniversities.com/sites/default/...</td>\n",
       "      <td>Public</td>\n",
       "      <td>Very high</td>\n",
       "      <td>4.0</td>\n",
       "      <td>7,925</td>\n",
       "      <td>L</td>\n",
       "      <td>5,800</td>\n",
       "    </tr>\n",
       "    <tr>\n",
       "      <th>4</th>\n",
       "      <td>California Institute of Technology (Caltech)</td>\n",
       "      <td>2017</td>\n",
       "      <td>5</td>\n",
       "      <td>96.9</td>\n",
       "      <td>https://www.topuniversities.com/universities/c...</td>\n",
       "      <td>United States</td>\n",
       "      <td>Pasadena</td>\n",
       "      <td>North America</td>\n",
       "      <td>https://www.topuniversities.com/sites/default/...</td>\n",
       "      <td>Private</td>\n",
       "      <td>Very High</td>\n",
       "      <td>2.0</td>\n",
       "      <td>692</td>\n",
       "      <td>S</td>\n",
       "      <td>968</td>\n",
       "    </tr>\n",
       "  </tbody>\n",
       "</table>\n",
       "</div>"
      ],
      "text/plain": [
       "                                     university  year rank_display  score  \\\n",
       "0  Massachusetts Institute of Technology (MIT)   2017            1  100.0   \n",
       "1                           Stanford University  2017            2   98.7   \n",
       "2                            Harvard University  2017            3   98.3   \n",
       "3                       University of Cambridge  2017            4   97.2   \n",
       "4  California Institute of Technology (Caltech)  2017            5   96.9   \n",
       "\n",
       "                                                link         country  \\\n",
       "0  https://www.topuniversities.com/universities/m...   United States   \n",
       "1  https://www.topuniversities.com/universities/s...   United States   \n",
       "2  https://www.topuniversities.com/universities/h...   United States   \n",
       "3  https://www.topuniversities.com/universities/u...  United Kingdom   \n",
       "4  https://www.topuniversities.com/universities/c...   United States   \n",
       "\n",
       "        city         region  \\\n",
       "0  Cambridge  North America   \n",
       "1   Stanford  North America   \n",
       "2  Cambridge  North America   \n",
       "3  Cambridge         Europe   \n",
       "4   Pasadena  North America   \n",
       "\n",
       "                                                logo     type research_output  \\\n",
       "0  https://www.topuniversities.com/sites/default/...  Private       Very High   \n",
       "1  https://www.topuniversities.com/sites/default/...  Private       Very High   \n",
       "2  https://www.topuniversities.com/sites/default/...  Private       Very High   \n",
       "3  https://www.topuniversities.com/sites/default/...   Public       Very high   \n",
       "4  https://www.topuniversities.com/sites/default/...  Private       Very High   \n",
       "\n",
       "   student_faculty_ratio international_students size faculty_count  \n",
       "0                    4.0                  3,730    M         3,065  \n",
       "1                    3.0                  3,879    L         4,725  \n",
       "2                    5.0                  5,877    L         4,646  \n",
       "3                    4.0                  7,925    L         5,800  \n",
       "4                    2.0                    692    S           968  "
      ]
     },
     "execution_count": 3,
     "metadata": {},
     "output_type": "execute_result"
    }
   ],
   "source": [
    "ranking.head()"
   ]
  },
  {
   "cell_type": "code",
   "execution_count": 4,
   "id": "668cba39-9aaa-4c7d-96d5-deb015f3bd87",
   "metadata": {},
   "outputs": [
    {
     "data": {
      "text/plain": [
       "university                 object\n",
       "year                        int64\n",
       "rank_display               object\n",
       "score                     float64\n",
       "link                       object\n",
       "country                    object\n",
       "city                       object\n",
       "region                     object\n",
       "logo                       object\n",
       "type                       object\n",
       "research_output            object\n",
       "student_faculty_ratio     float64\n",
       "international_students     object\n",
       "size                       object\n",
       "faculty_count              object\n",
       "dtype: object"
      ]
     },
     "execution_count": 4,
     "metadata": {},
     "output_type": "execute_result"
    }
   ],
   "source": [
    "ranking.dtypes"
   ]
  },
  {
   "cell_type": "markdown",
   "id": "6250ec79-52a3-451c-9eba-5566b7128b28",
   "metadata": {},
   "source": [
    "#### step2: extract top 200 ranking universities of each year and add ranking index to the universities in each year, then aggregate them by country"
   ]
  },
  {
   "cell_type": "code",
   "execution_count": 5,
   "id": "2df0600e-ef90-4021-a334-34bf78587a44",
   "metadata": {},
   "outputs": [],
   "source": [
    "# create a dictionary to store the top 200 universities for each year\n",
    "top_200_per_year = {}\n",
    "# create a list to store the aggregated data frames for all years\n",
    "aggregated_dataframes_all_years = []\n",
    "for year_number in range(2017, 2023):  # Include 2022 as well\n",
    "    # Using boolean indexing to select rows for each year\n",
    "    data_year=ranking[ranking['year'] == year_number] \n",
    "    # Select columns of interest\n",
    "    data_year = data_year[['university', 'year', 'rank_display', 'country', 'region']]\n",
    "    # Convert rank_display to a numeric value\n",
    "    data_year['rank_display'] = pd.to_numeric(data_year['rank_display'], errors='coerce')\n",
    "    # Sort the data by the numeric rank and keep the top 200 universities\n",
    "    top_200 = data_year.sort_values('rank_display').head(200)\n",
    "    # Generate the ranking index in reverse to make sure higher ranking has bigger index\n",
    "    top_200['ranking index'] = np.arange(200, 0, -1)[:len(top_200)]\n",
    "    # Store in the top_200_per_year dictionary\n",
    "    top_200_per_year[year_number] = top_200\n",
    "    # Sort the ranking index by country and sum them up\n",
    "    aggregated_data = top_200.groupby('country')['ranking index'].sum().reset_index()\n",
    "    # Add a year column to the aggregated data\n",
    "    aggregated_data['year'] = year_number\n",
    "    # Rearrange columns in the order: country, year, ranking index\n",
    "    aggregated_data = aggregated_data[['country', 'year', 'ranking index']]\n",
    "    # Append to the list\n",
    "    aggregated_dataframes_all_years.append(aggregated_data)"
   ]
  },
  {
   "cell_type": "markdown",
   "id": "2286769f-2697-40ad-9aac-d787c07755cf",
   "metadata": {},
   "source": [
    "#### step3: combine the data and select countries that appear in all years"
   ]
  },
  {
   "cell_type": "code",
   "execution_count": 6,
   "id": "a23f7676-ecc6-4263-bd4f-e3fbec456b6e",
   "metadata": {},
   "outputs": [],
   "source": [
    "# Concatenate all the data frames in the list into a single data frame\n",
    "combined_aggregated_data = pd.concat(aggregated_dataframes_all_years, ignore_index=True)\n",
    "# Keep the countries that appear in all six years\n",
    "countries_in_all_years = combined_aggregated_data['country'].value_counts()\n",
    "countries_in_all_years = countries_in_all_years[countries_in_all_years == 6].index.tolist()\n",
    "# Filter the combined_aggregated_data to include only these countries\n",
    "filtered_aggregated_data = combined_aggregated_data[combined_aggregated_data['country'].isin(countries_in_all_years)]\n",
    "# The filtered_aggregated_data now contains only the countries that appear in all 6 years (from 2017 to 2022)"
   ]
  },
  {
   "cell_type": "code",
   "execution_count": 8,
   "id": "e74db359-1ed3-4e4a-89ef-e8c42da595e5",
   "metadata": {
    "scrolled": true
   },
   "outputs": [
    {
     "data": {
      "text/html": [
       "<div>\n",
       "<style scoped>\n",
       "    .dataframe tbody tr th:only-of-type {\n",
       "        vertical-align: middle;\n",
       "    }\n",
       "\n",
       "    .dataframe tbody tr th {\n",
       "        vertical-align: top;\n",
       "    }\n",
       "\n",
       "    .dataframe thead th {\n",
       "        text-align: right;\n",
       "    }\n",
       "</style>\n",
       "<table border=\"1\" class=\"dataframe\">\n",
       "  <thead>\n",
       "    <tr style=\"text-align: right;\">\n",
       "      <th></th>\n",
       "      <th>country</th>\n",
       "      <th>year</th>\n",
       "      <th>ranking index</th>\n",
       "    </tr>\n",
       "  </thead>\n",
       "  <tbody>\n",
       "    <tr>\n",
       "      <th>0</th>\n",
       "      <td>Argentina</td>\n",
       "      <td>2017</td>\n",
       "      <td>116</td>\n",
       "    </tr>\n",
       "    <tr>\n",
       "      <th>1</th>\n",
       "      <td>Australia</td>\n",
       "      <td>2017</td>\n",
       "      <td>1110</td>\n",
       "    </tr>\n",
       "    <tr>\n",
       "      <th>2</th>\n",
       "      <td>Austria</td>\n",
       "      <td>2017</td>\n",
       "      <td>63</td>\n",
       "    </tr>\n",
       "    <tr>\n",
       "      <th>3</th>\n",
       "      <td>Belgium</td>\n",
       "      <td>2017</td>\n",
       "      <td>257</td>\n",
       "    </tr>\n",
       "    <tr>\n",
       "      <th>4</th>\n",
       "      <td>Brazil</td>\n",
       "      <td>2017</td>\n",
       "      <td>90</td>\n",
       "    </tr>\n",
       "  </tbody>\n",
       "</table>\n",
       "</div>"
      ],
      "text/plain": [
       "     country  year  ranking index\n",
       "0  Argentina  2017            116\n",
       "1  Australia  2017           1110\n",
       "2    Austria  2017             63\n",
       "3    Belgium  2017            257\n",
       "4     Brazil  2017             90"
      ]
     },
     "execution_count": 8,
     "metadata": {},
     "output_type": "execute_result"
    }
   ],
   "source": [
    "filtered_aggregated_data.head()"
   ]
  },
  {
   "cell_type": "markdown",
   "id": "15c8b570-f59e-4d02-98ea-2a278971482c",
   "metadata": {},
   "source": [
    "Add covariates from another 2 datasets"
   ]
  },
  {
   "cell_type": "code",
   "execution_count": 9,
   "id": "6ba7203d-c428-4c88-9c0a-757fce5559fc",
   "metadata": {},
   "outputs": [],
   "source": [
    "variable_data = pd.read_csv('variable_data_copy.csv')"
   ]
  },
  {
   "cell_type": "code",
   "execution_count": 10,
   "id": "3b053afa-7cb7-4d45-b3ea-ef94eb8b3b11",
   "metadata": {},
   "outputs": [
    {
     "data": {
      "text/html": [
       "<div>\n",
       "<style scoped>\n",
       "    .dataframe tbody tr th:only-of-type {\n",
       "        vertical-align: middle;\n",
       "    }\n",
       "\n",
       "    .dataframe tbody tr th {\n",
       "        vertical-align: top;\n",
       "    }\n",
       "\n",
       "    .dataframe thead th {\n",
       "        text-align: right;\n",
       "    }\n",
       "</style>\n",
       "<table border=\"1\" class=\"dataframe\">\n",
       "  <thead>\n",
       "    <tr style=\"text-align: right;\">\n",
       "      <th></th>\n",
       "      <th>Country</th>\n",
       "      <th>Code</th>\n",
       "      <th>ContinentCode</th>\n",
       "      <th>Year</th>\n",
       "      <th>Economic growth: the rate of change of real GDP</th>\n",
       "      <th>Gross Domestic Product billions of 2010 U.S. dollars</th>\n",
       "      <th>Unemployment rate</th>\n",
       "      <th>Exports of goods and services billion USD</th>\n",
       "      <th>Exports of goods and services annual growth</th>\n",
       "      <th>Current account balance billion USD</th>\n",
       "    </tr>\n",
       "  </thead>\n",
       "  <tbody>\n",
       "    <tr>\n",
       "      <th>0</th>\n",
       "      <td>Argentina</td>\n",
       "      <td>ARG</td>\n",
       "      <td>SA</td>\n",
       "      <td>2017</td>\n",
       "      <td>2.82</td>\n",
       "      <td>598.8</td>\n",
       "      <td>8.35</td>\n",
       "      <td>72.86</td>\n",
       "      <td>2.62</td>\n",
       "      <td>-31.15</td>\n",
       "    </tr>\n",
       "    <tr>\n",
       "      <th>1</th>\n",
       "      <td>Argentina</td>\n",
       "      <td>ARG</td>\n",
       "      <td>SA</td>\n",
       "      <td>2018</td>\n",
       "      <td>-2.62</td>\n",
       "      <td>583.1</td>\n",
       "      <td>9.22</td>\n",
       "      <td>75.77</td>\n",
       "      <td>0.65</td>\n",
       "      <td>-27.08</td>\n",
       "    </tr>\n",
       "    <tr>\n",
       "      <th>2</th>\n",
       "      <td>Argentina</td>\n",
       "      <td>ARG</td>\n",
       "      <td>SA</td>\n",
       "      <td>2019</td>\n",
       "      <td>-2.00</td>\n",
       "      <td>571.5</td>\n",
       "      <td>9.84</td>\n",
       "      <td>80.26</td>\n",
       "      <td>9.75</td>\n",
       "      <td>-3.49</td>\n",
       "    </tr>\n",
       "    <tr>\n",
       "      <th>3</th>\n",
       "      <td>Argentina</td>\n",
       "      <td>ARG</td>\n",
       "      <td>SA</td>\n",
       "      <td>2020</td>\n",
       "      <td>-9.94</td>\n",
       "      <td>514.6</td>\n",
       "      <td>11.46</td>\n",
       "      <td>64.04</td>\n",
       "      <td>-17.71</td>\n",
       "      <td>3.12</td>\n",
       "    </tr>\n",
       "    <tr>\n",
       "      <th>4</th>\n",
       "      <td>Argentina</td>\n",
       "      <td>ARG</td>\n",
       "      <td>SA</td>\n",
       "      <td>2021</td>\n",
       "      <td>10.40</td>\n",
       "      <td>568.1</td>\n",
       "      <td>8.74</td>\n",
       "      <td>87.87</td>\n",
       "      <td>9.22</td>\n",
       "      <td>6.71</td>\n",
       "    </tr>\n",
       "  </tbody>\n",
       "</table>\n",
       "</div>"
      ],
      "text/plain": [
       "     Country Code ContinentCode  Year  \\\n",
       "0  Argentina  ARG            SA  2017   \n",
       "1  Argentina  ARG            SA  2018   \n",
       "2  Argentina  ARG            SA  2019   \n",
       "3  Argentina  ARG            SA  2020   \n",
       "4  Argentina  ARG            SA  2021   \n",
       "\n",
       "   Economic growth: the rate of change of real GDP  \\\n",
       "0                                             2.82   \n",
       "1                                            -2.62   \n",
       "2                                            -2.00   \n",
       "3                                            -9.94   \n",
       "4                                            10.40   \n",
       "\n",
       "   Gross Domestic Product billions of 2010 U.S. dollars  Unemployment rate  \\\n",
       "0                                              598.8                  8.35   \n",
       "1                                              583.1                  9.22   \n",
       "2                                              571.5                  9.84   \n",
       "3                                              514.6                 11.46   \n",
       "4                                              568.1                  8.74   \n",
       "\n",
       "   Exports of goods and services billion USD  \\\n",
       "0                                      72.86   \n",
       "1                                      75.77   \n",
       "2                                      80.26   \n",
       "3                                      64.04   \n",
       "4                                      87.87   \n",
       "\n",
       "   Exports of goods and services annual growth  \\\n",
       "0                                         2.62   \n",
       "1                                         0.65   \n",
       "2                                         9.75   \n",
       "3                                       -17.71   \n",
       "4                                         9.22   \n",
       "\n",
       "   Current account balance billion USD  \n",
       "0                               -31.15  \n",
       "1                               -27.08  \n",
       "2                                -3.49  \n",
       "3                                 3.12  \n",
       "4                                 6.71  "
      ]
     },
     "execution_count": 10,
     "metadata": {},
     "output_type": "execute_result"
    }
   ],
   "source": [
    "variable_data.head()"
   ]
  },
  {
   "cell_type": "code",
   "execution_count": 11,
   "id": "390ec815-3ffe-4b56-95e5-f93d9b19ab44",
   "metadata": {},
   "outputs": [
    {
     "data": {
      "text/html": [
       "<div>\n",
       "<style scoped>\n",
       "    .dataframe tbody tr th:only-of-type {\n",
       "        vertical-align: middle;\n",
       "    }\n",
       "\n",
       "    .dataframe tbody tr th {\n",
       "        vertical-align: top;\n",
       "    }\n",
       "\n",
       "    .dataframe thead th {\n",
       "        text-align: right;\n",
       "    }\n",
       "</style>\n",
       "<table border=\"1\" class=\"dataframe\">\n",
       "  <thead>\n",
       "    <tr style=\"text-align: right;\">\n",
       "      <th></th>\n",
       "      <th>Country</th>\n",
       "      <th>Code</th>\n",
       "      <th>ContinentCode</th>\n",
       "      <th>Year</th>\n",
       "      <th>GDP per capita constant 2010 dollars</th>\n",
       "      <th>Capital investment as percent of GDP</th>\n",
       "      <th>Capital investment billion USD</th>\n",
       "      <th>Household consumption as percent of GDP</th>\n",
       "      <th>Household consumption billion USD</th>\n",
       "      <th>Labor force million people</th>\n",
       "      <th>Government spending as percent of GDP</th>\n",
       "      <th>Government spending billion USD</th>\n",
       "      <th>Population growth percent</th>\n",
       "      <th>Happiness Index 0 (unhappy) - 10 (happy)</th>\n",
       "    </tr>\n",
       "  </thead>\n",
       "  <tbody>\n",
       "    <tr>\n",
       "      <th>0</th>\n",
       "      <td>Argentina</td>\n",
       "      <td>ARG</td>\n",
       "      <td>SA</td>\n",
       "      <td>2017</td>\n",
       "      <td>13595.04</td>\n",
       "      <td>18.21</td>\n",
       "      <td>117.22</td>\n",
       "      <td>66.74</td>\n",
       "      <td>429.55</td>\n",
       "      <td>19.58</td>\n",
       "      <td>17.70</td>\n",
       "      <td>113.90</td>\n",
       "      <td>1.04</td>\n",
       "      <td>6.60</td>\n",
       "    </tr>\n",
       "    <tr>\n",
       "      <th>1</th>\n",
       "      <td>Argentina</td>\n",
       "      <td>ARG</td>\n",
       "      <td>SA</td>\n",
       "      <td>2018</td>\n",
       "      <td>13105.40</td>\n",
       "      <td>16.61</td>\n",
       "      <td>87.19</td>\n",
       "      <td>69.47</td>\n",
       "      <td>364.59</td>\n",
       "      <td>20.10</td>\n",
       "      <td>15.81</td>\n",
       "      <td>82.95</td>\n",
       "      <td>1.02</td>\n",
       "      <td>6.39</td>\n",
       "    </tr>\n",
       "    <tr>\n",
       "      <th>2</th>\n",
       "      <td>Argentina</td>\n",
       "      <td>ARG</td>\n",
       "      <td>SA</td>\n",
       "      <td>2019</td>\n",
       "      <td>12716.22</td>\n",
       "      <td>14.21</td>\n",
       "      <td>63.63</td>\n",
       "      <td>66.13</td>\n",
       "      <td>296.09</td>\n",
       "      <td>20.61</td>\n",
       "      <td>16.44</td>\n",
       "      <td>73.63</td>\n",
       "      <td>0.99</td>\n",
       "      <td>6.09</td>\n",
       "    </tr>\n",
       "    <tr>\n",
       "      <th>3</th>\n",
       "      <td>Argentina</td>\n",
       "      <td>ARG</td>\n",
       "      <td>SA</td>\n",
       "      <td>2020</td>\n",
       "      <td>11341.27</td>\n",
       "      <td>14.13</td>\n",
       "      <td>54.48</td>\n",
       "      <td>63.79</td>\n",
       "      <td>245.94</td>\n",
       "      <td>19.41</td>\n",
       "      <td>16.89</td>\n",
       "      <td>65.12</td>\n",
       "      <td>0.97</td>\n",
       "      <td>5.93</td>\n",
       "    </tr>\n",
       "    <tr>\n",
       "      <th>4</th>\n",
       "      <td>Argentina</td>\n",
       "      <td>ARG</td>\n",
       "      <td>SA</td>\n",
       "      <td>2021</td>\n",
       "      <td>12402.49</td>\n",
       "      <td>17.47</td>\n",
       "      <td>85.14</td>\n",
       "      <td>60.89</td>\n",
       "      <td>296.69</td>\n",
       "      <td>21.19</td>\n",
       "      <td>15.84</td>\n",
       "      <td>77.19</td>\n",
       "      <td>0.95</td>\n",
       "      <td>5.97</td>\n",
       "    </tr>\n",
       "  </tbody>\n",
       "</table>\n",
       "</div>"
      ],
      "text/plain": [
       "     Country Code ContinentCode  Year  GDP per capita constant 2010 dollars  \\\n",
       "0  Argentina  ARG            SA  2017                              13595.04   \n",
       "1  Argentina  ARG            SA  2018                              13105.40   \n",
       "2  Argentina  ARG            SA  2019                              12716.22   \n",
       "3  Argentina  ARG            SA  2020                              11341.27   \n",
       "4  Argentina  ARG            SA  2021                              12402.49   \n",
       "\n",
       "   Capital investment as percent of GDP  Capital investment billion USD  \\\n",
       "0                                 18.21                          117.22   \n",
       "1                                 16.61                           87.19   \n",
       "2                                 14.21                           63.63   \n",
       "3                                 14.13                           54.48   \n",
       "4                                 17.47                           85.14   \n",
       "\n",
       "   Household consumption as percent of GDP  Household consumption billion USD  \\\n",
       "0                                    66.74                             429.55   \n",
       "1                                    69.47                             364.59   \n",
       "2                                    66.13                             296.09   \n",
       "3                                    63.79                             245.94   \n",
       "4                                    60.89                             296.69   \n",
       "\n",
       "   Labor force million people  Government spending as percent of GDP  \\\n",
       "0                       19.58                                  17.70   \n",
       "1                       20.10                                  15.81   \n",
       "2                       20.61                                  16.44   \n",
       "3                       19.41                                  16.89   \n",
       "4                       21.19                                  15.84   \n",
       "\n",
       "   Government spending billion USD  Population growth percent  \\\n",
       "0                           113.90                       1.04   \n",
       "1                            82.95                       1.02   \n",
       "2                            73.63                       0.99   \n",
       "3                            65.12                       0.97   \n",
       "4                            77.19                       0.95   \n",
       "\n",
       "   Happiness Index 0 (unhappy) - 10 (happy)  \n",
       "0                                      6.60  \n",
       "1                                      6.39  \n",
       "2                                      6.09  \n",
       "3                                      5.93  \n",
       "4                                      5.97  "
      ]
     },
     "execution_count": 11,
     "metadata": {},
     "output_type": "execute_result"
    }
   ],
   "source": [
    "new_variable = pd.read_csv('new_variable_copy.csv')\n",
    "new_variable.head()"
   ]
  },
  {
   "cell_type": "code",
   "execution_count": 25,
   "id": "ea8e6de0-a319-4f1c-9b1e-7e5672e0f077",
   "metadata": {},
   "outputs": [],
   "source": [
    "#make sure the column names align with the ones in filtered_aggregated_data\n",
    "variable_data.rename(columns={'Country': 'country'}, inplace=True)\n",
    "variable_data.rename(columns={'Year': 'year'}, inplace=True)\n",
    "new_variable.rename(columns={'Country': 'country'}, inplace=True)\n",
    "new_variable.rename(columns={'Year': 'year'}, inplace=True)"
   ]
  },
  {
   "cell_type": "code",
   "execution_count": 14,
   "id": "f7c2a366-39d4-4069-8bea-e3b368cf9126",
   "metadata": {},
   "outputs": [],
   "source": [
    "variable_data['country'] = variable_data['country'].replace({\n",
    "    'China': 'China (Mainland)',\n",
    "    'Hong Kong': 'Hong Kong SAR',\n",
    "    'USA': 'United States'\n",
    "})"
   ]
  },
  {
   "cell_type": "code",
   "execution_count": 15,
   "id": "056d2cd5-b70e-4f97-bf3a-ff3d2f656c6c",
   "metadata": {},
   "outputs": [],
   "source": [
    "new_variable['country'] = new_variable['country'].replace({\n",
    "    'China': 'China (Mainland)',\n",
    "    'Hong Kong': 'Hong Kong SAR',\n",
    "    'USA': 'United States'\n",
    "})"
   ]
  },
  {
   "cell_type": "code",
   "execution_count": 26,
   "id": "afadbab3-25d2-4025-b20d-e7ec93240fdc",
   "metadata": {},
   "outputs": [],
   "source": [
    "# Merge the two dataframes\n",
    "merged_data = pd.merge(variable_data, filtered_aggregated_data, on=['country', 'year'], how='left')\n",
    "merged_data = pd.merge(new_variable, merged_data, on=['country', 'year',\"Code\",\"ContinentCode\"], how='left')"
   ]
  },
  {
   "cell_type": "markdown",
   "id": "9683c066-5e20-404b-bd5c-7712654ecd6f",
   "metadata": {},
   "source": [
    "### merged_data dataframe will now contain all columns of variable_data and new_variable, plus 'ranking index' from filtered_aggregated_data for each country and each year"
   ]
  },
  {
   "cell_type": "code",
   "execution_count": 27,
   "id": "82ddd7a7-a05c-43b7-a29c-0311da40be10",
   "metadata": {},
   "outputs": [
    {
     "data": {
      "text/html": [
       "<div>\n",
       "<style scoped>\n",
       "    .dataframe tbody tr th:only-of-type {\n",
       "        vertical-align: middle;\n",
       "    }\n",
       "\n",
       "    .dataframe tbody tr th {\n",
       "        vertical-align: top;\n",
       "    }\n",
       "\n",
       "    .dataframe thead th {\n",
       "        text-align: right;\n",
       "    }\n",
       "</style>\n",
       "<table border=\"1\" class=\"dataframe\">\n",
       "  <thead>\n",
       "    <tr style=\"text-align: right;\">\n",
       "      <th></th>\n",
       "      <th>country</th>\n",
       "      <th>Code</th>\n",
       "      <th>ContinentCode</th>\n",
       "      <th>year</th>\n",
       "      <th>GDP per capita constant 2010 dollars</th>\n",
       "      <th>Capital investment as percent of GDP</th>\n",
       "      <th>Capital investment billion USD</th>\n",
       "      <th>Household consumption as percent of GDP</th>\n",
       "      <th>Household consumption billion USD</th>\n",
       "      <th>Labor force million people</th>\n",
       "      <th>...</th>\n",
       "      <th>Government spending billion USD</th>\n",
       "      <th>Population growth percent</th>\n",
       "      <th>Happiness Index 0 (unhappy) - 10 (happy)</th>\n",
       "      <th>Economic growth: the rate of change of real GDP</th>\n",
       "      <th>Gross Domestic Product billions of 2010 U.S. dollars</th>\n",
       "      <th>Unemployment rate</th>\n",
       "      <th>Exports of goods and services billion USD</th>\n",
       "      <th>Exports of goods and services annual growth</th>\n",
       "      <th>Current account balance billion USD</th>\n",
       "      <th>ranking index</th>\n",
       "    </tr>\n",
       "  </thead>\n",
       "  <tbody>\n",
       "    <tr>\n",
       "      <th>0</th>\n",
       "      <td>Argentina</td>\n",
       "      <td>ARG</td>\n",
       "      <td>SA</td>\n",
       "      <td>2017</td>\n",
       "      <td>13595.04</td>\n",
       "      <td>18.21</td>\n",
       "      <td>117.22</td>\n",
       "      <td>66.74</td>\n",
       "      <td>429.55</td>\n",
       "      <td>19.58</td>\n",
       "      <td>...</td>\n",
       "      <td>113.90</td>\n",
       "      <td>1.04</td>\n",
       "      <td>6.60</td>\n",
       "      <td>2.82</td>\n",
       "      <td>598.8</td>\n",
       "      <td>8.35</td>\n",
       "      <td>72.86</td>\n",
       "      <td>2.62</td>\n",
       "      <td>-31.15</td>\n",
       "      <td>116</td>\n",
       "    </tr>\n",
       "    <tr>\n",
       "      <th>1</th>\n",
       "      <td>Argentina</td>\n",
       "      <td>ARG</td>\n",
       "      <td>SA</td>\n",
       "      <td>2018</td>\n",
       "      <td>13105.40</td>\n",
       "      <td>16.61</td>\n",
       "      <td>87.19</td>\n",
       "      <td>69.47</td>\n",
       "      <td>364.59</td>\n",
       "      <td>20.10</td>\n",
       "      <td>...</td>\n",
       "      <td>82.95</td>\n",
       "      <td>1.02</td>\n",
       "      <td>6.39</td>\n",
       "      <td>-2.62</td>\n",
       "      <td>583.1</td>\n",
       "      <td>9.22</td>\n",
       "      <td>75.77</td>\n",
       "      <td>0.65</td>\n",
       "      <td>-27.08</td>\n",
       "      <td>126</td>\n",
       "    </tr>\n",
       "    <tr>\n",
       "      <th>2</th>\n",
       "      <td>Argentina</td>\n",
       "      <td>ARG</td>\n",
       "      <td>SA</td>\n",
       "      <td>2019</td>\n",
       "      <td>12716.22</td>\n",
       "      <td>14.21</td>\n",
       "      <td>63.63</td>\n",
       "      <td>66.13</td>\n",
       "      <td>296.09</td>\n",
       "      <td>20.61</td>\n",
       "      <td>...</td>\n",
       "      <td>73.63</td>\n",
       "      <td>0.99</td>\n",
       "      <td>6.09</td>\n",
       "      <td>-2.00</td>\n",
       "      <td>571.5</td>\n",
       "      <td>9.84</td>\n",
       "      <td>80.26</td>\n",
       "      <td>9.75</td>\n",
       "      <td>-3.49</td>\n",
       "      <td>128</td>\n",
       "    </tr>\n",
       "    <tr>\n",
       "      <th>3</th>\n",
       "      <td>Argentina</td>\n",
       "      <td>ARG</td>\n",
       "      <td>SA</td>\n",
       "      <td>2020</td>\n",
       "      <td>11341.27</td>\n",
       "      <td>14.13</td>\n",
       "      <td>54.48</td>\n",
       "      <td>63.79</td>\n",
       "      <td>245.94</td>\n",
       "      <td>19.41</td>\n",
       "      <td>...</td>\n",
       "      <td>65.12</td>\n",
       "      <td>0.97</td>\n",
       "      <td>5.93</td>\n",
       "      <td>-9.94</td>\n",
       "      <td>514.6</td>\n",
       "      <td>11.46</td>\n",
       "      <td>64.04</td>\n",
       "      <td>-17.71</td>\n",
       "      <td>3.12</td>\n",
       "      <td>128</td>\n",
       "    </tr>\n",
       "    <tr>\n",
       "      <th>4</th>\n",
       "      <td>Argentina</td>\n",
       "      <td>ARG</td>\n",
       "      <td>SA</td>\n",
       "      <td>2021</td>\n",
       "      <td>12402.49</td>\n",
       "      <td>17.47</td>\n",
       "      <td>85.14</td>\n",
       "      <td>60.89</td>\n",
       "      <td>296.69</td>\n",
       "      <td>21.19</td>\n",
       "      <td>...</td>\n",
       "      <td>77.19</td>\n",
       "      <td>0.95</td>\n",
       "      <td>5.97</td>\n",
       "      <td>10.40</td>\n",
       "      <td>568.1</td>\n",
       "      <td>8.74</td>\n",
       "      <td>87.87</td>\n",
       "      <td>9.22</td>\n",
       "      <td>6.71</td>\n",
       "      <td>133</td>\n",
       "    </tr>\n",
       "  </tbody>\n",
       "</table>\n",
       "<p>5 rows × 21 columns</p>\n",
       "</div>"
      ],
      "text/plain": [
       "     country Code ContinentCode  year  GDP per capita constant 2010 dollars  \\\n",
       "0  Argentina  ARG            SA  2017                              13595.04   \n",
       "1  Argentina  ARG            SA  2018                              13105.40   \n",
       "2  Argentina  ARG            SA  2019                              12716.22   \n",
       "3  Argentina  ARG            SA  2020                              11341.27   \n",
       "4  Argentina  ARG            SA  2021                              12402.49   \n",
       "\n",
       "   Capital investment as percent of GDP  Capital investment billion USD  \\\n",
       "0                                 18.21                          117.22   \n",
       "1                                 16.61                           87.19   \n",
       "2                                 14.21                           63.63   \n",
       "3                                 14.13                           54.48   \n",
       "4                                 17.47                           85.14   \n",
       "\n",
       "   Household consumption as percent of GDP  Household consumption billion USD  \\\n",
       "0                                    66.74                             429.55   \n",
       "1                                    69.47                             364.59   \n",
       "2                                    66.13                             296.09   \n",
       "3                                    63.79                             245.94   \n",
       "4                                    60.89                             296.69   \n",
       "\n",
       "   Labor force million people  ...  Government spending billion USD  \\\n",
       "0                       19.58  ...                           113.90   \n",
       "1                       20.10  ...                            82.95   \n",
       "2                       20.61  ...                            73.63   \n",
       "3                       19.41  ...                            65.12   \n",
       "4                       21.19  ...                            77.19   \n",
       "\n",
       "   Population growth percent  Happiness Index 0 (unhappy) - 10 (happy)  \\\n",
       "0                       1.04                                      6.60   \n",
       "1                       1.02                                      6.39   \n",
       "2                       0.99                                      6.09   \n",
       "3                       0.97                                      5.93   \n",
       "4                       0.95                                      5.97   \n",
       "\n",
       "   Economic growth: the rate of change of real GDP  \\\n",
       "0                                             2.82   \n",
       "1                                            -2.62   \n",
       "2                                            -2.00   \n",
       "3                                            -9.94   \n",
       "4                                            10.40   \n",
       "\n",
       "   Gross Domestic Product billions of 2010 U.S. dollars  Unemployment rate  \\\n",
       "0                                              598.8                  8.35   \n",
       "1                                              583.1                  9.22   \n",
       "2                                              571.5                  9.84   \n",
       "3                                              514.6                 11.46   \n",
       "4                                              568.1                  8.74   \n",
       "\n",
       "   Exports of goods and services billion USD  \\\n",
       "0                                      72.86   \n",
       "1                                      75.77   \n",
       "2                                      80.26   \n",
       "3                                      64.04   \n",
       "4                                      87.87   \n",
       "\n",
       "   Exports of goods and services annual growth  \\\n",
       "0                                         2.62   \n",
       "1                                         0.65   \n",
       "2                                         9.75   \n",
       "3                                       -17.71   \n",
       "4                                         9.22   \n",
       "\n",
       "   Current account balance billion USD  ranking index  \n",
       "0                               -31.15            116  \n",
       "1                               -27.08            126  \n",
       "2                                -3.49            128  \n",
       "3                                 3.12            128  \n",
       "4                                 6.71            133  \n",
       "\n",
       "[5 rows x 21 columns]"
      ]
     },
     "execution_count": 27,
     "metadata": {},
     "output_type": "execute_result"
    }
   ],
   "source": [
    "merged_data.head()"
   ]
  },
  {
   "cell_type": "code",
   "execution_count": 28,
   "id": "566f651e-a0e6-435c-8eaa-e5a8f26961f1",
   "metadata": {},
   "outputs": [],
   "source": [
    "merged_data.to_csv('merged_data.csv', index=False)"
   ]
  },
  {
   "cell_type": "code",
   "execution_count": 3,
   "id": "2929baa1-32e8-4304-a59c-bdd756525dce",
   "metadata": {},
   "outputs": [],
   "source": [
    "merged_data = pd.read_csv('merged_data.csv')"
   ]
  },
  {
   "cell_type": "markdown",
   "id": "c8d4805f-4bec-4d4d-87fe-f4526ce42f71",
   "metadata": {},
   "source": [
    "### Regression models"
   ]
  },
  {
   "cell_type": "code",
   "execution_count": 4,
   "id": "30138229-b951-4128-8d26-48ef1130e0a0",
   "metadata": {},
   "outputs": [
    {
     "name": "stdout",
     "output_type": "stream",
     "text": [
      "Are there NaN values in 'ranking index'? False\n",
      "Are there inf values in 'ranking index'? False\n"
     ]
    }
   ],
   "source": [
    "# Check for na values in 'ranking index'\n",
    "nan_exists = merged_data['ranking index'].isna().any()\n",
    "print(f\"Are there NaN values in 'ranking index'? {nan_exists}\")\n",
    "# Check for inf (infinite) values in 'ranking index'\n",
    "inf_exists = merged_data['ranking index'].replace([np.inf, -np.inf], np.nan).isna().any()\n",
    "print(f\"Are there inf values in 'ranking index'? {inf_exists}\")"
   ]
  },
  {
   "cell_type": "code",
   "execution_count": 5,
   "id": "937b1e28-0e11-4eee-9a08-e4cf1674f057",
   "metadata": {
    "collapsed": true,
    "jupyter": {
     "outputs_hidden": true
    },
    "scrolled": true
   },
   "outputs": [
    {
     "name": "stdout",
     "output_type": "stream",
     "text": [
      "\u001b[33mWARNING: Skipping /opt/conda/lib/python3.11/site-packages/nlopt-2.7.1.dist-info due to invalid metadata entry 'name'\u001b[0m\u001b[33m\n",
      "\u001b[0m\u001b[33mWARNING: Skipping /opt/conda/lib/python3.11/site-packages/nlopt-2.7.1.dist-info due to invalid metadata entry 'name'\u001b[0m\u001b[33m\n",
      "\u001b[0mRequirement already satisfied: statsmodels in /opt/conda/lib/python3.11/site-packages (0.14.0)\n",
      "Requirement already satisfied: numpy>=1.18 in /opt/conda/lib/python3.11/site-packages (from statsmodels) (1.24.4)\n",
      "Requirement already satisfied: scipy!=1.9.2,>=1.4 in /opt/conda/lib/python3.11/site-packages (from statsmodels) (1.11.1)\n",
      "Requirement already satisfied: pandas>=1.0 in /opt/conda/lib/python3.11/site-packages (from statsmodels) (1.5.3)\n",
      "Requirement already satisfied: patsy>=0.5.2 in /opt/conda/lib/python3.11/site-packages (from statsmodels) (0.5.3)\n",
      "Requirement already satisfied: packaging>=21.3 in /opt/conda/lib/python3.11/site-packages (from statsmodels) (23.1)\n",
      "Requirement already satisfied: python-dateutil>=2.8.1 in /opt/conda/lib/python3.11/site-packages (from pandas>=1.0->statsmodels) (2.8.2)\n",
      "Requirement already satisfied: pytz>=2020.1 in /opt/conda/lib/python3.11/site-packages (from pandas>=1.0->statsmodels) (2023.3)\n",
      "Requirement already satisfied: six in /opt/conda/lib/python3.11/site-packages (from patsy>=0.5.2->statsmodels) (1.16.0)\n",
      "\u001b[33mWARNING: Skipping /opt/conda/lib/python3.11/site-packages/nlopt-2.7.1.dist-info due to invalid metadata entry 'name'\u001b[0m\u001b[33m\n",
      "\u001b[0mNote: you may need to restart the kernel to use updated packages.\n"
     ]
    }
   ],
   "source": [
    "pip install statsmodels"
   ]
  },
  {
   "cell_type": "code",
   "execution_count": 6,
   "id": "4abc4be5-b527-45e2-aaf1-fc3b656e443c",
   "metadata": {
    "scrolled": true
   },
   "outputs": [
    {
     "name": "stdout",
     "output_type": "stream",
     "text": [
      "Indices of NaN values in 'Economic growth: the rate of change of real GDP': []\n",
      "Indices of inf values in 'Economic growth: the rate of change of real GDP': []\n",
      "Indices of NaN values in 'Gross Domestic Product billions of 2010 U.S. dollars': []\n",
      "Indices of inf values in 'Gross Domestic Product billions of 2010 U.S. dollars': []\n",
      "Indices of NaN values in 'Unemployment rate': [143]\n",
      "Indices of inf values in 'Unemployment rate': []\n",
      "Indices of NaN values in 'Imports of goods and services billion USD': []\n",
      "Indices of inf values in 'Imports of goods and services billion USD': []\n",
      "Indices of NaN values in 'Current account balance billion USD': []\n",
      "Indices of inf values in 'Current account balance billion USD': []\n"
     ]
    }
   ],
   "source": [
    "# Specify the columns of interest\n",
    "columns_of_interest = ['Economic growth: the rate of change of real GDP', \n",
    "                       'Gross Domestic Product billions of 2010 U.S. dollars', \n",
    "                       'Unemployment rate', \n",
    "                       'Imports of goods and services billion USD', \n",
    "                       'Current account balance billion USD']\n",
    "\n",
    "# Iterate through each column and identify the indices of NaN and inf values\n",
    "for column in columns_of_interest:\n",
    "    # NaN values\n",
    "    nan_indices = merged_data[column][merged_data[column].isna()].index\n",
    "    print(f\"Indices of NaN values in '{column}': {nan_indices.tolist()}\")\n",
    "\n",
    "    # Inf values\n",
    "    inf_indices = merged_data[column][np.isinf(merged_data[column])].index\n",
    "    print(f\"Indices of inf values in '{column}': {inf_indices.tolist()}\")\n"
   ]
  },
  {
   "cell_type": "code",
   "execution_count": 7,
   "id": "c2232c86-496c-41fd-b699-c9da07141e90",
   "metadata": {},
   "outputs": [],
   "source": [
    "# Fill in the NaN value at index 143 in the 'Unemployment rate' column with 4.3\n",
    "merged_data.loc[143, 'Unemployment rate'] = 4.3\n",
    "\n",
    "# This will replace the NaN value at index 143 in the 'Unemployment rate' column with 4.3\n"
   ]
  },
  {
   "cell_type": "code",
   "execution_count": 8,
   "id": "5fe0aa55-5417-4390-84f5-ec9b20d54138",
   "metadata": {},
   "outputs": [
    {
     "name": "stdout",
     "output_type": "stream",
     "text": [
      "                          IV2SLS Regression Results                           \n",
      "==============================================================================\n",
      "Dep. Variable:          ranking index   R-squared:                   -7687.509\n",
      "Model:                         IV2SLS   Adj. R-squared:              -7894.190\n",
      "Method:                     Two Stage   F-statistic:                 4.089e-17\n",
      "                        Least Squares   Prob (F-statistic):               1.00\n",
      "Date:                Mon, 27 Nov 2023                                         \n",
      "Time:                        04:56:06                                         \n",
      "No. Observations:                 192                                         \n",
      "Df Residuals:                     186                                         \n",
      "Df Model:                           5                                         \n",
      "========================================================================================================================\n",
      "                                                           coef    std err          t      P>|t|      [0.025      0.975]\n",
      "------------------------------------------------------------------------------------------------------------------------\n",
      "const                                                -1672.2132        nan        nan        nan         nan         nan\n",
      "Economic growth: the rate of change of real GDP       -256.0000        nan        nan        nan         nan         nan\n",
      "Gross Domestic Product billions of 2010 U.S. dollars    -0.4375        nan        nan        nan         nan         nan\n",
      "Unemployment rate                                      384.0000        nan        nan        nan         nan         nan\n",
      "Imports of goods and services billion USD                     0   5.47e+08          0      1.000   -1.08e+09    1.08e+09\n",
      "Current account balance billion USD                    640.0000   8.91e+10   7.18e-09      1.000   -1.76e+11    1.76e+11\n",
      "==============================================================================\n",
      "Omnibus:                      168.258   Durbin-Watson:                   0.230\n",
      "Prob(Omnibus):                  0.000   Jarque-Bera (JB):             3215.962\n",
      "Skew:                           3.210   Prob(JB):                         0.00\n",
      "Kurtosis:                      21.994   Cond. No.                     1.46e+04\n",
      "==============================================================================\n"
     ]
    },
    {
     "name": "stderr",
     "output_type": "stream",
     "text": [
      "/opt/conda/lib/python3.11/site-packages/statsmodels/regression/linear_model.py:1883: RuntimeWarning: invalid value encountered in sqrt\n",
      "  return np.sqrt(np.diag(self.cov_params()))\n"
     ]
    }
   ],
   "source": [
    "import pandas as pd\n",
    "import statsmodels.api as sm\n",
    "from statsmodels.sandbox.regression.gmm import IV2SLS\n",
    "\n",
    "# Assuming your merged data is loaded into a DataFrame named 'merged_data'\n",
    "# merged_data = pd.read_csv('path_to_your_merged_data.csv')  # Load your merged data\n",
    "\n",
    "# Define the dependent variable\n",
    "y = merged_data['ranking index']\n",
    "\n",
    "# Define the independent variables and covariates\n",
    "X = merged_data[['Economic growth: the rate of change of real GDP', 'Gross Domestic Product billions of 2010 U.S. dollars', \n",
    "                 'Unemployment rate', 'Imports of goods and services billion USD', \n",
    "                 'Current account balance billion USD']]\n",
    "\n",
    "# Add a constant to the independent variables (if needed)\n",
    "X = sm.add_constant(X)\n",
    "\n",
    "# Define the instrumental variable\n",
    "instrument = merged_data['Exports of goods and services billion USD']\n",
    "\n",
    "# Perform the 2SLS regression\n",
    "model = IV2SLS(y, X, instrument).fit()\n",
    "\n",
    "# Print the summary of the regression results\n",
    "print(model.summary())"
   ]
  },
  {
   "cell_type": "code",
   "execution_count": 9,
   "id": "136213df-e2b2-438f-9ee5-92b79543b95a",
   "metadata": {},
   "outputs": [
    {
     "name": "stdout",
     "output_type": "stream",
     "text": [
      "                          IV2SLS Regression Results                           \n",
      "==============================================================================\n",
      "Dep. Variable:          ranking index   R-squared:                    -126.475\n",
      "Model:                         IV2SLS   Adj. R-squared:               -129.201\n",
      "Method:                     Two Stage   F-statistic:                 1.004e-15\n",
      "                        Least Squares   Prob (F-statistic):               1.00\n",
      "Date:                Mon, 27 Nov 2023                                         \n",
      "Time:                        04:56:11                                         \n",
      "No. Observations:                 192                                         \n",
      "Df Residuals:                     187                                         \n",
      "Df Model:                           4                                         \n",
      "========================================================================================================================\n",
      "                                                           coef    std err          t      P>|t|      [0.025      0.975]\n",
      "------------------------------------------------------------------------------------------------------------------------\n",
      "const                                                -4614.3538   2.35e+11  -1.96e-08      1.000   -4.64e+11    4.64e+11\n",
      "Economic growth: the rate of change of real GDP       2816.0000   2.31e+11   1.22e-08      1.000   -4.55e+11    4.55e+11\n",
      "Unemployment rate                                      640.0000    3.4e+10   1.88e-08      1.000    -6.7e+10     6.7e+10\n",
      "Imports of goods and services billion USD               -1.5000   3.13e+08   -4.8e-09      1.000   -6.17e+08    6.17e+08\n",
      "Gross Domestic Product billions of 2010 U.S. dollars    -0.5000   2.53e+07  -1.97e-08      1.000      -5e+07       5e+07\n",
      "==============================================================================\n",
      "Omnibus:                       11.290   Durbin-Watson:                   1.757\n",
      "Prob(Omnibus):                  0.004   Jarque-Bera (JB):               14.062\n",
      "Skew:                           0.425   Prob(JB):                     0.000884\n",
      "Kurtosis:                       4.018   Cond. No.                     1.46e+04\n",
      "==============================================================================\n"
     ]
    }
   ],
   "source": [
    "import pandas as pd\n",
    "import statsmodels.api as sm\n",
    "from statsmodels.sandbox.regression.gmm import IV2SLS\n",
    "\n",
    "# Assuming your merged data is loaded into a DataFrame named 'merged_data'\n",
    "# merged_data = pd.read_csv('path_to_your_merged_data.csv')  # Load your merged data\n",
    "\n",
    "# Define the dependent variable\n",
    "y = merged_data['ranking index']\n",
    "\n",
    "# Define the exogenous variables and covariates\n",
    "X = merged_data[['Economic growth: the rate of change of real GDP', \n",
    "                 'Unemployment rate', 'Imports of goods and services billion USD', ]]\n",
    "\n",
    "# Define the endogenous variable\n",
    "endog = merged_data['Gross Domestic Product billions of 2010 U.S. dollars']\n",
    "X = sm.add_constant(X.join(endog))  # Add a constant and include the endogenous variable\n",
    "\n",
    "# Define the instrumental variable\n",
    "instrument = merged_data['Exports of goods and services billion USD']\n",
    "\n",
    "# Perform the 2SLS regression\n",
    "model = IV2SLS(endog=y, exog=X, instrument=instrument).fit()\n",
    "\n",
    "# Print the summary of the regression results\n",
    "print(model.summary())"
   ]
  },
  {
   "cell_type": "code",
   "execution_count": 10,
   "id": "283ec608-5bd1-4722-a892-5ca6cecd91b6",
   "metadata": {},
   "outputs": [
    {
     "name": "stdout",
     "output_type": "stream",
     "text": [
      "                                           OLS Regression Results                                          \n",
      "===========================================================================================================\n",
      "Dep. Variable:     Economic growth: the rate of change of real GDP   R-squared:                       0.012\n",
      "Model:                                                         OLS   Adj. R-squared:                  0.007\n",
      "Method:                                              Least Squares   F-statistic:                     2.321\n",
      "Date:                                             Mon, 27 Nov 2023   Prob (F-statistic):              0.129\n",
      "Time:                                                     04:56:16   Log-Likelihood:                -537.39\n",
      "No. Observations:                                              192   AIC:                             1079.\n",
      "Df Residuals:                                                  190   BIC:                             1085.\n",
      "Df Model:                                                        1                                         \n",
      "Covariance Type:                                         nonrobust                                         \n",
      "=============================================================================================================\n",
      "                                                coef    std err          t      P>|t|      [0.025      0.975]\n",
      "-------------------------------------------------------------------------------------------------------------\n",
      "const                                         1.7432      0.402      4.334      0.000       0.950       2.537\n",
      "Exports of goods and services billion USD     0.0007      0.000      1.524      0.129      -0.000       0.002\n",
      "==============================================================================\n",
      "Omnibus:                       22.142   Durbin-Watson:                   2.053\n",
      "Prob(Omnibus):                  0.000   Jarque-Bera (JB):               34.510\n",
      "Skew:                          -0.650   Prob(JB):                     3.21e-08\n",
      "Kurtosis:                       4.619   Cond. No.                     1.25e+03\n",
      "==============================================================================\n",
      "\n",
      "Notes:\n",
      "[1] Standard Errors assume that the covariance matrix of the errors is correctly specified.\n",
      "[2] The condition number is large, 1.25e+03. This might indicate that there are\n",
      "strong multicollinearity or other numerical problems.\n"
     ]
    }
   ],
   "source": [
    "import pandas as pd\n",
    "import statsmodels.api as sm\n",
    "\n",
    "# Assuming your data is already loaded into a DataFrame named 'merged_data'\n",
    "# merged_data = pd.read_csv('path_to_your_data.csv')  # Load your data\n",
    "\n",
    "# Define the dependent variable (y) and independent variable (x)\n",
    "y = merged_data['Economic growth: the rate of change of real GDP']\n",
    "X = merged_data['Exports of goods and services billion USD']\n",
    "\n",
    "# Add a constant to the independent variable\n",
    "X = sm.add_constant(X)\n",
    "\n",
    "# Fit the linear regression model\n",
    "model = sm.OLS(y, X).fit()\n",
    "\n",
    "# Print the summary of the regression results\n",
    "print(model.summary())"
   ]
  },
  {
   "cell_type": "code",
   "execution_count": 11,
   "id": "7b751f5b-bc10-4fba-a043-f632af469e81",
   "metadata": {},
   "outputs": [
    {
     "name": "stdout",
     "output_type": "stream",
     "text": [
      "                                           OLS Regression Results                                          \n",
      "===========================================================================================================\n",
      "Dep. Variable:     Economic growth: the rate of change of real GDP   R-squared:                       0.607\n",
      "Model:                                                         OLS   Adj. R-squared:                  0.605\n",
      "Method:                                              Least Squares   F-statistic:                     293.3\n",
      "Date:                                             Mon, 27 Nov 2023   Prob (F-statistic):           2.25e-40\n",
      "Time:                                                     04:56:20   Log-Likelihood:                -448.93\n",
      "No. Observations:                                              192   AIC:                             901.9\n",
      "Df Residuals:                                                  190   BIC:                             908.4\n",
      "Df Model:                                                        1                                         \n",
      "Covariance Type:                                         nonrobust                                         \n",
      "===============================================================================================================\n",
      "                                                  coef    std err          t      P>|t|      [0.025      0.975]\n",
      "---------------------------------------------------------------------------------------------------------------\n",
      "const                                           1.0095      0.194      5.200      0.000       0.627       1.392\n",
      "Exports of goods and services annual growth     0.4394      0.026     17.125      0.000       0.389       0.490\n",
      "==============================================================================\n",
      "Omnibus:                       25.766   Durbin-Watson:                   1.698\n",
      "Prob(Omnibus):                  0.000   Jarque-Bera (JB):               63.861\n",
      "Skew:                           0.562   Prob(JB):                     1.36e-14\n",
      "Kurtosis:                       5.592   Cond. No.                         8.09\n",
      "==============================================================================\n",
      "\n",
      "Notes:\n",
      "[1] Standard Errors assume that the covariance matrix of the errors is correctly specified.\n"
     ]
    }
   ],
   "source": [
    "y = merged_data['Economic growth: the rate of change of real GDP']\n",
    "X = merged_data['Exports of goods and services annual growth']\n",
    "\n",
    "# Add a constant to the independent variable\n",
    "X = sm.add_constant(X)\n",
    "\n",
    "# Fit the linear regression model\n",
    "model = sm.OLS(y, X).fit()\n",
    "\n",
    "# Print the summary of the regression results\n",
    "print(model.summary())"
   ]
  },
  {
   "cell_type": "code",
   "execution_count": 12,
   "id": "9288d4e4-5499-4e65-bb9c-769b7ec8fdf1",
   "metadata": {
    "collapsed": true,
    "jupyter": {
     "outputs_hidden": true
    },
    "scrolled": true
   },
   "outputs": [
    {
     "ename": "KeyError",
     "evalue": "\"['Gross Domestic Product billions of 2010 U.S. dollarsUnemployment rate'] not in index\"",
     "output_type": "error",
     "traceback": [
      "\u001b[0;31m---------------------------------------------------------------------------\u001b[0m",
      "\u001b[0;31mKeyError\u001b[0m                                  Traceback (most recent call last)",
      "Cell \u001b[0;32mIn[12], line 11\u001b[0m\n\u001b[1;32m      8\u001b[0m y \u001b[38;5;241m=\u001b[39m merged_data[\u001b[38;5;124m'\u001b[39m\u001b[38;5;124mranking index\u001b[39m\u001b[38;5;124m'\u001b[39m]\n\u001b[1;32m     10\u001b[0m \u001b[38;5;66;03m# Define the independent variables (X)\u001b[39;00m\n\u001b[0;32m---> 11\u001b[0m X \u001b[38;5;241m=\u001b[39m \u001b[43mmerged_data\u001b[49m\u001b[43m[\u001b[49m\u001b[43m[\u001b[49m\u001b[38;5;124;43m'\u001b[39;49m\u001b[38;5;124;43mEconomic growth: the rate of change of real GDP\u001b[39;49m\u001b[38;5;124;43m'\u001b[39;49m\u001b[43m,\u001b[49m\u001b[43m \u001b[49m\n\u001b[1;32m     12\u001b[0m \u001b[43m                 \u001b[49m\u001b[38;5;124;43m'\u001b[39;49m\u001b[38;5;124;43mExports of goods and services annual growth\u001b[39;49m\u001b[38;5;124;43m'\u001b[39;49m\u001b[43m,\u001b[49m\u001b[43m \u001b[49m\n\u001b[1;32m     13\u001b[0m \u001b[43m                 \u001b[49m\u001b[38;5;124;43m'\u001b[39;49m\u001b[38;5;124;43mGross Domestic Product billions of 2010 U.S. dollars\u001b[39;49m\u001b[38;5;124;43m'\u001b[39;49m\n\u001b[1;32m     14\u001b[0m \u001b[43m                 \u001b[49m\u001b[38;5;124;43m'\u001b[39;49m\u001b[38;5;124;43mUnemployment rate\u001b[39;49m\u001b[38;5;124;43m'\u001b[39;49m\u001b[43m]\u001b[49m\u001b[43m]\u001b[49m\n\u001b[1;32m     16\u001b[0m \u001b[38;5;66;03m# Add a constant to the independent variables\u001b[39;00m\n\u001b[1;32m     17\u001b[0m X \u001b[38;5;241m=\u001b[39m sm\u001b[38;5;241m.\u001b[39madd_constant(X)\n",
      "File \u001b[0;32m/opt/conda/lib/python3.11/site-packages/pandas/core/frame.py:3813\u001b[0m, in \u001b[0;36mDataFrame.__getitem__\u001b[0;34m(self, key)\u001b[0m\n\u001b[1;32m   3811\u001b[0m     \u001b[38;5;28;01mif\u001b[39;00m is_iterator(key):\n\u001b[1;32m   3812\u001b[0m         key \u001b[38;5;241m=\u001b[39m \u001b[38;5;28mlist\u001b[39m(key)\n\u001b[0;32m-> 3813\u001b[0m     indexer \u001b[38;5;241m=\u001b[39m \u001b[38;5;28;43mself\u001b[39;49m\u001b[38;5;241;43m.\u001b[39;49m\u001b[43mcolumns\u001b[49m\u001b[38;5;241;43m.\u001b[39;49m\u001b[43m_get_indexer_strict\u001b[49m\u001b[43m(\u001b[49m\u001b[43mkey\u001b[49m\u001b[43m,\u001b[49m\u001b[43m \u001b[49m\u001b[38;5;124;43m\"\u001b[39;49m\u001b[38;5;124;43mcolumns\u001b[39;49m\u001b[38;5;124;43m\"\u001b[39;49m\u001b[43m)\u001b[49m[\u001b[38;5;241m1\u001b[39m]\n\u001b[1;32m   3815\u001b[0m \u001b[38;5;66;03m# take() does not accept boolean indexers\u001b[39;00m\n\u001b[1;32m   3816\u001b[0m \u001b[38;5;28;01mif\u001b[39;00m \u001b[38;5;28mgetattr\u001b[39m(indexer, \u001b[38;5;124m\"\u001b[39m\u001b[38;5;124mdtype\u001b[39m\u001b[38;5;124m\"\u001b[39m, \u001b[38;5;28;01mNone\u001b[39;00m) \u001b[38;5;241m==\u001b[39m \u001b[38;5;28mbool\u001b[39m:\n",
      "File \u001b[0;32m/opt/conda/lib/python3.11/site-packages/pandas/core/indexes/base.py:6070\u001b[0m, in \u001b[0;36mIndex._get_indexer_strict\u001b[0;34m(self, key, axis_name)\u001b[0m\n\u001b[1;32m   6067\u001b[0m \u001b[38;5;28;01melse\u001b[39;00m:\n\u001b[1;32m   6068\u001b[0m     keyarr, indexer, new_indexer \u001b[38;5;241m=\u001b[39m \u001b[38;5;28mself\u001b[39m\u001b[38;5;241m.\u001b[39m_reindex_non_unique(keyarr)\n\u001b[0;32m-> 6070\u001b[0m \u001b[38;5;28;43mself\u001b[39;49m\u001b[38;5;241;43m.\u001b[39;49m\u001b[43m_raise_if_missing\u001b[49m\u001b[43m(\u001b[49m\u001b[43mkeyarr\u001b[49m\u001b[43m,\u001b[49m\u001b[43m \u001b[49m\u001b[43mindexer\u001b[49m\u001b[43m,\u001b[49m\u001b[43m \u001b[49m\u001b[43maxis_name\u001b[49m\u001b[43m)\u001b[49m\n\u001b[1;32m   6072\u001b[0m keyarr \u001b[38;5;241m=\u001b[39m \u001b[38;5;28mself\u001b[39m\u001b[38;5;241m.\u001b[39mtake(indexer)\n\u001b[1;32m   6073\u001b[0m \u001b[38;5;28;01mif\u001b[39;00m \u001b[38;5;28misinstance\u001b[39m(key, Index):\n\u001b[1;32m   6074\u001b[0m     \u001b[38;5;66;03m# GH 42790 - Preserve name from an Index\u001b[39;00m\n",
      "File \u001b[0;32m/opt/conda/lib/python3.11/site-packages/pandas/core/indexes/base.py:6133\u001b[0m, in \u001b[0;36mIndex._raise_if_missing\u001b[0;34m(self, key, indexer, axis_name)\u001b[0m\n\u001b[1;32m   6130\u001b[0m     \u001b[38;5;28;01mraise\u001b[39;00m \u001b[38;5;167;01mKeyError\u001b[39;00m(\u001b[38;5;124mf\u001b[39m\u001b[38;5;124m\"\u001b[39m\u001b[38;5;124mNone of [\u001b[39m\u001b[38;5;132;01m{\u001b[39;00mkey\u001b[38;5;132;01m}\u001b[39;00m\u001b[38;5;124m] are in the [\u001b[39m\u001b[38;5;132;01m{\u001b[39;00maxis_name\u001b[38;5;132;01m}\u001b[39;00m\u001b[38;5;124m]\u001b[39m\u001b[38;5;124m\"\u001b[39m)\n\u001b[1;32m   6132\u001b[0m not_found \u001b[38;5;241m=\u001b[39m \u001b[38;5;28mlist\u001b[39m(ensure_index(key)[missing_mask\u001b[38;5;241m.\u001b[39mnonzero()[\u001b[38;5;241m0\u001b[39m]]\u001b[38;5;241m.\u001b[39munique())\n\u001b[0;32m-> 6133\u001b[0m \u001b[38;5;28;01mraise\u001b[39;00m \u001b[38;5;167;01mKeyError\u001b[39;00m(\u001b[38;5;124mf\u001b[39m\u001b[38;5;124m\"\u001b[39m\u001b[38;5;132;01m{\u001b[39;00mnot_found\u001b[38;5;132;01m}\u001b[39;00m\u001b[38;5;124m not in index\u001b[39m\u001b[38;5;124m\"\u001b[39m)\n",
      "\u001b[0;31mKeyError\u001b[0m: \"['Gross Domestic Product billions of 2010 U.S. dollarsUnemployment rate'] not in index\""
     ]
    }
   ],
   "source": [
    "import pandas as pd\n",
    "import statsmodels.api as sm\n",
    "\n",
    "# Assuming your data is already loaded into a DataFrame named 'merged_data'\n",
    "# merged_data = pd.read_csv('path_to_your_data.csv')  # Load your data\n",
    "\n",
    "# Define the dependent variable (y)\n",
    "y = merged_data['ranking index']\n",
    "\n",
    "# Define the independent variables (X)\n",
    "X = merged_data[['Economic growth: the rate of change of real GDP', \n",
    "                 'Exports of goods and services annual growth', \n",
    "                 'Gross Domestic Product billions of 2010 U.S. dollars'\n",
    "                 'Unemployment rate']]\n",
    "\n",
    "# Add a constant to the independent variables\n",
    "X = sm.add_constant(X)\n",
    "\n",
    "# Fit the linear regression model\n",
    "model = sm.OLS(y, X).fit()\n",
    "\n",
    "# Print the summary of the regression results\n",
    "print(model.summary())"
   ]
  },
  {
   "cell_type": "code",
   "execution_count": 18,
   "id": "2a6c3f63-d566-4821-9a2b-51bfa621dafc",
   "metadata": {},
   "outputs": [
    {
     "name": "stdout",
     "output_type": "stream",
     "text": [
      "                                           OLS Regression Results                                          \n",
      "===========================================================================================================\n",
      "Dep. Variable:     Economic growth: the rate of change of real GDP   R-squared:                       0.607\n",
      "Model:                                                         OLS   Adj. R-squared:                  0.605\n",
      "Method:                                              Least Squares   F-statistic:                     293.3\n",
      "Date:                                             Mon, 27 Nov 2023   Prob (F-statistic):           2.25e-40\n",
      "Time:                                                     05:02:12   Log-Likelihood:                -448.93\n",
      "No. Observations:                                              192   AIC:                             901.9\n",
      "Df Residuals:                                                  190   BIC:                             908.4\n",
      "Df Model:                                                        1                                         \n",
      "Covariance Type:                                         nonrobust                                         \n",
      "===============================================================================================================\n",
      "                                                  coef    std err          t      P>|t|      [0.025      0.975]\n",
      "---------------------------------------------------------------------------------------------------------------\n",
      "const                                           1.0095      0.194      5.200      0.000       0.627       1.392\n",
      "Exports of goods and services annual growth     0.4394      0.026     17.125      0.000       0.389       0.490\n",
      "==============================================================================\n",
      "Omnibus:                       25.766   Durbin-Watson:                   1.698\n",
      "Prob(Omnibus):                  0.000   Jarque-Bera (JB):               63.861\n",
      "Skew:                           0.562   Prob(JB):                     1.36e-14\n",
      "Kurtosis:                       5.592   Cond. No.                         8.09\n",
      "==============================================================================\n",
      "\n",
      "Notes:\n",
      "[1] Standard Errors assume that the covariance matrix of the errors is correctly specified.\n"
     ]
    }
   ],
   "source": [
    "y = merged_data['Economic growth: the rate of change of real GDP']\n",
    "X = merged_data['Exports of goods and services annual growth']\n",
    "\n",
    "# Add a constant to the independent variable\n",
    "X = sm.add_constant(X)\n",
    "\n",
    "# Fit the linear regression model\n",
    "model = sm.OLS(y, X).fit()\n",
    "\n",
    "# Print the summary of the regression results\n",
    "print(model.summary())"
   ]
  },
  {
   "cell_type": "code",
   "execution_count": null,
   "id": "10e1a067-c14b-40c0-bc96-228ba386e1d5",
   "metadata": {},
   "outputs": [],
   "source": []
  },
  {
   "cell_type": "markdown",
   "id": "1af2c970-3388-480a-b736-9c89ca15d660",
   "metadata": {},
   "source": [
    "### Modeling"
   ]
  },
  {
   "cell_type": "code",
   "execution_count": 1,
   "id": "4a322104-7957-4937-940b-5b76150d7b39",
   "metadata": {
    "collapsed": true,
    "jupyter": {
     "outputs_hidden": true
    }
   },
   "outputs": [
    {
     "name": "stdout",
     "output_type": "stream",
     "text": [
      "\u001b[33mWARNING: Skipping /opt/conda/lib/python3.11/site-packages/nlopt-2.7.1.dist-info due to invalid metadata entry 'name'\u001b[0m\u001b[33m\n",
      "\u001b[0m\u001b[33mWARNING: Skipping /opt/conda/lib/python3.11/site-packages/nlopt-2.7.1.dist-info due to invalid metadata entry 'name'\u001b[0m\u001b[33m\n",
      "\u001b[0mRequirement already satisfied: linearmodels in /opt/conda/lib/python3.11/site-packages (5.3)\n",
      "Requirement already satisfied: numpy>=1.19.0 in /opt/conda/lib/python3.11/site-packages (from linearmodels) (1.24.4)\n",
      "Requirement already satisfied: pandas>=1.1.0 in /opt/conda/lib/python3.11/site-packages (from linearmodels) (1.5.3)\n",
      "Requirement already satisfied: scipy>=1.5.0 in /opt/conda/lib/python3.11/site-packages (from linearmodels) (1.11.1)\n",
      "Requirement already satisfied: statsmodels>=0.12.0 in /opt/conda/lib/python3.11/site-packages (from linearmodels) (0.14.0)\n",
      "Requirement already satisfied: mypy-extensions>=0.4 in /opt/conda/lib/python3.11/site-packages (from linearmodels) (1.0.0)\n",
      "Requirement already satisfied: Cython>=0.29.34 in /opt/conda/lib/python3.11/site-packages (from linearmodels) (0.29.36)\n",
      "Requirement already satisfied: pyhdfe>=0.1 in /opt/conda/lib/python3.11/site-packages (from linearmodels) (0.2.0)\n",
      "Requirement already satisfied: formulaic>=0.6.5 in /opt/conda/lib/python3.11/site-packages (from linearmodels) (0.6.6)\n",
      "Requirement already satisfied: setuptools-scm[toml]<8.0.0,>=7.0.0 in /opt/conda/lib/python3.11/site-packages (from linearmodels) (7.1.0)\n",
      "Requirement already satisfied: astor>=0.8 in /opt/conda/lib/python3.11/site-packages (from formulaic>=0.6.5->linearmodels) (0.8.1)\n",
      "Requirement already satisfied: interface-meta>=1.2.0 in /opt/conda/lib/python3.11/site-packages (from formulaic>=0.6.5->linearmodels) (1.3.0)\n",
      "Requirement already satisfied: typing-extensions>=4.2.0 in /opt/conda/lib/python3.11/site-packages (from formulaic>=0.6.5->linearmodels) (4.7.1)\n",
      "Requirement already satisfied: wrapt>=1.0 in /opt/conda/lib/python3.11/site-packages (from formulaic>=0.6.5->linearmodels) (1.15.0)\n",
      "Requirement already satisfied: python-dateutil>=2.8.1 in /opt/conda/lib/python3.11/site-packages (from pandas>=1.1.0->linearmodels) (2.8.2)\n",
      "Requirement already satisfied: pytz>=2020.1 in /opt/conda/lib/python3.11/site-packages (from pandas>=1.1.0->linearmodels) (2023.3)\n",
      "Requirement already satisfied: packaging>=20.0 in /opt/conda/lib/python3.11/site-packages (from setuptools-scm[toml]<8.0.0,>=7.0.0->linearmodels) (23.1)\n",
      "Requirement already satisfied: setuptools in /opt/conda/lib/python3.11/site-packages (from setuptools-scm[toml]<8.0.0,>=7.0.0->linearmodels) (68.0.0)\n",
      "Requirement already satisfied: patsy>=0.5.2 in /opt/conda/lib/python3.11/site-packages (from statsmodels>=0.12.0->linearmodels) (0.5.3)\n",
      "Requirement already satisfied: six in /opt/conda/lib/python3.11/site-packages (from patsy>=0.5.2->statsmodels>=0.12.0->linearmodels) (1.16.0)\n",
      "\u001b[33mWARNING: Skipping /opt/conda/lib/python3.11/site-packages/nlopt-2.7.1.dist-info due to invalid metadata entry 'name'\u001b[0m\u001b[33m\n",
      "\u001b[0m"
     ]
    }
   ],
   "source": [
    "!pip install linearmodels"
   ]
  },
  {
   "cell_type": "code",
   "execution_count": 20,
   "id": "041709bb-b412-44ef-85e3-0635b21ce45a",
   "metadata": {},
   "outputs": [],
   "source": [
    "%matplotlib inline\n",
    "import matplotlib.pyplot as plt\n",
    "plt.rcParams[\"figure.figsize\"] = (11, 5)  #set default figure size\n",
    "import numpy as np\n",
    "import pandas as pd\n",
    "import statsmodels.api as sm\n",
    "from statsmodels.iolib.summary2 import summary_col\n",
    "from linearmodels.iv import IV2SLS\n",
    "from sklearn import (\n",
    "    linear_model, metrics, neural_network, pipeline, model_selection\n",
    ")\n",
    "import seaborn as sns"
   ]
  },
  {
   "cell_type": "code",
   "execution_count": 21,
   "id": "a3ab6163-40e9-4e09-8fbc-fcc30280c78d",
   "metadata": {},
   "outputs": [
    {
     "name": "stdout",
     "output_type": "stream",
     "text": [
      "Index(['country', 'Code', 'ContinentCode', 'year',\n",
      "       'GDP per capita constant 2010 dollars',\n",
      "       'Capital investment as percent of GDP',\n",
      "       'Capital investment billion USD',\n",
      "       'Household consumption as percent of GDP',\n",
      "       'Household consumption billion USD', 'Labor force million people',\n",
      "       'Government spending as percent of GDP',\n",
      "       'Government spending billion USD', 'Population growth percent',\n",
      "       'Happiness Index 0 (unhappy) - 10 (happy)',\n",
      "       'Economic growth: the rate of change of real GDP',\n",
      "       'Gross Domestic Product billions of 2010 U.S. dollars',\n",
      "       'Unemployment rate', 'Exports of goods and services billion USD',\n",
      "       'Exports of goods and services annual growth',\n",
      "       'Current account balance billion USD', 'ranking index'],\n",
      "      dtype='object')\n"
     ]
    }
   ],
   "source": [
    "df = pd.read_csv('merged_data.csv')\n",
    "print(df.columns)"
   ]
  },
  {
   "cell_type": "markdown",
   "id": "3dba1a2a-a024-485a-b0c1-a213dcea7655",
   "metadata": {},
   "source": [
    "#### Part 1: Linear regression using variables selected by Lasso"
   ]
  },
  {
   "cell_type": "markdown",
   "id": "f4d0c5d9-9643-4551-bb73-3825620f03c0",
   "metadata": {},
   "source": [
    "$ log (Ranking Index) = \\beta_0 + \\beta_1 (\\text{GDP}) + \\beta_2 (\\text{GDP growth}) + \\beta_3 x_3 + \\cdots + \\beta_n x_n + \\varepsilon $"
   ]
  },
  {
   "cell_type": "code",
   "execution_count": 16,
   "id": "72a9c0d1-57c2-4b73-9d42-9fd80c1488eb",
   "metadata": {},
   "outputs": [
    {
     "name": "stdout",
     "output_type": "stream",
     "text": [
      "                                 OLS Regression Results                                \n",
      "=======================================================================================\n",
      "Dep. Variable:          ranking index   R-squared (uncentered):                   0.979\n",
      "Model:                            OLS   Adj. R-squared (uncentered):              0.977\n",
      "Method:                 Least Squares   F-statistic:                              618.2\n",
      "Date:                Mon, 27 Nov 2023   Prob (F-statistic):                   4.21e-138\n",
      "Time:                        05:01:38   Log-Likelihood:                         -229.90\n",
      "No. Observations:                 187   AIC:                                      485.8\n",
      "Df Residuals:                     174   BIC:                                      527.8\n",
      "Df Model:                          13                                                  \n",
      "Covariance Type:            nonrobust                                                  \n",
      "========================================================================================================================\n",
      "                                                           coef    std err          t      P>|t|      [0.025      0.975]\n",
      "------------------------------------------------------------------------------------------------------------------------\n",
      "Current account balance billion USD                     -0.0007      0.001     -0.676      0.500      -0.003       0.001\n",
      "Exports of goods and services annual growth             -0.0137      0.015     -0.898      0.370      -0.044       0.016\n",
      "Exports of goods and services billion USD                0.0016      0.000      5.125      0.000       0.001       0.002\n",
      "Unemployment rate                                       -0.1146      0.026     -4.473      0.000      -0.165      -0.064\n",
      "Gross Domestic Product billions of 2010 U.S. dollars    -0.0001   9.68e-05     -1.069      0.287      -0.000    8.76e-05\n",
      "Economic growth: the rate of change of real GDP         -0.0013      0.028     -0.045      0.964      -0.056       0.054\n",
      "Happiness Index 0 (unhappy) - 10 (happy)                 0.0416      0.124      0.334      0.738      -0.204       0.287\n",
      "Population growth percent                               -0.1724      0.097     -1.781      0.077      -0.363       0.019\n",
      "Government spending as percent of GDP                    0.0363      0.019      1.943      0.054      -0.001       0.073\n",
      "Labor force million people                               0.0006      0.001      0.588      0.557      -0.001       0.002\n",
      "Household consumption as percent of GDP                  0.0652      0.008      7.837      0.000       0.049       0.082\n",
      "Capital investment billion USD                        8.752e-05      0.000      0.294      0.769      -0.001       0.001\n",
      "GDP per capita constant 2010 dollars                  3.024e-05    5.4e-06      5.597      0.000    1.96e-05    4.09e-05\n",
      "==============================================================================\n",
      "Omnibus:                       24.759   Durbin-Watson:                   0.600\n",
      "Prob(Omnibus):                  0.000   Jarque-Bera (JB):               37.363\n",
      "Skew:                          -0.747   Prob(JB):                     7.70e-09\n",
      "Kurtosis:                       4.601   Cond. No.                     9.53e+04\n",
      "==============================================================================\n",
      "\n",
      "Notes:\n",
      "[1] R² is computed without centering (uncentered) since the model does not contain a constant.\n",
      "[2] Standard Errors assume that the covariance matrix of the errors is correctly specified.\n",
      "[3] The condition number is large, 9.53e+04. This might indicate that there are\n",
      "strong multicollinearity or other numerical problems.\n"
     ]
    }
   ],
   "source": [
    "# as the 'Capital investment billion USD' and 'Capital investment as percent of GDP' represents similar things \n",
    "# and have a relatively high correlation, we kept one of them \n",
    "X = df[['Current account balance billion USD',\n",
    "        'Exports of goods and services annual growth',\n",
    "        'Exports of goods and services billion USD',\n",
    "        'Unemployment rate',\n",
    "        'Gross Domestic Product billions of 2010 U.S. dollars',\n",
    "        'Economic growth: the rate of change of real GDP',\n",
    "        'Happiness Index 0 (unhappy) - 10 (happy)',\n",
    "        'Population growth percent',\n",
    "        'Government spending as percent of GDP',\n",
    "        'Labor force million people',\n",
    "        'Household consumption as percent of GDP',\n",
    "        'Capital investment billion USD',\n",
    "        'GDP per capita constant 2010 dollars']]\n",
    "\n",
    "y = df['ranking index']\n",
    "y_log = np.log(y + 1)\n",
    "\n",
    "df['const'] = 1\n",
    "reg1 = sm.OLS(endog = y_log, exog = X, \\\n",
    "    missing='drop')\n",
    "results = reg1.fit()\n",
    "print(results.summary())"
   ]
  },
  {
   "cell_type": "code",
   "execution_count": 19,
   "id": "4dbc1859-f1b3-439a-a7b6-960c9cb76c48",
   "metadata": {},
   "outputs": [
    {
     "name": "stdout",
     "output_type": "stream",
     "text": [
      "1.7937481746719808\n"
     ]
    }
   ],
   "source": [
    "# calculating mse \n",
    "sqft_lr_model = linear_model.LinearRegression()\n",
    "sqft_lr_model.fit(X, y_log)\n",
    "mse = metrics.mean_squared_error(y_log, sqft_lr_model.predict(X))\n",
    "print(mse)"
   ]
  },
  {
   "cell_type": "markdown",
   "id": "137b4562-5e80-47d4-81d5-f23d532d19fb",
   "metadata": {},
   "source": [
    "- As we could see from the OLS result table above, the coefficient on the variable 'Gross Domestic Product billions of 2010 U.S. dollars' is -8.911e-05, the associated p-value is 0.304, which is statistically insignificant at the 5% level. \n",
    "- And the coefficient on the variable 'Economic growth: the rate of change of real GDP' is -0.0014, the associated p-value is 0.959, which is statistically insignificant at the 5% level as well.\n",
    "- But the coefficient on 'GDP per capita constant 2010 dollars' has a p-value of 0, which is statistically significant at the 5% level."
   ]
  },
  {
   "cell_type": "code",
   "execution_count": 6,
   "id": "50bee632-b5ea-4f26-a38f-e6bc22144544",
   "metadata": {},
   "outputs": [],
   "source": [
    "# fitted graph"
   ]
  },
  {
   "cell_type": "markdown",
   "id": "dc29aca8-d986-42d5-bf75-a52ec8b3b4bb",
   "metadata": {},
   "source": [
    "#### Part 2: Two-stage least squares (2SLS) regression"
   ]
  },
  {
   "cell_type": "markdown",
   "id": "ee737723-e42f-4712-ba6a-275d7b5c4d4b",
   "metadata": {},
   "source": [
    "- As the OLS model above is likely suffer from endogeneity issues (reverse causality: better university is likely lead to a higher GDP of the country, and omitted variable bias : there are too many variables correlated with both the university ranking of a country and its GDP, and we may not be able to get data and control all of them). Therefore, here we include the 2SLS model to deal with the problem of endogeneity."
   ]
  },
  {
   "cell_type": "markdown",
   "id": "be7be822-71f3-4cb1-bbab-eaaf23dc9a44",
   "metadata": {},
   "source": [
    "- In this model, to test the effect of 'Gross Domestic Product billions of 2010 U.S. dollars' on log of ranking index, the instrument we have chosen is 'Exports of goods and services billion USD', as it satisfies the three conditions for instruments, which are first stage, exogeneity and exclusion."
   ]
  },
  {
   "cell_type": "markdown",
   "id": "a00a1fe7-5f04-4c6f-9ef1-cdd909367385",
   "metadata": {},
   "source": [
    "##### 1. first stage"
   ]
  },
  {
   "cell_type": "markdown",
   "id": "9f30ea08-9c3a-45da-96e9-dbbf97f64236",
   "metadata": {},
   "source": [
    "$$\n",
    "\\text{Gross Domestic Product billions of 2010 U.S. dollars}_i = \\delta_0 + \\delta_1 \\text{Exports of goods and services billion USD}_i + v_i\n",
    "$$"
   ]
  },
  {
   "cell_type": "code",
   "execution_count": 7,
   "id": "6732e8f9-d69d-4ed5-aa47-3016d03834c3",
   "metadata": {},
   "outputs": [
    {
     "name": "stdout",
     "output_type": "stream",
     "text": [
      "                                             OLS Regression Results                                             \n",
      "================================================================================================================\n",
      "Dep. Variable:     Gross Domestic Product billions of 2010 U.S. dollars   R-squared:                       0.749\n",
      "Model:                                                              OLS   Adj. R-squared:                  0.747\n",
      "Method:                                                   Least Squares   F-statistic:                     566.3\n",
      "Date:                                                  Mon, 27 Nov 2023   Prob (F-statistic):           6.80e-59\n",
      "Time:                                                          02:45:17   Log-Likelihood:                -1735.8\n",
      "No. Observations:                                                   192   AIC:                             3476.\n",
      "Df Residuals:                                                       190   BIC:                             3482.\n",
      "Df Model:                                                             1                                         \n",
      "Covariance Type:                                              nonrobust                                         \n",
      "=============================================================================================================\n",
      "                                                coef    std err          t      P>|t|      [0.025      0.975]\n",
      "-------------------------------------------------------------------------------------------------------------\n",
      "const                                     -1217.7986    206.682     -5.892      0.000   -1625.485    -810.112\n",
      "Exports of goods and services billion USD     5.4865      0.231     23.796      0.000       5.032       5.941\n",
      "==============================================================================\n",
      "Omnibus:                       77.535   Durbin-Watson:                   0.286\n",
      "Prob(Omnibus):                  0.000   Jarque-Bera (JB):              556.935\n",
      "Skew:                           1.321   Prob(JB):                    1.16e-121\n",
      "Kurtosis:                      10.914   Cond. No.                     1.25e+03\n",
      "==============================================================================\n",
      "\n",
      "Notes:\n",
      "[1] Standard Errors assume that the covariance matrix of the errors is correctly specified.\n",
      "[2] The condition number is large, 1.25e+03. This might indicate that there are\n",
      "strong multicollinearity or other numerical problems.\n"
     ]
    }
   ],
   "source": [
    "# test the first stage\n",
    "results_fs = sm.OLS(df['Gross Domestic Product billions of 2010 U.S. dollars'],\n",
    "                    df[['const', 'Exports of goods and services billion USD']]).fit()\n",
    "print(results_fs.summary())"
   ]
  },
  {
   "cell_type": "markdown",
   "id": "39dcdb79-c9a9-40d7-ae4a-7f48f81f2e72",
   "metadata": {},
   "source": [
    "- As we see from the table, the coefficient is large and the p-value is 0 which is lower than 0.05, therefore the instrument is correlated with the GDP. -> satisfies the first condition for instrument we mentioned above"
   ]
  },
  {
   "cell_type": "markdown",
   "id": "124872fb-ec27-44b7-a1c0-aa2272ffbe3a",
   "metadata": {},
   "source": [
    "- We cannot directly test whether the instrument is correlated with the error term or not (exogeneity and exclusion). But intuitively, the export should not correlated with the ranking index except for the fact that it inflences GDP. As we could see from the QS ranking calculation, none of the considered factors (Sustainability, Employment outcomes, International research network, etc.) seem related to the export of countries. Therefore we could infer export is a viable instrument in this case."
   ]
  },
  {
   "cell_type": "markdown",
   "id": "b29468f1-ff2c-4dc1-bc7a-21a44f9b46e6",
   "metadata": {},
   "source": [
    "##### 2. second stage"
   ]
  },
  {
   "cell_type": "markdown",
   "id": "9e13a8b3-180a-4495-a0be-894ec032be98",
   "metadata": {},
   "source": [
    "$$\n",
    "\\log(\\text{ranking index})_i = \\beta_0 + \\beta_1 \\widehat{\\text{GDP}}_i + u_i\n",
    "$$"
   ]
  },
  {
   "cell_type": "code",
   "execution_count": 8,
   "id": "1fb1aeb9-3dbd-4ab6-9624-8327fc0e01bf",
   "metadata": {},
   "outputs": [
    {
     "name": "stdout",
     "output_type": "stream",
     "text": [
      "                            OLS Regression Results                            \n",
      "==============================================================================\n",
      "Dep. Variable:          ranking index   R-squared:                       0.339\n",
      "Model:                            OLS   Adj. R-squared:                  0.335\n",
      "Method:                 Least Squares   F-statistic:                     97.27\n",
      "Date:                Mon, 27 Nov 2023   Prob (F-statistic):           8.65e-19\n",
      "Time:                        02:45:18   Log-Likelihood:                -290.06\n",
      "No. Observations:                 192   AIC:                             584.1\n",
      "Df Residuals:                     190   BIC:                             590.6\n",
      "Df Model:                           1                                         \n",
      "Covariance Type:            nonrobust                                         \n",
      "=================================================================================\n",
      "                    coef    std err          t      P>|t|      [0.025      0.975]\n",
      "---------------------------------------------------------------------------------\n",
      "const             5.0544      0.094     53.847      0.000       4.869       5.240\n",
      "predicted_gdp     0.0002   2.26e-05      9.863      0.000       0.000       0.000\n",
      "==============================================================================\n",
      "Omnibus:                        3.667   Durbin-Watson:                   0.426\n",
      "Prob(Omnibus):                  0.160   Jarque-Bera (JB):                3.338\n",
      "Skew:                          -0.316   Prob(JB):                        0.188\n",
      "Kurtosis:                       3.133   Cond. No.                     4.91e+03\n",
      "==============================================================================\n",
      "\n",
      "Notes:\n",
      "[1] Standard Errors assume that the covariance matrix of the errors is correctly specified.\n",
      "[2] The condition number is large, 4.91e+03. This might indicate that there are\n",
      "strong multicollinearity or other numerical problems.\n"
     ]
    }
   ],
   "source": [
    "df['predicted_gdp'] = results_fs.predict()\n",
    "\n",
    "results_ss = sm.OLS(y_log,\n",
    "                    df[['const', 'predicted_gdp']]).fit()\n",
    "print(results_ss.summary())"
   ]
  },
  {
   "cell_type": "markdown",
   "id": "67bb7f6c-9dc6-426c-b0f6-5b524230b2d1",
   "metadata": {},
   "source": [
    "##### 3. directly using linearmodels package (IV2SLS)"
   ]
  },
  {
   "cell_type": "code",
   "execution_count": 9,
   "id": "36082111-708d-40bd-87ef-00a94113eb55",
   "metadata": {},
   "outputs": [
    {
     "name": "stdout",
     "output_type": "stream",
     "text": [
      "                          IV-2SLS Estimation Summary                          \n",
      "==============================================================================\n",
      "Dep. Variable:          ranking index   R-squared:                      0.2503\n",
      "Estimator:                    IV-2SLS   Adj. R-squared:                 0.2463\n",
      "No. Observations:                 192   F-statistic:                    86.714\n",
      "Date:                Mon, Nov 27 2023   P-value (F-stat)                0.0000\n",
      "Time:                        02:45:25   Distribution:                  chi2(1)\n",
      "Cov. Estimator:            unadjusted                                         \n",
      "                                                                              \n",
      "                                                  Parameter Estimates                                                   \n",
      "========================================================================================================================\n",
      "                                                      Parameter  Std. Err.     T-stat    P-value    Lower CI    Upper CI\n",
      "------------------------------------------------------------------------------------------------------------------------\n",
      "const                                                    5.0544     0.0994     50.842     0.0000      4.8595      5.2492\n",
      "Gross Domestic Product billions of 2010 U.S. dollars     0.0002  2.389e-05     9.3120     0.0000      0.0002      0.0003\n",
      "========================================================================================================================\n",
      "\n",
      "Endogenous: Gross Domestic Product billions of 2010 U.S. dollars\n",
      "Instruments: Exports of goods and services billion USD\n",
      "Unadjusted Covariance (Homoskedastic)\n",
      "Debiased: False\n"
     ]
    }
   ],
   "source": [
    "iv = IV2SLS(dependent = y_log,\n",
    "            exog = df['const'],\n",
    "            endog = df['Gross Domestic Product billions of 2010 U.S. dollars'],\n",
    "            instruments = df['Exports of goods and services billion USD']).fit(cov_type='unadjusted')\n",
    "\n",
    "print(iv.summary)"
   ]
  },
  {
   "cell_type": "markdown",
   "id": "fd6ae097-407a-4ba6-8707-818f897e52e1",
   "metadata": {},
   "source": [
    "- the package give us the same coefficient as we get from the first stage second stage analysis, therefore in the next part we directly use the iv package"
   ]
  },
  {
   "cell_type": "markdown",
   "id": "300e69f0-df1b-46fc-b1bb-04bda8cf67fd",
   "metadata": {},
   "source": [
    "##### 4. testing the effect of GDP growth on ranking index"
   ]
  },
  {
   "cell_type": "markdown",
   "id": "0c0082a4-9d9e-4527-bf44-ce314ae289ca",
   "metadata": {},
   "source": [
    "- for testing the impact of GDP gowth on log ranking index, we change the instrument to 'Exports of goods and services annual growth'"
   ]
  },
  {
   "cell_type": "code",
   "execution_count": 10,
   "id": "b6c8fddd-580c-48e0-9f1c-87a2234cfdb2",
   "metadata": {},
   "outputs": [
    {
     "name": "stdout",
     "output_type": "stream",
     "text": [
      "                                           OLS Regression Results                                          \n",
      "===========================================================================================================\n",
      "Dep. Variable:     Economic growth: the rate of change of real GDP   R-squared:                       0.607\n",
      "Model:                                                         OLS   Adj. R-squared:                  0.605\n",
      "Method:                                              Least Squares   F-statistic:                     293.3\n",
      "Date:                                             Mon, 27 Nov 2023   Prob (F-statistic):           2.25e-40\n",
      "Time:                                                     02:45:26   Log-Likelihood:                -448.93\n",
      "No. Observations:                                              192   AIC:                             901.9\n",
      "Df Residuals:                                                  190   BIC:                             908.4\n",
      "Df Model:                                                        1                                         \n",
      "Covariance Type:                                         nonrobust                                         \n",
      "===============================================================================================================\n",
      "                                                  coef    std err          t      P>|t|      [0.025      0.975]\n",
      "---------------------------------------------------------------------------------------------------------------\n",
      "const                                           1.0095      0.194      5.200      0.000       0.627       1.392\n",
      "Exports of goods and services annual growth     0.4394      0.026     17.125      0.000       0.389       0.490\n",
      "==============================================================================\n",
      "Omnibus:                       25.766   Durbin-Watson:                   1.698\n",
      "Prob(Omnibus):                  0.000   Jarque-Bera (JB):               63.861\n",
      "Skew:                           0.562   Prob(JB):                     1.36e-14\n",
      "Kurtosis:                       5.592   Cond. No.                         8.09\n",
      "==============================================================================\n",
      "\n",
      "Notes:\n",
      "[1] Standard Errors assume that the covariance matrix of the errors is correctly specified.\n"
     ]
    }
   ],
   "source": [
    "# first stage\n",
    "results_fs = sm.OLS(df['Economic growth: the rate of change of real GDP'],\n",
    "                    df[['const', 'Exports of goods and services annual growth']]).fit()\n",
    "print(results_fs.summary())"
   ]
  },
  {
   "cell_type": "code",
   "execution_count": 12,
   "id": "0a8bd088-3fcd-447f-bf7c-042bc20fea1b",
   "metadata": {},
   "outputs": [
    {
     "name": "stdout",
     "output_type": "stream",
     "text": [
      "                          IV-2SLS Estimation Summary                          \n",
      "==============================================================================\n",
      "Dep. Variable:          ranking index   R-squared:                     -0.0023\n",
      "Estimator:                    IV-2SLS   Adj. R-squared:                -0.0076\n",
      "No. Observations:                 192   F-statistic:                    2.4150\n",
      "Date:                Mon, Nov 27 2023   P-value (F-stat)                0.1202\n",
      "Time:                        02:46:03   Distribution:                  chi2(1)\n",
      "Cov. Estimator:            unadjusted                                         \n",
      "                                                                              \n",
      "                                                Parameter Estimates                                                \n",
      "===================================================================================================================\n",
      "                                                 Parameter  Std. Err.     T-stat    P-value    Lower CI    Upper CI\n",
      "-------------------------------------------------------------------------------------------------------------------\n",
      "const                                               5.6516     0.1187     47.617     0.0000      5.4190      5.8843\n",
      "Economic growth: the rate of change of real GDP    -0.0486     0.0313    -1.5540     0.1202     -0.1099      0.0127\n",
      "===================================================================================================================\n",
      "\n",
      "Endogenous: Economic growth: the rate of change of real GDP\n",
      "Instruments: Exports of goods and services annual growth\n",
      "Unadjusted Covariance (Homoskedastic)\n",
      "Debiased: False\n"
     ]
    }
   ],
   "source": [
    "# 2SLS\n",
    "iv2 = IV2SLS(dependent = y_log,\n",
    "            exog = df['const'],\n",
    "            endog = df['Economic growth: the rate of change of real GDP'],\n",
    "            instruments = df['Exports of goods and services annual growth']).fit(cov_type='unadjusted')\n",
    "\n",
    "print(iv2.summary)"
   ]
  }
 ],
 "metadata": {
  "kernelspec": {
   "display_name": "Python 3 (ipykernel)",
   "language": "python",
   "name": "python3"
  },
  "language_info": {
   "codemirror_mode": {
    "name": "ipython",
    "version": 3
   },
   "file_extension": ".py",
   "mimetype": "text/x-python",
   "name": "python",
   "nbconvert_exporter": "python",
   "pygments_lexer": "ipython3",
   "version": "3.11.4"
  }
 },
 "nbformat": 4,
 "nbformat_minor": 5
}
