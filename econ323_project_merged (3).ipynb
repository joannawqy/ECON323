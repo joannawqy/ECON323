{
 "cells": [
  {
   "cell_type": "markdown",
   "id": "57e2e2f3-61d1-4c7e-bbdd-af9e0fb00c20",
   "metadata": {},
   "source": [
    "### Overview"
   ]
  },
  {
   "cell_type": "code",
   "execution_count": 1,
   "id": "c5359bea-c158-4bb2-8cf5-90e96a3fab27",
   "metadata": {
    "collapsed": true,
    "jupyter": {
     "outputs_hidden": true
    },
    "scrolled": true
   },
   "outputs": [
    {
     "name": "stdout",
     "output_type": "stream",
     "text": [
      "\u001b[33mWARNING: Skipping /opt/conda/lib/python3.11/site-packages/nlopt-2.7.1.dist-info due to invalid metadata entry 'name'\u001b[0m\u001b[33m\n",
      "\u001b[0m\u001b[33mWARNING: Skipping /opt/conda/lib/python3.11/site-packages/nlopt-2.7.1.dist-info due to invalid metadata entry 'name'\u001b[0m\u001b[33m\n",
      "\u001b[0mRequirement already satisfied: linearmodels in /opt/conda/lib/python3.11/site-packages (5.3)\n",
      "Requirement already satisfied: numpy>=1.19.0 in /opt/conda/lib/python3.11/site-packages (from linearmodels) (1.24.4)\n",
      "Requirement already satisfied: pandas>=1.1.0 in /opt/conda/lib/python3.11/site-packages (from linearmodels) (1.5.3)\n",
      "Requirement already satisfied: scipy>=1.5.0 in /opt/conda/lib/python3.11/site-packages (from linearmodels) (1.11.1)\n",
      "Requirement already satisfied: statsmodels>=0.12.0 in /opt/conda/lib/python3.11/site-packages (from linearmodels) (0.14.0)\n",
      "Requirement already satisfied: mypy-extensions>=0.4 in /opt/conda/lib/python3.11/site-packages (from linearmodels) (1.0.0)\n",
      "Requirement already satisfied: Cython>=0.29.34 in /opt/conda/lib/python3.11/site-packages (from linearmodels) (0.29.36)\n",
      "Requirement already satisfied: pyhdfe>=0.1 in /opt/conda/lib/python3.11/site-packages (from linearmodels) (0.2.0)\n",
      "Requirement already satisfied: formulaic>=0.6.5 in /opt/conda/lib/python3.11/site-packages (from linearmodels) (0.6.6)\n",
      "Requirement already satisfied: setuptools-scm[toml]<8.0.0,>=7.0.0 in /opt/conda/lib/python3.11/site-packages (from linearmodels) (7.1.0)\n",
      "Requirement already satisfied: astor>=0.8 in /opt/conda/lib/python3.11/site-packages (from formulaic>=0.6.5->linearmodels) (0.8.1)\n",
      "Requirement already satisfied: interface-meta>=1.2.0 in /opt/conda/lib/python3.11/site-packages (from formulaic>=0.6.5->linearmodels) (1.3.0)\n",
      "Requirement already satisfied: typing-extensions>=4.2.0 in /opt/conda/lib/python3.11/site-packages (from formulaic>=0.6.5->linearmodels) (4.7.1)\n",
      "Requirement already satisfied: wrapt>=1.0 in /opt/conda/lib/python3.11/site-packages (from formulaic>=0.6.5->linearmodels) (1.15.0)\n",
      "Requirement already satisfied: python-dateutil>=2.8.1 in /opt/conda/lib/python3.11/site-packages (from pandas>=1.1.0->linearmodels) (2.8.2)\n",
      "Requirement already satisfied: pytz>=2020.1 in /opt/conda/lib/python3.11/site-packages (from pandas>=1.1.0->linearmodels) (2023.3)\n",
      "Requirement already satisfied: packaging>=20.0 in /opt/conda/lib/python3.11/site-packages (from setuptools-scm[toml]<8.0.0,>=7.0.0->linearmodels) (23.1)\n",
      "Requirement already satisfied: setuptools in /opt/conda/lib/python3.11/site-packages (from setuptools-scm[toml]<8.0.0,>=7.0.0->linearmodels) (68.0.0)\n",
      "Requirement already satisfied: patsy>=0.5.2 in /opt/conda/lib/python3.11/site-packages (from statsmodels>=0.12.0->linearmodels) (0.5.3)\n",
      "Requirement already satisfied: six in /opt/conda/lib/python3.11/site-packages (from patsy>=0.5.2->statsmodels>=0.12.0->linearmodels) (1.16.0)\n",
      "\u001b[33mWARNING: Skipping /opt/conda/lib/python3.11/site-packages/nlopt-2.7.1.dist-info due to invalid metadata entry 'name'\u001b[0m\u001b[33m\n",
      "\u001b[0m"
     ]
    }
   ],
   "source": [
    "!pip install linearmodels"
   ]
  },
  {
   "cell_type": "code",
   "execution_count": 22,
   "id": "bf00a864-6eeb-4fda-8f0d-34c1f4ad599a",
   "metadata": {
    "collapsed": true,
    "jupyter": {
     "outputs_hidden": true
    }
   },
   "outputs": [
    {
     "name": "stdout",
     "output_type": "stream",
     "text": [
      "\u001b[33mWARNING: Skipping /opt/conda/lib/python3.11/site-packages/nlopt-2.7.1.dist-info due to invalid metadata entry 'name'\u001b[0m\u001b[33m\n",
      "\u001b[0m\u001b[33mWARNING: Skipping /opt/conda/lib/python3.11/site-packages/nlopt-2.7.1.dist-info due to invalid metadata entry 'name'\u001b[0m\u001b[33m\n",
      "\u001b[0mRequirement already satisfied: statsmodels in /opt/conda/lib/python3.11/site-packages (0.14.0)\n",
      "Requirement already satisfied: numpy>=1.18 in /opt/conda/lib/python3.11/site-packages (from statsmodels) (1.24.4)\n",
      "Requirement already satisfied: scipy!=1.9.2,>=1.4 in /opt/conda/lib/python3.11/site-packages (from statsmodels) (1.11.1)\n",
      "Requirement already satisfied: pandas>=1.0 in /opt/conda/lib/python3.11/site-packages (from statsmodels) (1.5.3)\n",
      "Requirement already satisfied: patsy>=0.5.2 in /opt/conda/lib/python3.11/site-packages (from statsmodels) (0.5.3)\n",
      "Requirement already satisfied: packaging>=21.3 in /opt/conda/lib/python3.11/site-packages (from statsmodels) (23.1)\n",
      "Requirement already satisfied: python-dateutil>=2.8.1 in /opt/conda/lib/python3.11/site-packages (from pandas>=1.0->statsmodels) (2.8.2)\n",
      "Requirement already satisfied: pytz>=2020.1 in /opt/conda/lib/python3.11/site-packages (from pandas>=1.0->statsmodels) (2023.3)\n",
      "Requirement already satisfied: six in /opt/conda/lib/python3.11/site-packages (from patsy>=0.5.2->statsmodels) (1.16.0)\n",
      "\u001b[33mWARNING: Skipping /opt/conda/lib/python3.11/site-packages/nlopt-2.7.1.dist-info due to invalid metadata entry 'name'\u001b[0m\u001b[33m\n",
      "\u001b[0mNote: you may need to restart the kernel to use updated packages.\n"
     ]
    }
   ],
   "source": [
    "pip install statsmodels"
   ]
  },
  {
   "cell_type": "code",
   "execution_count": 1,
   "id": "14e02b07-91a3-4333-81b8-707f166ffc34",
   "metadata": {},
   "outputs": [],
   "source": [
    "import pandas as pd\n",
    "import numpy as np"
   ]
  },
  {
   "cell_type": "code",
   "execution_count": 2,
   "id": "d2a18140-929d-47d6-bac3-2643a246f70f",
   "metadata": {},
   "outputs": [],
   "source": [
    "%matplotlib inline\n",
    "import matplotlib.pyplot as plt\n",
    "plt.rcParams[\"figure.figsize\"] = (11, 5)  #set default figure size\n",
    "import numpy as np\n",
    "import pandas as pd\n",
    "import statsmodels.api as sm\n",
    "from statsmodels.iolib.summary2 import summary_col\n",
    "from linearmodels.iv import IV2SLS\n",
    "from sklearn import (\n",
    "    linear_model, metrics, neural_network, pipeline, model_selection\n",
    ")\n",
    "import seaborn as sns"
   ]
  },
  {
   "cell_type": "markdown",
   "id": "6bd3caa5-8d3c-4e59-940d-c7eebf69bbfc",
   "metadata": {},
   "source": [
    "### Data Wrangling"
   ]
  },
  {
   "cell_type": "markdown",
   "id": "c3eac0cb-cc16-48e5-9cbd-70c1abe85c59",
   "metadata": {},
   "source": [
    "In this research, the three most essential variables we are going to use are QS ranking (Y), GDP per capita (X) and manufacturing export (IV) of countries. In this section, we will be doing data wrangling to datasets to aquire the variables of interest."
   ]
  },
  {
   "cell_type": "markdown",
   "id": "13e7d2d6-3f53-4cf7-a060-7742b6be153a",
   "metadata": {},
   "source": [
    "#### step1: head the dataset to have an overview of it"
   ]
  },
  {
   "cell_type": "code",
   "execution_count": 2,
   "id": "50a3f0b4-e154-44e3-9e16-a86747624e59",
   "metadata": {},
   "outputs": [],
   "source": [
    "ranking = pd.read_csv('qs-world-university-rankings-2017-to-2022-V2.csv')"
   ]
  },
  {
   "cell_type": "code",
   "execution_count": 3,
   "id": "3214b92a-7408-4915-b9b0-e134a64d9612",
   "metadata": {},
   "outputs": [
    {
     "data": {
      "text/html": [
       "<div>\n",
       "<style scoped>\n",
       "    .dataframe tbody tr th:only-of-type {\n",
       "        vertical-align: middle;\n",
       "    }\n",
       "\n",
       "    .dataframe tbody tr th {\n",
       "        vertical-align: top;\n",
       "    }\n",
       "\n",
       "    .dataframe thead th {\n",
       "        text-align: right;\n",
       "    }\n",
       "</style>\n",
       "<table border=\"1\" class=\"dataframe\">\n",
       "  <thead>\n",
       "    <tr style=\"text-align: right;\">\n",
       "      <th></th>\n",
       "      <th>university</th>\n",
       "      <th>year</th>\n",
       "      <th>rank_display</th>\n",
       "      <th>score</th>\n",
       "      <th>link</th>\n",
       "      <th>country</th>\n",
       "      <th>city</th>\n",
       "      <th>region</th>\n",
       "      <th>logo</th>\n",
       "      <th>type</th>\n",
       "      <th>research_output</th>\n",
       "      <th>student_faculty_ratio</th>\n",
       "      <th>international_students</th>\n",
       "      <th>size</th>\n",
       "      <th>faculty_count</th>\n",
       "    </tr>\n",
       "  </thead>\n",
       "  <tbody>\n",
       "    <tr>\n",
       "      <th>0</th>\n",
       "      <td>Massachusetts Institute of Technology (MIT)</td>\n",
       "      <td>2017</td>\n",
       "      <td>1</td>\n",
       "      <td>100.0</td>\n",
       "      <td>https://www.topuniversities.com/universities/m...</td>\n",
       "      <td>United States</td>\n",
       "      <td>Cambridge</td>\n",
       "      <td>North America</td>\n",
       "      <td>https://www.topuniversities.com/sites/default/...</td>\n",
       "      <td>Private</td>\n",
       "      <td>Very High</td>\n",
       "      <td>4.0</td>\n",
       "      <td>3,730</td>\n",
       "      <td>M</td>\n",
       "      <td>3,065</td>\n",
       "    </tr>\n",
       "    <tr>\n",
       "      <th>1</th>\n",
       "      <td>Stanford University</td>\n",
       "      <td>2017</td>\n",
       "      <td>2</td>\n",
       "      <td>98.7</td>\n",
       "      <td>https://www.topuniversities.com/universities/s...</td>\n",
       "      <td>United States</td>\n",
       "      <td>Stanford</td>\n",
       "      <td>North America</td>\n",
       "      <td>https://www.topuniversities.com/sites/default/...</td>\n",
       "      <td>Private</td>\n",
       "      <td>Very High</td>\n",
       "      <td>3.0</td>\n",
       "      <td>3,879</td>\n",
       "      <td>L</td>\n",
       "      <td>4,725</td>\n",
       "    </tr>\n",
       "    <tr>\n",
       "      <th>2</th>\n",
       "      <td>Harvard University</td>\n",
       "      <td>2017</td>\n",
       "      <td>3</td>\n",
       "      <td>98.3</td>\n",
       "      <td>https://www.topuniversities.com/universities/h...</td>\n",
       "      <td>United States</td>\n",
       "      <td>Cambridge</td>\n",
       "      <td>North America</td>\n",
       "      <td>https://www.topuniversities.com/sites/default/...</td>\n",
       "      <td>Private</td>\n",
       "      <td>Very High</td>\n",
       "      <td>5.0</td>\n",
       "      <td>5,877</td>\n",
       "      <td>L</td>\n",
       "      <td>4,646</td>\n",
       "    </tr>\n",
       "    <tr>\n",
       "      <th>3</th>\n",
       "      <td>University of Cambridge</td>\n",
       "      <td>2017</td>\n",
       "      <td>4</td>\n",
       "      <td>97.2</td>\n",
       "      <td>https://www.topuniversities.com/universities/u...</td>\n",
       "      <td>United Kingdom</td>\n",
       "      <td>Cambridge</td>\n",
       "      <td>Europe</td>\n",
       "      <td>https://www.topuniversities.com/sites/default/...</td>\n",
       "      <td>Public</td>\n",
       "      <td>Very high</td>\n",
       "      <td>4.0</td>\n",
       "      <td>7,925</td>\n",
       "      <td>L</td>\n",
       "      <td>5,800</td>\n",
       "    </tr>\n",
       "    <tr>\n",
       "      <th>4</th>\n",
       "      <td>California Institute of Technology (Caltech)</td>\n",
       "      <td>2017</td>\n",
       "      <td>5</td>\n",
       "      <td>96.9</td>\n",
       "      <td>https://www.topuniversities.com/universities/c...</td>\n",
       "      <td>United States</td>\n",
       "      <td>Pasadena</td>\n",
       "      <td>North America</td>\n",
       "      <td>https://www.topuniversities.com/sites/default/...</td>\n",
       "      <td>Private</td>\n",
       "      <td>Very High</td>\n",
       "      <td>2.0</td>\n",
       "      <td>692</td>\n",
       "      <td>S</td>\n",
       "      <td>968</td>\n",
       "    </tr>\n",
       "  </tbody>\n",
       "</table>\n",
       "</div>"
      ],
      "text/plain": [
       "                                     university  year rank_display  score  \\\n",
       "0  Massachusetts Institute of Technology (MIT)   2017            1  100.0   \n",
       "1                           Stanford University  2017            2   98.7   \n",
       "2                            Harvard University  2017            3   98.3   \n",
       "3                       University of Cambridge  2017            4   97.2   \n",
       "4  California Institute of Technology (Caltech)  2017            5   96.9   \n",
       "\n",
       "                                                link         country  \\\n",
       "0  https://www.topuniversities.com/universities/m...   United States   \n",
       "1  https://www.topuniversities.com/universities/s...   United States   \n",
       "2  https://www.topuniversities.com/universities/h...   United States   \n",
       "3  https://www.topuniversities.com/universities/u...  United Kingdom   \n",
       "4  https://www.topuniversities.com/universities/c...   United States   \n",
       "\n",
       "        city         region  \\\n",
       "0  Cambridge  North America   \n",
       "1   Stanford  North America   \n",
       "2  Cambridge  North America   \n",
       "3  Cambridge         Europe   \n",
       "4   Pasadena  North America   \n",
       "\n",
       "                                                logo     type research_output  \\\n",
       "0  https://www.topuniversities.com/sites/default/...  Private       Very High   \n",
       "1  https://www.topuniversities.com/sites/default/...  Private       Very High   \n",
       "2  https://www.topuniversities.com/sites/default/...  Private       Very High   \n",
       "3  https://www.topuniversities.com/sites/default/...   Public       Very high   \n",
       "4  https://www.topuniversities.com/sites/default/...  Private       Very High   \n",
       "\n",
       "   student_faculty_ratio international_students size faculty_count  \n",
       "0                    4.0                  3,730    M         3,065  \n",
       "1                    3.0                  3,879    L         4,725  \n",
       "2                    5.0                  5,877    L         4,646  \n",
       "3                    4.0                  7,925    L         5,800  \n",
       "4                    2.0                    692    S           968  "
      ]
     },
     "execution_count": 3,
     "metadata": {},
     "output_type": "execute_result"
    }
   ],
   "source": [
    "ranking.head()"
   ]
  },
  {
   "cell_type": "code",
   "execution_count": 4,
   "id": "92d3bc87-dca0-454e-ba00-862ff71163fa",
   "metadata": {},
   "outputs": [
    {
     "data": {
      "text/plain": [
       "university                 object\n",
       "year                        int64\n",
       "rank_display               object\n",
       "score                     float64\n",
       "link                       object\n",
       "country                    object\n",
       "city                       object\n",
       "region                     object\n",
       "logo                       object\n",
       "type                       object\n",
       "research_output            object\n",
       "student_faculty_ratio     float64\n",
       "international_students     object\n",
       "size                       object\n",
       "faculty_count              object\n",
       "dtype: object"
      ]
     },
     "execution_count": 4,
     "metadata": {},
     "output_type": "execute_result"
    }
   ],
   "source": [
    "ranking.dtypes"
   ]
  },
  {
   "cell_type": "markdown",
   "id": "663202d4-819c-44f2-ac8c-91e113174be2",
   "metadata": {},
   "source": [
    "#### step2: extract top 200 ranking universities of each year and add ranking index to the universities in each year, then aggregate them by country"
   ]
  },
  {
   "cell_type": "code",
   "execution_count": 5,
   "id": "08fd157e-2535-455a-9fb9-fc58119f53c1",
   "metadata": {},
   "outputs": [],
   "source": [
    "# create a dictionary to store the top 200 universities for each year\n",
    "top_200_per_year = {}\n",
    "# create a list to store the aggregated data frames for all years\n",
    "aggregated_dataframes_all_years = []\n",
    "for year_number in range(2017, 2023):  # Include 2022 as well\n",
    "    # Using boolean indexing to select rows for each year\n",
    "    data_year=ranking[ranking['year'] == year_number] \n",
    "    # Select columns of interest\n",
    "    data_year = data_year[['university', 'year', 'rank_display', 'country', 'region']]\n",
    "    # Convert rank_display to a numeric value\n",
    "    data_year['rank_display'] = pd.to_numeric(data_year['rank_display'], errors='coerce')\n",
    "    # Sort the data by the numeric rank and keep the top 200 universities\n",
    "    top_200 = data_year.sort_values('rank_display').head(200)\n",
    "    # Generate the ranking index in reverse to make sure higher ranking has bigger index\n",
    "    top_200['ranking index'] = np.arange(200, 0, -1)[:len(top_200)]\n",
    "    # Store in the top_200_per_year dictionary\n",
    "    top_200_per_year[year_number] = top_200\n",
    "    # Sort the ranking index by country and sum them up\n",
    "    aggregated_data = top_200.groupby('country')['ranking index'].sum().reset_index()\n",
    "    # Add a year column to the aggregated data\n",
    "    aggregated_data['year'] = year_number\n",
    "    # Rearrange columns in the order: country, year, ranking index\n",
    "    aggregated_data = aggregated_data[['country', 'year', 'ranking index']]\n",
    "    # Append to the list\n",
    "    aggregated_dataframes_all_years.append(aggregated_data)"
   ]
  },
  {
   "cell_type": "markdown",
   "id": "f9b6befe-a9ee-49e7-8797-ab4d53ee7c9f",
   "metadata": {},
   "source": [
    "#### step3: combine the data and select countries that appear in all years"
   ]
  },
  {
   "cell_type": "code",
   "execution_count": 6,
   "id": "87df53c9-8046-4432-ba57-3c3400b39cdd",
   "metadata": {},
   "outputs": [],
   "source": [
    "# Concatenate all the data frames in the list into a single data frame\n",
    "combined_aggregated_data = pd.concat(aggregated_dataframes_all_years, ignore_index=True)\n",
    "# Keep the countries that appear in all six years\n",
    "countries_in_all_years = combined_aggregated_data['country'].value_counts()\n",
    "countries_in_all_years = countries_in_all_years[countries_in_all_years == 6].index.tolist()\n",
    "# Filter the combined_aggregated_data to include only these countries\n",
    "filtered_aggregated_data = combined_aggregated_data[combined_aggregated_data['country'].isin(countries_in_all_years)]\n",
    "# The filtered_aggregated_data now contains only the countries that appear in all 6 years (from 2017 to 2022)"
   ]
  },
  {
   "cell_type": "code",
   "execution_count": 8,
   "id": "8d4fbe30-72a4-46e0-8d19-84b4ad38b8fc",
   "metadata": {
    "scrolled": true
   },
   "outputs": [
    {
     "data": {
      "text/html": [
       "<div>\n",
       "<style scoped>\n",
       "    .dataframe tbody tr th:only-of-type {\n",
       "        vertical-align: middle;\n",
       "    }\n",
       "\n",
       "    .dataframe tbody tr th {\n",
       "        vertical-align: top;\n",
       "    }\n",
       "\n",
       "    .dataframe thead th {\n",
       "        text-align: right;\n",
       "    }\n",
       "</style>\n",
       "<table border=\"1\" class=\"dataframe\">\n",
       "  <thead>\n",
       "    <tr style=\"text-align: right;\">\n",
       "      <th></th>\n",
       "      <th>country</th>\n",
       "      <th>year</th>\n",
       "      <th>ranking index</th>\n",
       "    </tr>\n",
       "  </thead>\n",
       "  <tbody>\n",
       "    <tr>\n",
       "      <th>0</th>\n",
       "      <td>Argentina</td>\n",
       "      <td>2017</td>\n",
       "      <td>116</td>\n",
       "    </tr>\n",
       "    <tr>\n",
       "      <th>1</th>\n",
       "      <td>Australia</td>\n",
       "      <td>2017</td>\n",
       "      <td>1110</td>\n",
       "    </tr>\n",
       "    <tr>\n",
       "      <th>2</th>\n",
       "      <td>Austria</td>\n",
       "      <td>2017</td>\n",
       "      <td>63</td>\n",
       "    </tr>\n",
       "    <tr>\n",
       "      <th>3</th>\n",
       "      <td>Belgium</td>\n",
       "      <td>2017</td>\n",
       "      <td>257</td>\n",
       "    </tr>\n",
       "    <tr>\n",
       "      <th>4</th>\n",
       "      <td>Brazil</td>\n",
       "      <td>2017</td>\n",
       "      <td>90</td>\n",
       "    </tr>\n",
       "  </tbody>\n",
       "</table>\n",
       "</div>"
      ],
      "text/plain": [
       "     country  year  ranking index\n",
       "0  Argentina  2017            116\n",
       "1  Australia  2017           1110\n",
       "2    Austria  2017             63\n",
       "3    Belgium  2017            257\n",
       "4     Brazil  2017             90"
      ]
     },
     "execution_count": 8,
     "metadata": {},
     "output_type": "execute_result"
    }
   ],
   "source": [
    "filtered_aggregated_data.head()"
   ]
  },
  {
   "cell_type": "markdown",
   "id": "1d601f3f-fa64-4a28-a490-529160b40aac",
   "metadata": {},
   "source": [
    "Add covariates from another 2 datasets"
   ]
  },
  {
   "cell_type": "code",
   "execution_count": 9,
   "id": "5e2ae23d-8a38-46be-9014-b9eebac8d0c6",
   "metadata": {},
   "outputs": [],
   "source": [
    "variable_data = pd.read_csv('variable_data_copy.csv')"
   ]
  },
  {
   "cell_type": "code",
   "execution_count": 10,
   "id": "c8ff9e61-5cf0-4dd6-b024-f5c45b2493d4",
   "metadata": {},
   "outputs": [
    {
     "data": {
      "text/html": [
       "<div>\n",
       "<style scoped>\n",
       "    .dataframe tbody tr th:only-of-type {\n",
       "        vertical-align: middle;\n",
       "    }\n",
       "\n",
       "    .dataframe tbody tr th {\n",
       "        vertical-align: top;\n",
       "    }\n",
       "\n",
       "    .dataframe thead th {\n",
       "        text-align: right;\n",
       "    }\n",
       "</style>\n",
       "<table border=\"1\" class=\"dataframe\">\n",
       "  <thead>\n",
       "    <tr style=\"text-align: right;\">\n",
       "      <th></th>\n",
       "      <th>Country</th>\n",
       "      <th>Code</th>\n",
       "      <th>ContinentCode</th>\n",
       "      <th>Year</th>\n",
       "      <th>Economic growth: the rate of change of real GDP</th>\n",
       "      <th>Gross Domestic Product billions of 2010 U.S. dollars</th>\n",
       "      <th>Unemployment rate</th>\n",
       "      <th>Exports of goods and services billion USD</th>\n",
       "      <th>Exports of goods and services annual growth</th>\n",
       "      <th>Current account balance billion USD</th>\n",
       "    </tr>\n",
       "  </thead>\n",
       "  <tbody>\n",
       "    <tr>\n",
       "      <th>0</th>\n",
       "      <td>Argentina</td>\n",
       "      <td>ARG</td>\n",
       "      <td>SA</td>\n",
       "      <td>2017</td>\n",
       "      <td>2.82</td>\n",
       "      <td>598.8</td>\n",
       "      <td>8.35</td>\n",
       "      <td>72.86</td>\n",
       "      <td>2.62</td>\n",
       "      <td>-31.15</td>\n",
       "    </tr>\n",
       "    <tr>\n",
       "      <th>1</th>\n",
       "      <td>Argentina</td>\n",
       "      <td>ARG</td>\n",
       "      <td>SA</td>\n",
       "      <td>2018</td>\n",
       "      <td>-2.62</td>\n",
       "      <td>583.1</td>\n",
       "      <td>9.22</td>\n",
       "      <td>75.77</td>\n",
       "      <td>0.65</td>\n",
       "      <td>-27.08</td>\n",
       "    </tr>\n",
       "    <tr>\n",
       "      <th>2</th>\n",
       "      <td>Argentina</td>\n",
       "      <td>ARG</td>\n",
       "      <td>SA</td>\n",
       "      <td>2019</td>\n",
       "      <td>-2.00</td>\n",
       "      <td>571.5</td>\n",
       "      <td>9.84</td>\n",
       "      <td>80.26</td>\n",
       "      <td>9.75</td>\n",
       "      <td>-3.49</td>\n",
       "    </tr>\n",
       "    <tr>\n",
       "      <th>3</th>\n",
       "      <td>Argentina</td>\n",
       "      <td>ARG</td>\n",
       "      <td>SA</td>\n",
       "      <td>2020</td>\n",
       "      <td>-9.94</td>\n",
       "      <td>514.6</td>\n",
       "      <td>11.46</td>\n",
       "      <td>64.04</td>\n",
       "      <td>-17.71</td>\n",
       "      <td>3.12</td>\n",
       "    </tr>\n",
       "    <tr>\n",
       "      <th>4</th>\n",
       "      <td>Argentina</td>\n",
       "      <td>ARG</td>\n",
       "      <td>SA</td>\n",
       "      <td>2021</td>\n",
       "      <td>10.40</td>\n",
       "      <td>568.1</td>\n",
       "      <td>8.74</td>\n",
       "      <td>87.87</td>\n",
       "      <td>9.22</td>\n",
       "      <td>6.71</td>\n",
       "    </tr>\n",
       "  </tbody>\n",
       "</table>\n",
       "</div>"
      ],
      "text/plain": [
       "     Country Code ContinentCode  Year  \\\n",
       "0  Argentina  ARG            SA  2017   \n",
       "1  Argentina  ARG            SA  2018   \n",
       "2  Argentina  ARG            SA  2019   \n",
       "3  Argentina  ARG            SA  2020   \n",
       "4  Argentina  ARG            SA  2021   \n",
       "\n",
       "   Economic growth: the rate of change of real GDP  \\\n",
       "0                                             2.82   \n",
       "1                                            -2.62   \n",
       "2                                            -2.00   \n",
       "3                                            -9.94   \n",
       "4                                            10.40   \n",
       "\n",
       "   Gross Domestic Product billions of 2010 U.S. dollars  Unemployment rate  \\\n",
       "0                                              598.8                  8.35   \n",
       "1                                              583.1                  9.22   \n",
       "2                                              571.5                  9.84   \n",
       "3                                              514.6                 11.46   \n",
       "4                                              568.1                  8.74   \n",
       "\n",
       "   Exports of goods and services billion USD  \\\n",
       "0                                      72.86   \n",
       "1                                      75.77   \n",
       "2                                      80.26   \n",
       "3                                      64.04   \n",
       "4                                      87.87   \n",
       "\n",
       "   Exports of goods and services annual growth  \\\n",
       "0                                         2.62   \n",
       "1                                         0.65   \n",
       "2                                         9.75   \n",
       "3                                       -17.71   \n",
       "4                                         9.22   \n",
       "\n",
       "   Current account balance billion USD  \n",
       "0                               -31.15  \n",
       "1                               -27.08  \n",
       "2                                -3.49  \n",
       "3                                 3.12  \n",
       "4                                 6.71  "
      ]
     },
     "execution_count": 10,
     "metadata": {},
     "output_type": "execute_result"
    }
   ],
   "source": [
    "variable_data.head()"
   ]
  },
  {
   "cell_type": "code",
   "execution_count": 11,
   "id": "50d48465-15ca-462c-90ef-eb43977188de",
   "metadata": {},
   "outputs": [
    {
     "data": {
      "text/html": [
       "<div>\n",
       "<style scoped>\n",
       "    .dataframe tbody tr th:only-of-type {\n",
       "        vertical-align: middle;\n",
       "    }\n",
       "\n",
       "    .dataframe tbody tr th {\n",
       "        vertical-align: top;\n",
       "    }\n",
       "\n",
       "    .dataframe thead th {\n",
       "        text-align: right;\n",
       "    }\n",
       "</style>\n",
       "<table border=\"1\" class=\"dataframe\">\n",
       "  <thead>\n",
       "    <tr style=\"text-align: right;\">\n",
       "      <th></th>\n",
       "      <th>Country</th>\n",
       "      <th>Code</th>\n",
       "      <th>ContinentCode</th>\n",
       "      <th>Year</th>\n",
       "      <th>GDP per capita constant 2010 dollars</th>\n",
       "      <th>Capital investment as percent of GDP</th>\n",
       "      <th>Capital investment billion USD</th>\n",
       "      <th>Household consumption as percent of GDP</th>\n",
       "      <th>Household consumption billion USD</th>\n",
       "      <th>Labor force million people</th>\n",
       "      <th>Government spending as percent of GDP</th>\n",
       "      <th>Government spending billion USD</th>\n",
       "      <th>Population growth percent</th>\n",
       "      <th>Happiness Index 0 (unhappy) - 10 (happy)</th>\n",
       "    </tr>\n",
       "  </thead>\n",
       "  <tbody>\n",
       "    <tr>\n",
       "      <th>0</th>\n",
       "      <td>Argentina</td>\n",
       "      <td>ARG</td>\n",
       "      <td>SA</td>\n",
       "      <td>2017</td>\n",
       "      <td>13595.04</td>\n",
       "      <td>18.21</td>\n",
       "      <td>117.22</td>\n",
       "      <td>66.74</td>\n",
       "      <td>429.55</td>\n",
       "      <td>19.58</td>\n",
       "      <td>17.70</td>\n",
       "      <td>113.90</td>\n",
       "      <td>1.04</td>\n",
       "      <td>6.60</td>\n",
       "    </tr>\n",
       "    <tr>\n",
       "      <th>1</th>\n",
       "      <td>Argentina</td>\n",
       "      <td>ARG</td>\n",
       "      <td>SA</td>\n",
       "      <td>2018</td>\n",
       "      <td>13105.40</td>\n",
       "      <td>16.61</td>\n",
       "      <td>87.19</td>\n",
       "      <td>69.47</td>\n",
       "      <td>364.59</td>\n",
       "      <td>20.10</td>\n",
       "      <td>15.81</td>\n",
       "      <td>82.95</td>\n",
       "      <td>1.02</td>\n",
       "      <td>6.39</td>\n",
       "    </tr>\n",
       "    <tr>\n",
       "      <th>2</th>\n",
       "      <td>Argentina</td>\n",
       "      <td>ARG</td>\n",
       "      <td>SA</td>\n",
       "      <td>2019</td>\n",
       "      <td>12716.22</td>\n",
       "      <td>14.21</td>\n",
       "      <td>63.63</td>\n",
       "      <td>66.13</td>\n",
       "      <td>296.09</td>\n",
       "      <td>20.61</td>\n",
       "      <td>16.44</td>\n",
       "      <td>73.63</td>\n",
       "      <td>0.99</td>\n",
       "      <td>6.09</td>\n",
       "    </tr>\n",
       "    <tr>\n",
       "      <th>3</th>\n",
       "      <td>Argentina</td>\n",
       "      <td>ARG</td>\n",
       "      <td>SA</td>\n",
       "      <td>2020</td>\n",
       "      <td>11341.27</td>\n",
       "      <td>14.13</td>\n",
       "      <td>54.48</td>\n",
       "      <td>63.79</td>\n",
       "      <td>245.94</td>\n",
       "      <td>19.41</td>\n",
       "      <td>16.89</td>\n",
       "      <td>65.12</td>\n",
       "      <td>0.97</td>\n",
       "      <td>5.93</td>\n",
       "    </tr>\n",
       "    <tr>\n",
       "      <th>4</th>\n",
       "      <td>Argentina</td>\n",
       "      <td>ARG</td>\n",
       "      <td>SA</td>\n",
       "      <td>2021</td>\n",
       "      <td>12402.49</td>\n",
       "      <td>17.47</td>\n",
       "      <td>85.14</td>\n",
       "      <td>60.89</td>\n",
       "      <td>296.69</td>\n",
       "      <td>21.19</td>\n",
       "      <td>15.84</td>\n",
       "      <td>77.19</td>\n",
       "      <td>0.95</td>\n",
       "      <td>5.97</td>\n",
       "    </tr>\n",
       "  </tbody>\n",
       "</table>\n",
       "</div>"
      ],
      "text/plain": [
       "     Country Code ContinentCode  Year  GDP per capita constant 2010 dollars  \\\n",
       "0  Argentina  ARG            SA  2017                              13595.04   \n",
       "1  Argentina  ARG            SA  2018                              13105.40   \n",
       "2  Argentina  ARG            SA  2019                              12716.22   \n",
       "3  Argentina  ARG            SA  2020                              11341.27   \n",
       "4  Argentina  ARG            SA  2021                              12402.49   \n",
       "\n",
       "   Capital investment as percent of GDP  Capital investment billion USD  \\\n",
       "0                                 18.21                          117.22   \n",
       "1                                 16.61                           87.19   \n",
       "2                                 14.21                           63.63   \n",
       "3                                 14.13                           54.48   \n",
       "4                                 17.47                           85.14   \n",
       "\n",
       "   Household consumption as percent of GDP  Household consumption billion USD  \\\n",
       "0                                    66.74                             429.55   \n",
       "1                                    69.47                             364.59   \n",
       "2                                    66.13                             296.09   \n",
       "3                                    63.79                             245.94   \n",
       "4                                    60.89                             296.69   \n",
       "\n",
       "   Labor force million people  Government spending as percent of GDP  \\\n",
       "0                       19.58                                  17.70   \n",
       "1                       20.10                                  15.81   \n",
       "2                       20.61                                  16.44   \n",
       "3                       19.41                                  16.89   \n",
       "4                       21.19                                  15.84   \n",
       "\n",
       "   Government spending billion USD  Population growth percent  \\\n",
       "0                           113.90                       1.04   \n",
       "1                            82.95                       1.02   \n",
       "2                            73.63                       0.99   \n",
       "3                            65.12                       0.97   \n",
       "4                            77.19                       0.95   \n",
       "\n",
       "   Happiness Index 0 (unhappy) - 10 (happy)  \n",
       "0                                      6.60  \n",
       "1                                      6.39  \n",
       "2                                      6.09  \n",
       "3                                      5.93  \n",
       "4                                      5.97  "
      ]
     },
     "execution_count": 11,
     "metadata": {},
     "output_type": "execute_result"
    }
   ],
   "source": [
    "new_variable = pd.read_csv('new_variable_copy.csv')\n",
    "new_variable.head()"
   ]
  },
  {
   "cell_type": "code",
   "execution_count": 25,
   "id": "09395f2a-19a4-4049-84c1-44c40e04464e",
   "metadata": {},
   "outputs": [],
   "source": [
    "#make sure the column names align with the ones in filtered_aggregated_data\n",
    "variable_data.rename(columns={'Country': 'country'}, inplace=True)\n",
    "variable_data.rename(columns={'Year': 'year'}, inplace=True)\n",
    "new_variable.rename(columns={'Country': 'country'}, inplace=True)\n",
    "new_variable.rename(columns={'Year': 'year'}, inplace=True)"
   ]
  },
  {
   "cell_type": "code",
   "execution_count": 14,
   "id": "72a2bc33-17d7-41bf-9f7e-304946ac5c03",
   "metadata": {},
   "outputs": [],
   "source": [
    "variable_data['country'] = variable_data['country'].replace({\n",
    "    'China': 'China (Mainland)',\n",
    "    'Hong Kong': 'Hong Kong SAR',\n",
    "    'USA': 'United States'\n",
    "})"
   ]
  },
  {
   "cell_type": "code",
   "execution_count": 15,
   "id": "74609123-4158-40a0-9882-91d8e51f6880",
   "metadata": {},
   "outputs": [],
   "source": [
    "new_variable['country'] = new_variable['country'].replace({\n",
    "    'China': 'China (Mainland)',\n",
    "    'Hong Kong': 'Hong Kong SAR',\n",
    "    'USA': 'United States'\n",
    "})"
   ]
  },
  {
   "cell_type": "code",
   "execution_count": 26,
   "id": "bae85d6d-f0f0-4f1c-8a08-83bc99af6f0c",
   "metadata": {},
   "outputs": [],
   "source": [
    "# Merge the two dataframes\n",
    "merged_data = pd.merge(variable_data, filtered_aggregated_data, on=['country', 'year'], how='left')\n",
    "merged_data = pd.merge(new_variable, merged_data, on=['country', 'year',\"Code\",\"ContinentCode\"], how='left')"
   ]
  },
  {
   "cell_type": "markdown",
   "id": "fd868919-6b3f-4061-bac6-f0c97d671bc7",
   "metadata": {},
   "source": [
    "### merged_data dataframe will now contain all columns of variable_data and new_variable, plus 'ranking index' from filtered_aggregated_data for each country and each year"
   ]
  },
  {
   "cell_type": "code",
   "execution_count": 27,
   "id": "ceadd2ca-d892-40fe-8a96-0b0246e03ac4",
   "metadata": {},
   "outputs": [
    {
     "data": {
      "text/html": [
       "<div>\n",
       "<style scoped>\n",
       "    .dataframe tbody tr th:only-of-type {\n",
       "        vertical-align: middle;\n",
       "    }\n",
       "\n",
       "    .dataframe tbody tr th {\n",
       "        vertical-align: top;\n",
       "    }\n",
       "\n",
       "    .dataframe thead th {\n",
       "        text-align: right;\n",
       "    }\n",
       "</style>\n",
       "<table border=\"1\" class=\"dataframe\">\n",
       "  <thead>\n",
       "    <tr style=\"text-align: right;\">\n",
       "      <th></th>\n",
       "      <th>country</th>\n",
       "      <th>Code</th>\n",
       "      <th>ContinentCode</th>\n",
       "      <th>year</th>\n",
       "      <th>GDP per capita constant 2010 dollars</th>\n",
       "      <th>Capital investment as percent of GDP</th>\n",
       "      <th>Capital investment billion USD</th>\n",
       "      <th>Household consumption as percent of GDP</th>\n",
       "      <th>Household consumption billion USD</th>\n",
       "      <th>Labor force million people</th>\n",
       "      <th>...</th>\n",
       "      <th>Government spending billion USD</th>\n",
       "      <th>Population growth percent</th>\n",
       "      <th>Happiness Index 0 (unhappy) - 10 (happy)</th>\n",
       "      <th>Economic growth: the rate of change of real GDP</th>\n",
       "      <th>Gross Domestic Product billions of 2010 U.S. dollars</th>\n",
       "      <th>Unemployment rate</th>\n",
       "      <th>Exports of goods and services billion USD</th>\n",
       "      <th>Exports of goods and services annual growth</th>\n",
       "      <th>Current account balance billion USD</th>\n",
       "      <th>ranking index</th>\n",
       "    </tr>\n",
       "  </thead>\n",
       "  <tbody>\n",
       "    <tr>\n",
       "      <th>0</th>\n",
       "      <td>Argentina</td>\n",
       "      <td>ARG</td>\n",
       "      <td>SA</td>\n",
       "      <td>2017</td>\n",
       "      <td>13595.04</td>\n",
       "      <td>18.21</td>\n",
       "      <td>117.22</td>\n",
       "      <td>66.74</td>\n",
       "      <td>429.55</td>\n",
       "      <td>19.58</td>\n",
       "      <td>...</td>\n",
       "      <td>113.90</td>\n",
       "      <td>1.04</td>\n",
       "      <td>6.60</td>\n",
       "      <td>2.82</td>\n",
       "      <td>598.8</td>\n",
       "      <td>8.35</td>\n",
       "      <td>72.86</td>\n",
       "      <td>2.62</td>\n",
       "      <td>-31.15</td>\n",
       "      <td>116</td>\n",
       "    </tr>\n",
       "    <tr>\n",
       "      <th>1</th>\n",
       "      <td>Argentina</td>\n",
       "      <td>ARG</td>\n",
       "      <td>SA</td>\n",
       "      <td>2018</td>\n",
       "      <td>13105.40</td>\n",
       "      <td>16.61</td>\n",
       "      <td>87.19</td>\n",
       "      <td>69.47</td>\n",
       "      <td>364.59</td>\n",
       "      <td>20.10</td>\n",
       "      <td>...</td>\n",
       "      <td>82.95</td>\n",
       "      <td>1.02</td>\n",
       "      <td>6.39</td>\n",
       "      <td>-2.62</td>\n",
       "      <td>583.1</td>\n",
       "      <td>9.22</td>\n",
       "      <td>75.77</td>\n",
       "      <td>0.65</td>\n",
       "      <td>-27.08</td>\n",
       "      <td>126</td>\n",
       "    </tr>\n",
       "    <tr>\n",
       "      <th>2</th>\n",
       "      <td>Argentina</td>\n",
       "      <td>ARG</td>\n",
       "      <td>SA</td>\n",
       "      <td>2019</td>\n",
       "      <td>12716.22</td>\n",
       "      <td>14.21</td>\n",
       "      <td>63.63</td>\n",
       "      <td>66.13</td>\n",
       "      <td>296.09</td>\n",
       "      <td>20.61</td>\n",
       "      <td>...</td>\n",
       "      <td>73.63</td>\n",
       "      <td>0.99</td>\n",
       "      <td>6.09</td>\n",
       "      <td>-2.00</td>\n",
       "      <td>571.5</td>\n",
       "      <td>9.84</td>\n",
       "      <td>80.26</td>\n",
       "      <td>9.75</td>\n",
       "      <td>-3.49</td>\n",
       "      <td>128</td>\n",
       "    </tr>\n",
       "    <tr>\n",
       "      <th>3</th>\n",
       "      <td>Argentina</td>\n",
       "      <td>ARG</td>\n",
       "      <td>SA</td>\n",
       "      <td>2020</td>\n",
       "      <td>11341.27</td>\n",
       "      <td>14.13</td>\n",
       "      <td>54.48</td>\n",
       "      <td>63.79</td>\n",
       "      <td>245.94</td>\n",
       "      <td>19.41</td>\n",
       "      <td>...</td>\n",
       "      <td>65.12</td>\n",
       "      <td>0.97</td>\n",
       "      <td>5.93</td>\n",
       "      <td>-9.94</td>\n",
       "      <td>514.6</td>\n",
       "      <td>11.46</td>\n",
       "      <td>64.04</td>\n",
       "      <td>-17.71</td>\n",
       "      <td>3.12</td>\n",
       "      <td>128</td>\n",
       "    </tr>\n",
       "    <tr>\n",
       "      <th>4</th>\n",
       "      <td>Argentina</td>\n",
       "      <td>ARG</td>\n",
       "      <td>SA</td>\n",
       "      <td>2021</td>\n",
       "      <td>12402.49</td>\n",
       "      <td>17.47</td>\n",
       "      <td>85.14</td>\n",
       "      <td>60.89</td>\n",
       "      <td>296.69</td>\n",
       "      <td>21.19</td>\n",
       "      <td>...</td>\n",
       "      <td>77.19</td>\n",
       "      <td>0.95</td>\n",
       "      <td>5.97</td>\n",
       "      <td>10.40</td>\n",
       "      <td>568.1</td>\n",
       "      <td>8.74</td>\n",
       "      <td>87.87</td>\n",
       "      <td>9.22</td>\n",
       "      <td>6.71</td>\n",
       "      <td>133</td>\n",
       "    </tr>\n",
       "  </tbody>\n",
       "</table>\n",
       "<p>5 rows × 21 columns</p>\n",
       "</div>"
      ],
      "text/plain": [
       "     country Code ContinentCode  year  GDP per capita constant 2010 dollars  \\\n",
       "0  Argentina  ARG            SA  2017                              13595.04   \n",
       "1  Argentina  ARG            SA  2018                              13105.40   \n",
       "2  Argentina  ARG            SA  2019                              12716.22   \n",
       "3  Argentina  ARG            SA  2020                              11341.27   \n",
       "4  Argentina  ARG            SA  2021                              12402.49   \n",
       "\n",
       "   Capital investment as percent of GDP  Capital investment billion USD  \\\n",
       "0                                 18.21                          117.22   \n",
       "1                                 16.61                           87.19   \n",
       "2                                 14.21                           63.63   \n",
       "3                                 14.13                           54.48   \n",
       "4                                 17.47                           85.14   \n",
       "\n",
       "   Household consumption as percent of GDP  Household consumption billion USD  \\\n",
       "0                                    66.74                             429.55   \n",
       "1                                    69.47                             364.59   \n",
       "2                                    66.13                             296.09   \n",
       "3                                    63.79                             245.94   \n",
       "4                                    60.89                             296.69   \n",
       "\n",
       "   Labor force million people  ...  Government spending billion USD  \\\n",
       "0                       19.58  ...                           113.90   \n",
       "1                       20.10  ...                            82.95   \n",
       "2                       20.61  ...                            73.63   \n",
       "3                       19.41  ...                            65.12   \n",
       "4                       21.19  ...                            77.19   \n",
       "\n",
       "   Population growth percent  Happiness Index 0 (unhappy) - 10 (happy)  \\\n",
       "0                       1.04                                      6.60   \n",
       "1                       1.02                                      6.39   \n",
       "2                       0.99                                      6.09   \n",
       "3                       0.97                                      5.93   \n",
       "4                       0.95                                      5.97   \n",
       "\n",
       "   Economic growth: the rate of change of real GDP  \\\n",
       "0                                             2.82   \n",
       "1                                            -2.62   \n",
       "2                                            -2.00   \n",
       "3                                            -9.94   \n",
       "4                                            10.40   \n",
       "\n",
       "   Gross Domestic Product billions of 2010 U.S. dollars  Unemployment rate  \\\n",
       "0                                              598.8                  8.35   \n",
       "1                                              583.1                  9.22   \n",
       "2                                              571.5                  9.84   \n",
       "3                                              514.6                 11.46   \n",
       "4                                              568.1                  8.74   \n",
       "\n",
       "   Exports of goods and services billion USD  \\\n",
       "0                                      72.86   \n",
       "1                                      75.77   \n",
       "2                                      80.26   \n",
       "3                                      64.04   \n",
       "4                                      87.87   \n",
       "\n",
       "   Exports of goods and services annual growth  \\\n",
       "0                                         2.62   \n",
       "1                                         0.65   \n",
       "2                                         9.75   \n",
       "3                                       -17.71   \n",
       "4                                         9.22   \n",
       "\n",
       "   Current account balance billion USD  ranking index  \n",
       "0                               -31.15            116  \n",
       "1                               -27.08            126  \n",
       "2                                -3.49            128  \n",
       "3                                 3.12            128  \n",
       "4                                 6.71            133  \n",
       "\n",
       "[5 rows x 21 columns]"
      ]
     },
     "execution_count": 27,
     "metadata": {},
     "output_type": "execute_result"
    }
   ],
   "source": [
    "merged_data.head()"
   ]
  },
  {
   "cell_type": "code",
   "execution_count": 28,
   "id": "f3756099-ed44-47fb-b6a4-f2a1bba1544b",
   "metadata": {},
   "outputs": [],
   "source": [
    "merged_data.to_csv('merged_data.csv', index=False)"
   ]
  },
  {
   "cell_type": "markdown",
   "id": "d9ff6a70-d506-4b58-a6f6-3a6490ca7125",
   "metadata": {},
   "source": [
    "### Modeling"
   ]
  },
  {
   "cell_type": "code",
   "execution_count": 3,
   "id": "04ae6f26-4beb-4ef0-84c8-adef6d7fd419",
   "metadata": {},
   "outputs": [
    {
     "name": "stdout",
     "output_type": "stream",
     "text": [
      "Index(['country', 'Code', 'ContinentCode', 'year',\n",
      "       'GDP per capita constant 2010 dollars',\n",
      "       'Capital investment as percent of GDP',\n",
      "       'Capital investment billion USD',\n",
      "       'Household consumption as percent of GDP',\n",
      "       'Household consumption billion USD', 'Labor force million people',\n",
      "       'Government spending as percent of GDP',\n",
      "       'Government spending billion USD', 'Population growth percent',\n",
      "       'Happiness Index 0 (unhappy) - 10 (happy)',\n",
      "       'Economic growth: the rate of change of real GDP',\n",
      "       'Gross Domestic Product billions of 2010 U.S. dollars',\n",
      "       'Unemployment rate', 'Exports of goods and services billion USD',\n",
      "       'Exports of goods and services annual growth',\n",
      "       'Current account balance billion USD', 'ranking index'],\n",
      "      dtype='object')\n"
     ]
    }
   ],
   "source": [
    "df = pd.read_csv('merged_data.csv')\n",
    "print(df.columns)"
   ]
  },
  {
   "cell_type": "markdown",
   "id": "4d3fe164-1ca4-40aa-a06f-a3d513912f75",
   "metadata": {},
   "source": [
    "#### Part 1: Linear regression using variables selected by Lasso"
   ]
  },
  {
   "cell_type": "markdown",
   "id": "360cafd8-0e9f-4ba1-a565-acc109862825",
   "metadata": {},
   "source": [
    "$ log (Ranking Index) = \\beta_0 + \\beta_1 (\\text{GDP}) + \\beta_2 (\\text{GDP growth}) + \\beta_3 x_3 + \\cdots + \\beta_n x_n + \\varepsilon $"
   ]
  },
  {
   "cell_type": "code",
   "execution_count": 4,
   "id": "05ae0a4f-b1f6-477a-ae52-15dff3e3d5c7",
   "metadata": {},
   "outputs": [
    {
     "name": "stdout",
     "output_type": "stream",
     "text": [
      "                                 OLS Regression Results                                \n",
      "=======================================================================================\n",
      "Dep. Variable:          ranking index   R-squared (uncentered):                   0.979\n",
      "Model:                            OLS   Adj. R-squared (uncentered):              0.978\n",
      "Method:                 Least Squares   F-statistic:                              642.1\n",
      "Date:                Mon, 27 Nov 2023   Prob (F-statistic):                   5.68e-142\n",
      "Time:                        05:08:50   Log-Likelihood:                         -234.36\n",
      "No. Observations:                 191   AIC:                                      494.7\n",
      "Df Residuals:                     178   BIC:                                      537.0\n",
      "Df Model:                          13                                                  \n",
      "Covariance Type:            nonrobust                                                  \n",
      "========================================================================================================================\n",
      "                                                           coef    std err          t      P>|t|      [0.025      0.975]\n",
      "------------------------------------------------------------------------------------------------------------------------\n",
      "Current account balance billion USD                     -0.0006      0.001     -0.734      0.464      -0.002       0.001\n",
      "Exports of goods and services annual growth             -0.0122      0.015     -0.801      0.424      -0.042       0.018\n",
      "Exports of goods and services billion USD                0.0015      0.000      5.134      0.000       0.001       0.002\n",
      "Unemployment rate                                       -0.1129      0.025     -4.481      0.000      -0.163      -0.063\n",
      "Gross Domestic Product billions of 2010 U.S. dollars -8.908e-05    8.7e-05     -1.024      0.307      -0.000    8.26e-05\n",
      "Economic growth: the rate of change of real GDP         -0.0014      0.028     -0.050      0.960      -0.056       0.053\n",
      "Happiness Index 0 (unhappy) - 10 (happy)                 0.0101      0.125      0.081      0.935      -0.236       0.256\n",
      "Population growth percent                               -0.1674      0.095     -1.753      0.081      -0.356       0.021\n",
      "Government spending as percent of GDP                    0.0368      0.019      1.970      0.050   -6.69e-05       0.074\n",
      "Labor force million people                               0.0002      0.001      0.212      0.832      -0.002       0.002\n",
      "Household consumption as percent of GDP                  0.0684      0.008      8.437      0.000       0.052       0.084\n",
      "Capital investment billion USD                        1.184e-05      0.000      0.044      0.965      -0.001       0.001\n",
      "GDP per capita constant 2010 dollars                  3.147e-05   5.39e-06      5.842      0.000    2.08e-05    4.21e-05\n",
      "==============================================================================\n",
      "Omnibus:                       24.665   Durbin-Watson:                   0.583\n",
      "Prob(Omnibus):                  0.000   Jarque-Bera (JB):               37.106\n",
      "Skew:                          -0.736   Prob(JB):                     8.76e-09\n",
      "Kurtosis:                       4.580   Cond. No.                     9.68e+04\n",
      "==============================================================================\n",
      "\n",
      "Notes:\n",
      "[1] R² is computed without centering (uncentered) since the model does not contain a constant.\n",
      "[2] Standard Errors assume that the covariance matrix of the errors is correctly specified.\n",
      "[3] The condition number is large, 9.68e+04. This might indicate that there are\n",
      "strong multicollinearity or other numerical problems.\n"
     ]
    }
   ],
   "source": [
    "# as the 'Capital investment billion USD' and 'Capital investment as percent of GDP' represents similar things \n",
    "# and have a relatively high correlation, we kept one of them \n",
    "X = df[['Current account balance billion USD',\n",
    "        'Exports of goods and services annual growth',\n",
    "        'Exports of goods and services billion USD',\n",
    "        'Unemployment rate',\n",
    "        'Gross Domestic Product billions of 2010 U.S. dollars',\n",
    "        'Economic growth: the rate of change of real GDP',\n",
    "        'Happiness Index 0 (unhappy) - 10 (happy)',\n",
    "        'Population growth percent',\n",
    "        'Government spending as percent of GDP',\n",
    "        'Labor force million people',\n",
    "        'Household consumption as percent of GDP',\n",
    "        'Capital investment billion USD',\n",
    "        'GDP per capita constant 2010 dollars']]\n",
    "\n",
    "y = df['ranking index']\n",
    "y_log = np.log(y + 1)\n",
    "\n",
    "df['const'] = 1\n",
    "reg1 = sm.OLS(endog = y_log, exog = X, \\\n",
    "    missing='drop')\n",
    "results = reg1.fit()\n",
    "print(results.summary())"
   ]
  },
  {
   "cell_type": "code",
   "execution_count": 5,
   "id": "45ee42df-1280-49b3-99bb-31f3d55b3622",
   "metadata": {
    "collapsed": true,
    "jupyter": {
     "outputs_hidden": true
    }
   },
   "outputs": [
    {
     "ename": "ValueError",
     "evalue": "Input X contains NaN.\nLinearRegression does not accept missing values encoded as NaN natively. For supervised learning, you might want to consider sklearn.ensemble.HistGradientBoostingClassifier and Regressor which accept missing values encoded as NaNs natively. Alternatively, it is possible to preprocess the data, for instance by using an imputer transformer in a pipeline or drop samples with missing values. See https://scikit-learn.org/stable/modules/impute.html You can find a list of all estimators that handle NaN values at the following page: https://scikit-learn.org/stable/modules/impute.html#estimators-that-handle-nan-values",
     "output_type": "error",
     "traceback": [
      "\u001b[0;31m---------------------------------------------------------------------------\u001b[0m",
      "\u001b[0;31mValueError\u001b[0m                                Traceback (most recent call last)",
      "Cell \u001b[0;32mIn[5], line 3\u001b[0m\n\u001b[1;32m      1\u001b[0m \u001b[38;5;66;03m# calculating mse \u001b[39;00m\n\u001b[1;32m      2\u001b[0m sqft_lr_model \u001b[38;5;241m=\u001b[39m linear_model\u001b[38;5;241m.\u001b[39mLinearRegression()\n\u001b[0;32m----> 3\u001b[0m \u001b[43msqft_lr_model\u001b[49m\u001b[38;5;241;43m.\u001b[39;49m\u001b[43mfit\u001b[49m\u001b[43m(\u001b[49m\u001b[43mX\u001b[49m\u001b[43m,\u001b[49m\u001b[43m \u001b[49m\u001b[43my_log\u001b[49m\u001b[43m)\u001b[49m\n\u001b[1;32m      4\u001b[0m mse \u001b[38;5;241m=\u001b[39m metrics\u001b[38;5;241m.\u001b[39mmean_squared_error(y_log, sqft_lr_model\u001b[38;5;241m.\u001b[39mpredict(X))\n\u001b[1;32m      5\u001b[0m \u001b[38;5;28mprint\u001b[39m(mse)\n",
      "File \u001b[0;32m/opt/conda/lib/python3.11/site-packages/sklearn/base.py:1151\u001b[0m, in \u001b[0;36m_fit_context.<locals>.decorator.<locals>.wrapper\u001b[0;34m(estimator, *args, **kwargs)\u001b[0m\n\u001b[1;32m   1144\u001b[0m     estimator\u001b[38;5;241m.\u001b[39m_validate_params()\n\u001b[1;32m   1146\u001b[0m \u001b[38;5;28;01mwith\u001b[39;00m config_context(\n\u001b[1;32m   1147\u001b[0m     skip_parameter_validation\u001b[38;5;241m=\u001b[39m(\n\u001b[1;32m   1148\u001b[0m         prefer_skip_nested_validation \u001b[38;5;129;01mor\u001b[39;00m global_skip_validation\n\u001b[1;32m   1149\u001b[0m     )\n\u001b[1;32m   1150\u001b[0m ):\n\u001b[0;32m-> 1151\u001b[0m     \u001b[38;5;28;01mreturn\u001b[39;00m \u001b[43mfit_method\u001b[49m\u001b[43m(\u001b[49m\u001b[43mestimator\u001b[49m\u001b[43m,\u001b[49m\u001b[43m \u001b[49m\u001b[38;5;241;43m*\u001b[39;49m\u001b[43margs\u001b[49m\u001b[43m,\u001b[49m\u001b[43m \u001b[49m\u001b[38;5;241;43m*\u001b[39;49m\u001b[38;5;241;43m*\u001b[39;49m\u001b[43mkwargs\u001b[49m\u001b[43m)\u001b[49m\n",
      "File \u001b[0;32m/opt/conda/lib/python3.11/site-packages/sklearn/linear_model/_base.py:678\u001b[0m, in \u001b[0;36mLinearRegression.fit\u001b[0;34m(self, X, y, sample_weight)\u001b[0m\n\u001b[1;32m    674\u001b[0m n_jobs_ \u001b[38;5;241m=\u001b[39m \u001b[38;5;28mself\u001b[39m\u001b[38;5;241m.\u001b[39mn_jobs\n\u001b[1;32m    676\u001b[0m accept_sparse \u001b[38;5;241m=\u001b[39m \u001b[38;5;28;01mFalse\u001b[39;00m \u001b[38;5;28;01mif\u001b[39;00m \u001b[38;5;28mself\u001b[39m\u001b[38;5;241m.\u001b[39mpositive \u001b[38;5;28;01melse\u001b[39;00m [\u001b[38;5;124m\"\u001b[39m\u001b[38;5;124mcsr\u001b[39m\u001b[38;5;124m\"\u001b[39m, \u001b[38;5;124m\"\u001b[39m\u001b[38;5;124mcsc\u001b[39m\u001b[38;5;124m\"\u001b[39m, \u001b[38;5;124m\"\u001b[39m\u001b[38;5;124mcoo\u001b[39m\u001b[38;5;124m\"\u001b[39m]\n\u001b[0;32m--> 678\u001b[0m X, y \u001b[38;5;241m=\u001b[39m \u001b[38;5;28;43mself\u001b[39;49m\u001b[38;5;241;43m.\u001b[39;49m\u001b[43m_validate_data\u001b[49m\u001b[43m(\u001b[49m\n\u001b[1;32m    679\u001b[0m \u001b[43m    \u001b[49m\u001b[43mX\u001b[49m\u001b[43m,\u001b[49m\u001b[43m \u001b[49m\u001b[43my\u001b[49m\u001b[43m,\u001b[49m\u001b[43m \u001b[49m\u001b[43maccept_sparse\u001b[49m\u001b[38;5;241;43m=\u001b[39;49m\u001b[43maccept_sparse\u001b[49m\u001b[43m,\u001b[49m\u001b[43m \u001b[49m\u001b[43my_numeric\u001b[49m\u001b[38;5;241;43m=\u001b[39;49m\u001b[38;5;28;43;01mTrue\u001b[39;49;00m\u001b[43m,\u001b[49m\u001b[43m \u001b[49m\u001b[43mmulti_output\u001b[49m\u001b[38;5;241;43m=\u001b[39;49m\u001b[38;5;28;43;01mTrue\u001b[39;49;00m\n\u001b[1;32m    680\u001b[0m \u001b[43m\u001b[49m\u001b[43m)\u001b[49m\n\u001b[1;32m    682\u001b[0m has_sw \u001b[38;5;241m=\u001b[39m sample_weight \u001b[38;5;129;01mis\u001b[39;00m \u001b[38;5;129;01mnot\u001b[39;00m \u001b[38;5;28;01mNone\u001b[39;00m\n\u001b[1;32m    683\u001b[0m \u001b[38;5;28;01mif\u001b[39;00m has_sw:\n",
      "File \u001b[0;32m/opt/conda/lib/python3.11/site-packages/sklearn/base.py:621\u001b[0m, in \u001b[0;36mBaseEstimator._validate_data\u001b[0;34m(self, X, y, reset, validate_separately, cast_to_ndarray, **check_params)\u001b[0m\n\u001b[1;32m    619\u001b[0m         y \u001b[38;5;241m=\u001b[39m check_array(y, input_name\u001b[38;5;241m=\u001b[39m\u001b[38;5;124m\"\u001b[39m\u001b[38;5;124my\u001b[39m\u001b[38;5;124m\"\u001b[39m, \u001b[38;5;241m*\u001b[39m\u001b[38;5;241m*\u001b[39mcheck_y_params)\n\u001b[1;32m    620\u001b[0m     \u001b[38;5;28;01melse\u001b[39;00m:\n\u001b[0;32m--> 621\u001b[0m         X, y \u001b[38;5;241m=\u001b[39m \u001b[43mcheck_X_y\u001b[49m\u001b[43m(\u001b[49m\u001b[43mX\u001b[49m\u001b[43m,\u001b[49m\u001b[43m \u001b[49m\u001b[43my\u001b[49m\u001b[43m,\u001b[49m\u001b[43m \u001b[49m\u001b[38;5;241;43m*\u001b[39;49m\u001b[38;5;241;43m*\u001b[39;49m\u001b[43mcheck_params\u001b[49m\u001b[43m)\u001b[49m\n\u001b[1;32m    622\u001b[0m     out \u001b[38;5;241m=\u001b[39m X, y\n\u001b[1;32m    624\u001b[0m \u001b[38;5;28;01mif\u001b[39;00m \u001b[38;5;129;01mnot\u001b[39;00m no_val_X \u001b[38;5;129;01mand\u001b[39;00m check_params\u001b[38;5;241m.\u001b[39mget(\u001b[38;5;124m\"\u001b[39m\u001b[38;5;124mensure_2d\u001b[39m\u001b[38;5;124m\"\u001b[39m, \u001b[38;5;28;01mTrue\u001b[39;00m):\n",
      "File \u001b[0;32m/opt/conda/lib/python3.11/site-packages/sklearn/utils/validation.py:1147\u001b[0m, in \u001b[0;36mcheck_X_y\u001b[0;34m(X, y, accept_sparse, accept_large_sparse, dtype, order, copy, force_all_finite, ensure_2d, allow_nd, multi_output, ensure_min_samples, ensure_min_features, y_numeric, estimator)\u001b[0m\n\u001b[1;32m   1142\u001b[0m         estimator_name \u001b[38;5;241m=\u001b[39m _check_estimator_name(estimator)\n\u001b[1;32m   1143\u001b[0m     \u001b[38;5;28;01mraise\u001b[39;00m \u001b[38;5;167;01mValueError\u001b[39;00m(\n\u001b[1;32m   1144\u001b[0m         \u001b[38;5;124mf\u001b[39m\u001b[38;5;124m\"\u001b[39m\u001b[38;5;132;01m{\u001b[39;00mestimator_name\u001b[38;5;132;01m}\u001b[39;00m\u001b[38;5;124m requires y to be passed, but the target y is None\u001b[39m\u001b[38;5;124m\"\u001b[39m\n\u001b[1;32m   1145\u001b[0m     )\n\u001b[0;32m-> 1147\u001b[0m X \u001b[38;5;241m=\u001b[39m \u001b[43mcheck_array\u001b[49m\u001b[43m(\u001b[49m\n\u001b[1;32m   1148\u001b[0m \u001b[43m    \u001b[49m\u001b[43mX\u001b[49m\u001b[43m,\u001b[49m\n\u001b[1;32m   1149\u001b[0m \u001b[43m    \u001b[49m\u001b[43maccept_sparse\u001b[49m\u001b[38;5;241;43m=\u001b[39;49m\u001b[43maccept_sparse\u001b[49m\u001b[43m,\u001b[49m\n\u001b[1;32m   1150\u001b[0m \u001b[43m    \u001b[49m\u001b[43maccept_large_sparse\u001b[49m\u001b[38;5;241;43m=\u001b[39;49m\u001b[43maccept_large_sparse\u001b[49m\u001b[43m,\u001b[49m\n\u001b[1;32m   1151\u001b[0m \u001b[43m    \u001b[49m\u001b[43mdtype\u001b[49m\u001b[38;5;241;43m=\u001b[39;49m\u001b[43mdtype\u001b[49m\u001b[43m,\u001b[49m\n\u001b[1;32m   1152\u001b[0m \u001b[43m    \u001b[49m\u001b[43morder\u001b[49m\u001b[38;5;241;43m=\u001b[39;49m\u001b[43morder\u001b[49m\u001b[43m,\u001b[49m\n\u001b[1;32m   1153\u001b[0m \u001b[43m    \u001b[49m\u001b[43mcopy\u001b[49m\u001b[38;5;241;43m=\u001b[39;49m\u001b[43mcopy\u001b[49m\u001b[43m,\u001b[49m\n\u001b[1;32m   1154\u001b[0m \u001b[43m    \u001b[49m\u001b[43mforce_all_finite\u001b[49m\u001b[38;5;241;43m=\u001b[39;49m\u001b[43mforce_all_finite\u001b[49m\u001b[43m,\u001b[49m\n\u001b[1;32m   1155\u001b[0m \u001b[43m    \u001b[49m\u001b[43mensure_2d\u001b[49m\u001b[38;5;241;43m=\u001b[39;49m\u001b[43mensure_2d\u001b[49m\u001b[43m,\u001b[49m\n\u001b[1;32m   1156\u001b[0m \u001b[43m    \u001b[49m\u001b[43mallow_nd\u001b[49m\u001b[38;5;241;43m=\u001b[39;49m\u001b[43mallow_nd\u001b[49m\u001b[43m,\u001b[49m\n\u001b[1;32m   1157\u001b[0m \u001b[43m    \u001b[49m\u001b[43mensure_min_samples\u001b[49m\u001b[38;5;241;43m=\u001b[39;49m\u001b[43mensure_min_samples\u001b[49m\u001b[43m,\u001b[49m\n\u001b[1;32m   1158\u001b[0m \u001b[43m    \u001b[49m\u001b[43mensure_min_features\u001b[49m\u001b[38;5;241;43m=\u001b[39;49m\u001b[43mensure_min_features\u001b[49m\u001b[43m,\u001b[49m\n\u001b[1;32m   1159\u001b[0m \u001b[43m    \u001b[49m\u001b[43mestimator\u001b[49m\u001b[38;5;241;43m=\u001b[39;49m\u001b[43mestimator\u001b[49m\u001b[43m,\u001b[49m\n\u001b[1;32m   1160\u001b[0m \u001b[43m    \u001b[49m\u001b[43minput_name\u001b[49m\u001b[38;5;241;43m=\u001b[39;49m\u001b[38;5;124;43m\"\u001b[39;49m\u001b[38;5;124;43mX\u001b[39;49m\u001b[38;5;124;43m\"\u001b[39;49m\u001b[43m,\u001b[49m\n\u001b[1;32m   1161\u001b[0m \u001b[43m\u001b[49m\u001b[43m)\u001b[49m\n\u001b[1;32m   1163\u001b[0m y \u001b[38;5;241m=\u001b[39m _check_y(y, multi_output\u001b[38;5;241m=\u001b[39mmulti_output, y_numeric\u001b[38;5;241m=\u001b[39my_numeric, estimator\u001b[38;5;241m=\u001b[39mestimator)\n\u001b[1;32m   1165\u001b[0m check_consistent_length(X, y)\n",
      "File \u001b[0;32m/opt/conda/lib/python3.11/site-packages/sklearn/utils/validation.py:959\u001b[0m, in \u001b[0;36mcheck_array\u001b[0;34m(array, accept_sparse, accept_large_sparse, dtype, order, copy, force_all_finite, ensure_2d, allow_nd, ensure_min_samples, ensure_min_features, estimator, input_name)\u001b[0m\n\u001b[1;32m    953\u001b[0m         \u001b[38;5;28;01mraise\u001b[39;00m \u001b[38;5;167;01mValueError\u001b[39;00m(\n\u001b[1;32m    954\u001b[0m             \u001b[38;5;124m\"\u001b[39m\u001b[38;5;124mFound array with dim \u001b[39m\u001b[38;5;132;01m%d\u001b[39;00m\u001b[38;5;124m. \u001b[39m\u001b[38;5;132;01m%s\u001b[39;00m\u001b[38;5;124m expected <= 2.\u001b[39m\u001b[38;5;124m\"\u001b[39m\n\u001b[1;32m    955\u001b[0m             \u001b[38;5;241m%\u001b[39m (array\u001b[38;5;241m.\u001b[39mndim, estimator_name)\n\u001b[1;32m    956\u001b[0m         )\n\u001b[1;32m    958\u001b[0m     \u001b[38;5;28;01mif\u001b[39;00m force_all_finite:\n\u001b[0;32m--> 959\u001b[0m         \u001b[43m_assert_all_finite\u001b[49m\u001b[43m(\u001b[49m\n\u001b[1;32m    960\u001b[0m \u001b[43m            \u001b[49m\u001b[43marray\u001b[49m\u001b[43m,\u001b[49m\n\u001b[1;32m    961\u001b[0m \u001b[43m            \u001b[49m\u001b[43minput_name\u001b[49m\u001b[38;5;241;43m=\u001b[39;49m\u001b[43minput_name\u001b[49m\u001b[43m,\u001b[49m\n\u001b[1;32m    962\u001b[0m \u001b[43m            \u001b[49m\u001b[43mestimator_name\u001b[49m\u001b[38;5;241;43m=\u001b[39;49m\u001b[43mestimator_name\u001b[49m\u001b[43m,\u001b[49m\n\u001b[1;32m    963\u001b[0m \u001b[43m            \u001b[49m\u001b[43mallow_nan\u001b[49m\u001b[38;5;241;43m=\u001b[39;49m\u001b[43mforce_all_finite\u001b[49m\u001b[43m \u001b[49m\u001b[38;5;241;43m==\u001b[39;49m\u001b[43m \u001b[49m\u001b[38;5;124;43m\"\u001b[39;49m\u001b[38;5;124;43mallow-nan\u001b[39;49m\u001b[38;5;124;43m\"\u001b[39;49m\u001b[43m,\u001b[49m\n\u001b[1;32m    964\u001b[0m \u001b[43m        \u001b[49m\u001b[43m)\u001b[49m\n\u001b[1;32m    966\u001b[0m \u001b[38;5;28;01mif\u001b[39;00m ensure_min_samples \u001b[38;5;241m>\u001b[39m \u001b[38;5;241m0\u001b[39m:\n\u001b[1;32m    967\u001b[0m     n_samples \u001b[38;5;241m=\u001b[39m _num_samples(array)\n",
      "File \u001b[0;32m/opt/conda/lib/python3.11/site-packages/sklearn/utils/validation.py:124\u001b[0m, in \u001b[0;36m_assert_all_finite\u001b[0;34m(X, allow_nan, msg_dtype, estimator_name, input_name)\u001b[0m\n\u001b[1;32m    121\u001b[0m \u001b[38;5;28;01mif\u001b[39;00m first_pass_isfinite:\n\u001b[1;32m    122\u001b[0m     \u001b[38;5;28;01mreturn\u001b[39;00m\n\u001b[0;32m--> 124\u001b[0m \u001b[43m_assert_all_finite_element_wise\u001b[49m\u001b[43m(\u001b[49m\n\u001b[1;32m    125\u001b[0m \u001b[43m    \u001b[49m\u001b[43mX\u001b[49m\u001b[43m,\u001b[49m\n\u001b[1;32m    126\u001b[0m \u001b[43m    \u001b[49m\u001b[43mxp\u001b[49m\u001b[38;5;241;43m=\u001b[39;49m\u001b[43mxp\u001b[49m\u001b[43m,\u001b[49m\n\u001b[1;32m    127\u001b[0m \u001b[43m    \u001b[49m\u001b[43mallow_nan\u001b[49m\u001b[38;5;241;43m=\u001b[39;49m\u001b[43mallow_nan\u001b[49m\u001b[43m,\u001b[49m\n\u001b[1;32m    128\u001b[0m \u001b[43m    \u001b[49m\u001b[43mmsg_dtype\u001b[49m\u001b[38;5;241;43m=\u001b[39;49m\u001b[43mmsg_dtype\u001b[49m\u001b[43m,\u001b[49m\n\u001b[1;32m    129\u001b[0m \u001b[43m    \u001b[49m\u001b[43mestimator_name\u001b[49m\u001b[38;5;241;43m=\u001b[39;49m\u001b[43mestimator_name\u001b[49m\u001b[43m,\u001b[49m\n\u001b[1;32m    130\u001b[0m \u001b[43m    \u001b[49m\u001b[43minput_name\u001b[49m\u001b[38;5;241;43m=\u001b[39;49m\u001b[43minput_name\u001b[49m\u001b[43m,\u001b[49m\n\u001b[1;32m    131\u001b[0m \u001b[43m\u001b[49m\u001b[43m)\u001b[49m\n",
      "File \u001b[0;32m/opt/conda/lib/python3.11/site-packages/sklearn/utils/validation.py:173\u001b[0m, in \u001b[0;36m_assert_all_finite_element_wise\u001b[0;34m(X, xp, allow_nan, msg_dtype, estimator_name, input_name)\u001b[0m\n\u001b[1;32m    156\u001b[0m \u001b[38;5;28;01mif\u001b[39;00m estimator_name \u001b[38;5;129;01mand\u001b[39;00m input_name \u001b[38;5;241m==\u001b[39m \u001b[38;5;124m\"\u001b[39m\u001b[38;5;124mX\u001b[39m\u001b[38;5;124m\"\u001b[39m \u001b[38;5;129;01mand\u001b[39;00m has_nan_error:\n\u001b[1;32m    157\u001b[0m     \u001b[38;5;66;03m# Improve the error message on how to handle missing values in\u001b[39;00m\n\u001b[1;32m    158\u001b[0m     \u001b[38;5;66;03m# scikit-learn.\u001b[39;00m\n\u001b[1;32m    159\u001b[0m     msg_err \u001b[38;5;241m+\u001b[39m\u001b[38;5;241m=\u001b[39m (\n\u001b[1;32m    160\u001b[0m         \u001b[38;5;124mf\u001b[39m\u001b[38;5;124m\"\u001b[39m\u001b[38;5;130;01m\\n\u001b[39;00m\u001b[38;5;132;01m{\u001b[39;00mestimator_name\u001b[38;5;132;01m}\u001b[39;00m\u001b[38;5;124m does not accept missing values\u001b[39m\u001b[38;5;124m\"\u001b[39m\n\u001b[1;32m    161\u001b[0m         \u001b[38;5;124m\"\u001b[39m\u001b[38;5;124m encoded as NaN natively. For supervised learning, you might want\u001b[39m\u001b[38;5;124m\"\u001b[39m\n\u001b[0;32m   (...)\u001b[0m\n\u001b[1;32m    171\u001b[0m         \u001b[38;5;124m\"\u001b[39m\u001b[38;5;124m#estimators-that-handle-nan-values\u001b[39m\u001b[38;5;124m\"\u001b[39m\n\u001b[1;32m    172\u001b[0m     )\n\u001b[0;32m--> 173\u001b[0m \u001b[38;5;28;01mraise\u001b[39;00m \u001b[38;5;167;01mValueError\u001b[39;00m(msg_err)\n",
      "\u001b[0;31mValueError\u001b[0m: Input X contains NaN.\nLinearRegression does not accept missing values encoded as NaN natively. For supervised learning, you might want to consider sklearn.ensemble.HistGradientBoostingClassifier and Regressor which accept missing values encoded as NaNs natively. Alternatively, it is possible to preprocess the data, for instance by using an imputer transformer in a pipeline or drop samples with missing values. See https://scikit-learn.org/stable/modules/impute.html You can find a list of all estimators that handle NaN values at the following page: https://scikit-learn.org/stable/modules/impute.html#estimators-that-handle-nan-values"
     ]
    }
   ],
   "source": [
    "# calculating mse \n",
    "sqft_lr_model = linear_model.LinearRegression()\n",
    "sqft_lr_model.fit(X, y_log)\n",
    "mse = metrics.mean_squared_error(y_log, sqft_lr_model.predict(X))\n",
    "print(mse)"
   ]
  },
  {
   "cell_type": "markdown",
   "id": "20569dd4-ffa5-494d-84ea-c4d338b16bff",
   "metadata": {},
   "source": [
    "- As we could see from the OLS result table above, the coefficient on the variable 'Gross Domestic Product billions of 2010 U.S. dollars' is -8.911e-05, the associated p-value is 0.304, which is statistically insignificant at the 5% level. \n",
    "- And the coefficient on the variable 'Economic growth: the rate of change of real GDP' is -0.0014, the associated p-value is 0.959, which is statistically insignificant at the 5% level as well.\n",
    "- But the coefficient on 'GDP per capita constant 2010 dollars' has a p-value of 0, which is statistically significant at the 5% level."
   ]
  },
  {
   "cell_type": "code",
   "execution_count": 6,
   "id": "4df5b81b-7b3d-46c4-bf6e-1eb7de031211",
   "metadata": {},
   "outputs": [],
   "source": [
    "# fitted graph"
   ]
  },
  {
   "cell_type": "markdown",
   "id": "6c30c066-01c2-48f6-890c-70b1784b46c8",
   "metadata": {},
   "source": [
    "#### Part 2: Two-stage least squares (2SLS) regression"
   ]
  },
  {
   "cell_type": "markdown",
   "id": "2f047f74-0e85-47e7-b109-2bd3f94fef76",
   "metadata": {},
   "source": [
    "- As the OLS model above is likely suffer from endogeneity issues (reverse causality: better university is likely lead to a higher GDP of the country, and omitted variable bias : there are too many variables correlated with both the university ranking of a country and its GDP, and we may not be able to get data and control all of them). Therefore, here we include the 2SLS model to deal with the problem of endogeneity."
   ]
  },
  {
   "cell_type": "markdown",
   "id": "6f9596f7-f664-40ed-8c93-834c2d843311",
   "metadata": {},
   "source": [
    "- In this model, to test the effect of 'Gross Domestic Product billions of 2010 U.S. dollars' on log of ranking index, the instrument we have chosen is 'Exports of goods and services billion USD', as it satisfies the three conditions for instruments, which are first stage, exogeneity and exclusion."
   ]
  },
  {
   "cell_type": "markdown",
   "id": "f446d629-c7fe-413a-864a-a3cc9ec0786a",
   "metadata": {},
   "source": [
    "##### 1. first stage"
   ]
  },
  {
   "cell_type": "markdown",
   "id": "6e9585dc-a675-4eb3-b124-9d256f52cc8e",
   "metadata": {},
   "source": [
    "$$\n",
    "\\text{Gross Domestic Product billions of 2010 U.S. dollars}_i = \\delta_0 + \\delta_1 \\text{Exports of goods and services billion USD}_i + v_i\n",
    "$$"
   ]
  },
  {
   "cell_type": "code",
   "execution_count": 7,
   "id": "5910abb2-850b-4f0e-aa12-a7c7cda71934",
   "metadata": {},
   "outputs": [
    {
     "name": "stdout",
     "output_type": "stream",
     "text": [
      "                                             OLS Regression Results                                             \n",
      "================================================================================================================\n",
      "Dep. Variable:     Gross Domestic Product billions of 2010 U.S. dollars   R-squared:                       0.749\n",
      "Model:                                                              OLS   Adj. R-squared:                  0.747\n",
      "Method:                                                   Least Squares   F-statistic:                     566.3\n",
      "Date:                                                  Mon, 27 Nov 2023   Prob (F-statistic):           6.80e-59\n",
      "Time:                                                          02:45:17   Log-Likelihood:                -1735.8\n",
      "No. Observations:                                                   192   AIC:                             3476.\n",
      "Df Residuals:                                                       190   BIC:                             3482.\n",
      "Df Model:                                                             1                                         \n",
      "Covariance Type:                                              nonrobust                                         \n",
      "=============================================================================================================\n",
      "                                                coef    std err          t      P>|t|      [0.025      0.975]\n",
      "-------------------------------------------------------------------------------------------------------------\n",
      "const                                     -1217.7986    206.682     -5.892      0.000   -1625.485    -810.112\n",
      "Exports of goods and services billion USD     5.4865      0.231     23.796      0.000       5.032       5.941\n",
      "==============================================================================\n",
      "Omnibus:                       77.535   Durbin-Watson:                   0.286\n",
      "Prob(Omnibus):                  0.000   Jarque-Bera (JB):              556.935\n",
      "Skew:                           1.321   Prob(JB):                    1.16e-121\n",
      "Kurtosis:                      10.914   Cond. No.                     1.25e+03\n",
      "==============================================================================\n",
      "\n",
      "Notes:\n",
      "[1] Standard Errors assume that the covariance matrix of the errors is correctly specified.\n",
      "[2] The condition number is large, 1.25e+03. This might indicate that there are\n",
      "strong multicollinearity or other numerical problems.\n"
     ]
    }
   ],
   "source": [
    "# test the first stage\n",
    "results_fs = sm.OLS(df['Gross Domestic Product billions of 2010 U.S. dollars'],\n",
    "                    df[['const', 'Exports of goods and services billion USD']]).fit()\n",
    "print(results_fs.summary())"
   ]
  },
  {
   "cell_type": "markdown",
   "id": "957c77d0-4b4e-4473-a8ca-53e05736cdab",
   "metadata": {},
   "source": [
    "- As we see from the table, the coefficient is large and the p-value is 0 which is lower than 0.05, therefore the instrument is correlated with the GDP. -> satisfies the first condition for instrument we mentioned above"
   ]
  },
  {
   "cell_type": "markdown",
   "id": "1994ddc2-1b7c-47db-86be-43ee650453bf",
   "metadata": {},
   "source": [
    "- We cannot directly test whether the instrument is correlated with the error term or not (exogeneity and exclusion). But intuitively, the export should not correlated with the ranking index except for the fact that it inflences GDP. As we could see from the QS ranking calculation, none of the considered factors (Sustainability, Employment outcomes, International research network, etc.) seem related to the export of countries. Therefore we could infer export is a viable instrument in this case."
   ]
  },
  {
   "cell_type": "markdown",
   "id": "2fc0fd01-6009-4b0a-ba42-3974aea037ab",
   "metadata": {},
   "source": [
    "##### 2. second stage"
   ]
  },
  {
   "cell_type": "markdown",
   "id": "42bde46e-85df-4583-adfe-8e6abf2fbd3a",
   "metadata": {},
   "source": [
    "$$\n",
    "\\log(\\text{ranking index})_i = \\beta_0 + \\beta_1 \\widehat{\\text{GDP}}_i + u_i\n",
    "$$"
   ]
  },
  {
   "cell_type": "code",
   "execution_count": 8,
   "id": "9aae0286-8224-4118-a97d-90c418379a49",
   "metadata": {},
   "outputs": [
    {
     "name": "stdout",
     "output_type": "stream",
     "text": [
      "                            OLS Regression Results                            \n",
      "==============================================================================\n",
      "Dep. Variable:          ranking index   R-squared:                       0.339\n",
      "Model:                            OLS   Adj. R-squared:                  0.335\n",
      "Method:                 Least Squares   F-statistic:                     97.27\n",
      "Date:                Mon, 27 Nov 2023   Prob (F-statistic):           8.65e-19\n",
      "Time:                        02:45:18   Log-Likelihood:                -290.06\n",
      "No. Observations:                 192   AIC:                             584.1\n",
      "Df Residuals:                     190   BIC:                             590.6\n",
      "Df Model:                           1                                         \n",
      "Covariance Type:            nonrobust                                         \n",
      "=================================================================================\n",
      "                    coef    std err          t      P>|t|      [0.025      0.975]\n",
      "---------------------------------------------------------------------------------\n",
      "const             5.0544      0.094     53.847      0.000       4.869       5.240\n",
      "predicted_gdp     0.0002   2.26e-05      9.863      0.000       0.000       0.000\n",
      "==============================================================================\n",
      "Omnibus:                        3.667   Durbin-Watson:                   0.426\n",
      "Prob(Omnibus):                  0.160   Jarque-Bera (JB):                3.338\n",
      "Skew:                          -0.316   Prob(JB):                        0.188\n",
      "Kurtosis:                       3.133   Cond. No.                     4.91e+03\n",
      "==============================================================================\n",
      "\n",
      "Notes:\n",
      "[1] Standard Errors assume that the covariance matrix of the errors is correctly specified.\n",
      "[2] The condition number is large, 4.91e+03. This might indicate that there are\n",
      "strong multicollinearity or other numerical problems.\n"
     ]
    }
   ],
   "source": [
    "df['predicted_gdp'] = results_fs.predict()\n",
    "\n",
    "results_ss = sm.OLS(y_log,\n",
    "                    df[['const', 'predicted_gdp']]).fit()\n",
    "print(results_ss.summary())"
   ]
  },
  {
   "cell_type": "markdown",
   "id": "c9fbbed6-e7b5-4f73-a192-ffd3c3f93d50",
   "metadata": {},
   "source": [
    "##### 3. directly using linearmodels package (IV2SLS)"
   ]
  },
  {
   "cell_type": "code",
   "execution_count": 9,
   "id": "f03237a5-a53c-483a-87ed-6e6301c6d779",
   "metadata": {},
   "outputs": [
    {
     "name": "stdout",
     "output_type": "stream",
     "text": [
      "                          IV-2SLS Estimation Summary                          \n",
      "==============================================================================\n",
      "Dep. Variable:          ranking index   R-squared:                      0.2503\n",
      "Estimator:                    IV-2SLS   Adj. R-squared:                 0.2463\n",
      "No. Observations:                 192   F-statistic:                    86.714\n",
      "Date:                Mon, Nov 27 2023   P-value (F-stat)                0.0000\n",
      "Time:                        02:45:25   Distribution:                  chi2(1)\n",
      "Cov. Estimator:            unadjusted                                         \n",
      "                                                                              \n",
      "                                                  Parameter Estimates                                                   \n",
      "========================================================================================================================\n",
      "                                                      Parameter  Std. Err.     T-stat    P-value    Lower CI    Upper CI\n",
      "------------------------------------------------------------------------------------------------------------------------\n",
      "const                                                    5.0544     0.0994     50.842     0.0000      4.8595      5.2492\n",
      "Gross Domestic Product billions of 2010 U.S. dollars     0.0002  2.389e-05     9.3120     0.0000      0.0002      0.0003\n",
      "========================================================================================================================\n",
      "\n",
      "Endogenous: Gross Domestic Product billions of 2010 U.S. dollars\n",
      "Instruments: Exports of goods and services billion USD\n",
      "Unadjusted Covariance (Homoskedastic)\n",
      "Debiased: False\n"
     ]
    }
   ],
   "source": [
    "iv = IV2SLS(dependent = y_log,\n",
    "            exog = df['const'],\n",
    "            endog = df['Gross Domestic Product billions of 2010 U.S. dollars'],\n",
    "            instruments = df['Exports of goods and services billion USD']).fit(cov_type='unadjusted')\n",
    "\n",
    "print(iv.summary)"
   ]
  },
  {
   "cell_type": "markdown",
   "id": "98d6e730-c011-4092-9a0e-019868126499",
   "metadata": {},
   "source": [
    "- the package give us the same coefficient as we get from the first stage second stage analysis, therefore in the next part we directly use the iv package"
   ]
  },
  {
   "cell_type": "markdown",
   "id": "4769750d-477d-473c-84a2-48f4d8fe0e4a",
   "metadata": {},
   "source": [
    "##### 4. testing the effect of GDP growth on ranking index"
   ]
  },
  {
   "cell_type": "markdown",
   "id": "e9a4f930-5725-4df7-92c0-9e0607a59bc7",
   "metadata": {},
   "source": [
    "- for testing the impact of GDP gowth on log ranking index, we change the instrument to 'Exports of goods and services annual growth'"
   ]
  },
  {
   "cell_type": "code",
   "execution_count": 10,
   "id": "75d0127f-8515-4f26-ba2d-3b63b1f83f45",
   "metadata": {},
   "outputs": [
    {
     "name": "stdout",
     "output_type": "stream",
     "text": [
      "                                           OLS Regression Results                                          \n",
      "===========================================================================================================\n",
      "Dep. Variable:     Economic growth: the rate of change of real GDP   R-squared:                       0.607\n",
      "Model:                                                         OLS   Adj. R-squared:                  0.605\n",
      "Method:                                              Least Squares   F-statistic:                     293.3\n",
      "Date:                                             Mon, 27 Nov 2023   Prob (F-statistic):           2.25e-40\n",
      "Time:                                                     02:45:26   Log-Likelihood:                -448.93\n",
      "No. Observations:                                              192   AIC:                             901.9\n",
      "Df Residuals:                                                  190   BIC:                             908.4\n",
      "Df Model:                                                        1                                         \n",
      "Covariance Type:                                         nonrobust                                         \n",
      "===============================================================================================================\n",
      "                                                  coef    std err          t      P>|t|      [0.025      0.975]\n",
      "---------------------------------------------------------------------------------------------------------------\n",
      "const                                           1.0095      0.194      5.200      0.000       0.627       1.392\n",
      "Exports of goods and services annual growth     0.4394      0.026     17.125      0.000       0.389       0.490\n",
      "==============================================================================\n",
      "Omnibus:                       25.766   Durbin-Watson:                   1.698\n",
      "Prob(Omnibus):                  0.000   Jarque-Bera (JB):               63.861\n",
      "Skew:                           0.562   Prob(JB):                     1.36e-14\n",
      "Kurtosis:                       5.592   Cond. No.                         8.09\n",
      "==============================================================================\n",
      "\n",
      "Notes:\n",
      "[1] Standard Errors assume that the covariance matrix of the errors is correctly specified.\n"
     ]
    }
   ],
   "source": [
    "# first stage\n",
    "results_fs = sm.OLS(df['Economic growth: the rate of change of real GDP'],\n",
    "                    df[['const', 'Exports of goods and services annual growth']]).fit()\n",
    "print(results_fs.summary())"
   ]
  },
  {
   "cell_type": "code",
   "execution_count": 12,
   "id": "f2ed5883-582b-4b62-a09a-ad2cb5cbc3a9",
   "metadata": {},
   "outputs": [
    {
     "name": "stdout",
     "output_type": "stream",
     "text": [
      "                          IV-2SLS Estimation Summary                          \n",
      "==============================================================================\n",
      "Dep. Variable:          ranking index   R-squared:                     -0.0023\n",
      "Estimator:                    IV-2SLS   Adj. R-squared:                -0.0076\n",
      "No. Observations:                 192   F-statistic:                    2.4150\n",
      "Date:                Mon, Nov 27 2023   P-value (F-stat)                0.1202\n",
      "Time:                        02:46:03   Distribution:                  chi2(1)\n",
      "Cov. Estimator:            unadjusted                                         \n",
      "                                                                              \n",
      "                                                Parameter Estimates                                                \n",
      "===================================================================================================================\n",
      "                                                 Parameter  Std. Err.     T-stat    P-value    Lower CI    Upper CI\n",
      "-------------------------------------------------------------------------------------------------------------------\n",
      "const                                               5.6516     0.1187     47.617     0.0000      5.4190      5.8843\n",
      "Economic growth: the rate of change of real GDP    -0.0486     0.0313    -1.5540     0.1202     -0.1099      0.0127\n",
      "===================================================================================================================\n",
      "\n",
      "Endogenous: Economic growth: the rate of change of real GDP\n",
      "Instruments: Exports of goods and services annual growth\n",
      "Unadjusted Covariance (Homoskedastic)\n",
      "Debiased: False\n"
     ]
    }
   ],
   "source": [
    "# 2SLS\n",
    "iv2 = IV2SLS(dependent = y_log,\n",
    "            exog = df['const'],\n",
    "            endog = df['Economic growth: the rate of change of real GDP'],\n",
    "            instruments = df['Exports of goods and services annual growth']).fit(cov_type='unadjusted')\n",
    "\n",
    "print(iv2.summary)"
   ]
  }
 ],
 "metadata": {
  "kernelspec": {
   "display_name": "Python 3 (ipykernel)",
   "language": "python",
   "name": "python3"
  },
  "language_info": {
   "codemirror_mode": {
    "name": "ipython",
    "version": 3
   },
   "file_extension": ".py",
   "mimetype": "text/x-python",
   "name": "python",
   "nbconvert_exporter": "python",
   "pygments_lexer": "ipython3",
   "version": "3.11.4"
  }
 },
 "nbformat": 4,
 "nbformat_minor": 5
}
