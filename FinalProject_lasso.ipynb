{
  "nbformat": 4,
  "nbformat_minor": 0,
  "metadata": {
    "colab": {
      "provenance": [],
      "authorship_tag": "ABX9TyOsRH+OEwQpZ0RF5tKZKaie",
      "include_colab_link": true
    },
    "kernelspec": {
      "name": "python3",
      "display_name": "Python 3"
    },
    "language_info": {
      "name": "python"
    }
  },
  "cells": [
    {
      "cell_type": "markdown",
      "metadata": {
        "id": "view-in-github",
        "colab_type": "text"
      },
      "source": [
        "<a href=\"https://colab.research.google.com/github/joannawqy/ECON323/blob/main/FinalProject_lasso.ipynb\" target=\"_parent\"><img src=\"https://colab.research.google.com/assets/colab-badge.svg\" alt=\"Open In Colab\"/></a>"
      ]
    },
    {
      "cell_type": "code",
      "execution_count": null,
      "metadata": {
        "id": "Nq_K6_MsWR1m"
      },
      "outputs": [],
      "source": [
        "import pandas as pd\n",
        "import numpy as np\n",
        "import matplotlib.pyplot as plt\n",
        "from sklearn.impute import SimpleImputer\n",
        "from sklearn.linear_model import LassoCV\n",
        "from sklearn.linear_model import lasso_path\n",
        "from sklearn.model_selection import train_test_split\n",
        "from sklearn.metrics import mean_squared_error\n",
        "from sklearn.preprocessing import StandardScaler"
      ]
    },
    {
      "cell_type": "code",
      "source": [
        "df = pd.read_csv('merged_data.csv')\n",
        "df.head()\n",
        "df.columns"
      ],
      "metadata": {
        "colab": {
          "base_uri": "https://localhost:8080/"
        },
        "id": "02Ln4VfFWmDz",
        "outputId": "07e9985d-fe81-4f82-aff1-a0d92c00f485"
      },
      "execution_count": null,
      "outputs": [
        {
          "output_type": "execute_result",
          "data": {
            "text/plain": [
              "Index(['country', 'Code', 'ContinentCode', 'year',\n",
              "       'GDP per capita constant 2010 dollars',\n",
              "       'Capital investment as percent of GDP',\n",
              "       'Capital investment billion USD',\n",
              "       'Household consumption as percent of GDP',\n",
              "       'Household consumption billion USD', 'Labor force million people',\n",
              "       'Government spending as percent of GDP',\n",
              "       'Government spending billion USD', 'Tax revenue percent of GDP',\n",
              "       'Population growth percent', 'Happiness Index 0 (unhappy) - 10 (happy)',\n",
              "       'Economic growth: the rate of change of real GDP',\n",
              "       'Gross Domestic Product billions of 2010 U.S. dollars',\n",
              "       'Unemployment rate', 'Exports of goods and services billion USD',\n",
              "       'Exports of goods and services annual growth',\n",
              "       'Imports of goods and services billion USD',\n",
              "       'Current account balance billion USD',\n",
              "       'Research and development expenditure percent of GDP',\n",
              "       'Public spending on education percent of GDP', 'ranking index'],\n",
              "      dtype='object')"
            ]
          },
          "metadata": {},
          "execution_count": 18
        }
      ]
    },
    {
      "cell_type": "code",
      "source": [
        "df.columns"
      ],
      "metadata": {
        "colab": {
          "base_uri": "https://localhost:8080/"
        },
        "id": "YBxlCWhKX5So",
        "outputId": "1b38d0bd-6518-4ded-e26b-c73e69a5d3e7"
      },
      "execution_count": null,
      "outputs": [
        {
          "output_type": "execute_result",
          "data": {
            "text/plain": [
              "Index(['country', 'Code', 'ContinentCode', 'year',\n",
              "       'GDP per capita constant 2010 dollars',\n",
              "       'Capital investment as percent of GDP',\n",
              "       'Capital investment billion USD',\n",
              "       'Household consumption as percent of GDP',\n",
              "       'Household consumption billion USD', 'Labor force million people',\n",
              "       'Government spending as percent of GDP',\n",
              "       'Government spending billion USD', 'Tax revenue percent of GDP',\n",
              "       'Population growth percent', 'Happiness Index 0 (unhappy) - 10 (happy)',\n",
              "       'Economic growth: the rate of change of real GDP',\n",
              "       'Gross Domestic Product billions of 2010 U.S. dollars',\n",
              "       'Unemployment rate', 'Exports of goods and services billion USD',\n",
              "       'Exports of goods and services annual growth',\n",
              "       'Imports of goods and services billion USD',\n",
              "       'Current account balance billion USD',\n",
              "       'Research and development expenditure percent of GDP',\n",
              "       'Public spending on education percent of GDP', 'ranking index'],\n",
              "      dtype='object')"
            ]
          },
          "metadata": {},
          "execution_count": 19
        }
      ]
    },
    {
      "cell_type": "code",
      "source": [
        "X = df.drop(['country', 'Code', 'ContinentCode', 'year', 'ranking index'], axis=1)\n",
        "y = df['ranking index']"
      ],
      "metadata": {
        "id": "FYSHSaY-YeJt"
      },
      "execution_count": null,
      "outputs": []
    },
    {
      "cell_type": "code",
      "source": [
        "X.head()"
      ],
      "metadata": {
        "colab": {
          "base_uri": "https://localhost:8080/",
          "height": 330
        },
        "id": "nBz-6PhJa2Ck",
        "outputId": "1c1df85d-cbed-41b8-c7b7-f108f1044c82"
      },
      "execution_count": null,
      "outputs": [
        {
          "output_type": "execute_result",
          "data": {
            "text/plain": [
              "   GDP per capita constant 2010 dollars  Capital investment as percent of GDP  \\\n",
              "0                              13595.04                                 18.21   \n",
              "1                              13105.40                                 16.61   \n",
              "2                              12716.22                                 14.21   \n",
              "3                              11341.27                                 14.13   \n",
              "4                              12402.49                                 17.47   \n",
              "\n",
              "   Capital investment billion USD  Household consumption as percent of GDP  \\\n",
              "0                          117.22                                    66.74   \n",
              "1                           87.19                                    69.47   \n",
              "2                           63.63                                    66.13   \n",
              "3                           54.48                                    63.79   \n",
              "4                           85.14                                    60.89   \n",
              "\n",
              "   Household consumption billion USD  Labor force million people  \\\n",
              "0                             429.55                       19.58   \n",
              "1                             364.59                       20.10   \n",
              "2                             296.09                       20.61   \n",
              "3                             245.94                       19.41   \n",
              "4                             296.69                       21.19   \n",
              "\n",
              "   Government spending as percent of GDP  Government spending billion USD  \\\n",
              "0                                  17.70                           113.90   \n",
              "1                                  15.81                            82.95   \n",
              "2                                  16.44                            73.63   \n",
              "3                                  16.89                            65.12   \n",
              "4                                  15.84                            77.19   \n",
              "\n",
              "   Tax revenue percent of GDP  Population growth percent  \\\n",
              "0                       10.94                       1.04   \n",
              "1                        9.99                       1.02   \n",
              "2                       10.59                       0.99   \n",
              "3                       10.87                       0.97   \n",
              "4                       11.48                       0.95   \n",
              "\n",
              "   Happiness Index 0 (unhappy) - 10 (happy)  \\\n",
              "0                                      6.60   \n",
              "1                                      6.39   \n",
              "2                                      6.09   \n",
              "3                                      5.93   \n",
              "4                                      5.97   \n",
              "\n",
              "   Economic growth: the rate of change of real GDP  \\\n",
              "0                                             2.82   \n",
              "1                                            -2.62   \n",
              "2                                            -2.00   \n",
              "3                                            -9.94   \n",
              "4                                            10.40   \n",
              "\n",
              "   Gross Domestic Product billions of 2010 U.S. dollars  Unemployment rate  \\\n",
              "0                                              598.8                  8.35   \n",
              "1                                              583.1                  9.22   \n",
              "2                                              571.5                  9.84   \n",
              "3                                              514.6                 11.46   \n",
              "4                                              568.1                  8.74   \n",
              "\n",
              "   Exports of goods and services billion USD  \\\n",
              "0                                      72.86   \n",
              "1                                      75.77   \n",
              "2                                      80.26   \n",
              "3                                      64.04   \n",
              "4                                      87.87   \n",
              "\n",
              "   Exports of goods and services annual growth  \\\n",
              "0                                         2.62   \n",
              "1                                         0.65   \n",
              "2                                         9.75   \n",
              "3                                       -17.71   \n",
              "4                                         9.22   \n",
              "\n",
              "   Imports of goods and services billion USD  \\\n",
              "0                                      89.91   \n",
              "1                                      85.68   \n",
              "2                                      65.85   \n",
              "3                                      52.47   \n",
              "4                                      72.82   \n",
              "\n",
              "   Current account balance billion USD  \\\n",
              "0                               -31.15   \n",
              "1                               -27.08   \n",
              "2                                -3.49   \n",
              "3                                 3.12   \n",
              "4                                 6.71   \n",
              "\n",
              "   Research and development expenditure percent of GDP  \\\n",
              "0                                               0.56     \n",
              "1                                               0.49     \n",
              "2                                               0.46     \n",
              "3                                                NaN     \n",
              "4                                                NaN     \n",
              "\n",
              "   Public spending on education percent of GDP  \n",
              "0                                         5.45  \n",
              "1                                         4.88  \n",
              "2                                         4.72  \n",
              "3                                         5.02  \n",
              "4                                          NaN  "
            ],
            "text/html": [
              "\n",
              "  <div id=\"df-2c465239-2c01-4e36-931a-bf4b96024eb5\" class=\"colab-df-container\">\n",
              "    <div>\n",
              "<style scoped>\n",
              "    .dataframe tbody tr th:only-of-type {\n",
              "        vertical-align: middle;\n",
              "    }\n",
              "\n",
              "    .dataframe tbody tr th {\n",
              "        vertical-align: top;\n",
              "    }\n",
              "\n",
              "    .dataframe thead th {\n",
              "        text-align: right;\n",
              "    }\n",
              "</style>\n",
              "<table border=\"1\" class=\"dataframe\">\n",
              "  <thead>\n",
              "    <tr style=\"text-align: right;\">\n",
              "      <th></th>\n",
              "      <th>GDP per capita constant 2010 dollars</th>\n",
              "      <th>Capital investment as percent of GDP</th>\n",
              "      <th>Capital investment billion USD</th>\n",
              "      <th>Household consumption as percent of GDP</th>\n",
              "      <th>Household consumption billion USD</th>\n",
              "      <th>Labor force million people</th>\n",
              "      <th>Government spending as percent of GDP</th>\n",
              "      <th>Government spending billion USD</th>\n",
              "      <th>Tax revenue percent of GDP</th>\n",
              "      <th>Population growth percent</th>\n",
              "      <th>Happiness Index 0 (unhappy) - 10 (happy)</th>\n",
              "      <th>Economic growth: the rate of change of real GDP</th>\n",
              "      <th>Gross Domestic Product billions of 2010 U.S. dollars</th>\n",
              "      <th>Unemployment rate</th>\n",
              "      <th>Exports of goods and services billion USD</th>\n",
              "      <th>Exports of goods and services annual growth</th>\n",
              "      <th>Imports of goods and services billion USD</th>\n",
              "      <th>Current account balance billion USD</th>\n",
              "      <th>Research and development expenditure percent of GDP</th>\n",
              "      <th>Public spending on education percent of GDP</th>\n",
              "    </tr>\n",
              "  </thead>\n",
              "  <tbody>\n",
              "    <tr>\n",
              "      <th>0</th>\n",
              "      <td>13595.04</td>\n",
              "      <td>18.21</td>\n",
              "      <td>117.22</td>\n",
              "      <td>66.74</td>\n",
              "      <td>429.55</td>\n",
              "      <td>19.58</td>\n",
              "      <td>17.70</td>\n",
              "      <td>113.90</td>\n",
              "      <td>10.94</td>\n",
              "      <td>1.04</td>\n",
              "      <td>6.60</td>\n",
              "      <td>2.82</td>\n",
              "      <td>598.8</td>\n",
              "      <td>8.35</td>\n",
              "      <td>72.86</td>\n",
              "      <td>2.62</td>\n",
              "      <td>89.91</td>\n",
              "      <td>-31.15</td>\n",
              "      <td>0.56</td>\n",
              "      <td>5.45</td>\n",
              "    </tr>\n",
              "    <tr>\n",
              "      <th>1</th>\n",
              "      <td>13105.40</td>\n",
              "      <td>16.61</td>\n",
              "      <td>87.19</td>\n",
              "      <td>69.47</td>\n",
              "      <td>364.59</td>\n",
              "      <td>20.10</td>\n",
              "      <td>15.81</td>\n",
              "      <td>82.95</td>\n",
              "      <td>9.99</td>\n",
              "      <td>1.02</td>\n",
              "      <td>6.39</td>\n",
              "      <td>-2.62</td>\n",
              "      <td>583.1</td>\n",
              "      <td>9.22</td>\n",
              "      <td>75.77</td>\n",
              "      <td>0.65</td>\n",
              "      <td>85.68</td>\n",
              "      <td>-27.08</td>\n",
              "      <td>0.49</td>\n",
              "      <td>4.88</td>\n",
              "    </tr>\n",
              "    <tr>\n",
              "      <th>2</th>\n",
              "      <td>12716.22</td>\n",
              "      <td>14.21</td>\n",
              "      <td>63.63</td>\n",
              "      <td>66.13</td>\n",
              "      <td>296.09</td>\n",
              "      <td>20.61</td>\n",
              "      <td>16.44</td>\n",
              "      <td>73.63</td>\n",
              "      <td>10.59</td>\n",
              "      <td>0.99</td>\n",
              "      <td>6.09</td>\n",
              "      <td>-2.00</td>\n",
              "      <td>571.5</td>\n",
              "      <td>9.84</td>\n",
              "      <td>80.26</td>\n",
              "      <td>9.75</td>\n",
              "      <td>65.85</td>\n",
              "      <td>-3.49</td>\n",
              "      <td>0.46</td>\n",
              "      <td>4.72</td>\n",
              "    </tr>\n",
              "    <tr>\n",
              "      <th>3</th>\n",
              "      <td>11341.27</td>\n",
              "      <td>14.13</td>\n",
              "      <td>54.48</td>\n",
              "      <td>63.79</td>\n",
              "      <td>245.94</td>\n",
              "      <td>19.41</td>\n",
              "      <td>16.89</td>\n",
              "      <td>65.12</td>\n",
              "      <td>10.87</td>\n",
              "      <td>0.97</td>\n",
              "      <td>5.93</td>\n",
              "      <td>-9.94</td>\n",
              "      <td>514.6</td>\n",
              "      <td>11.46</td>\n",
              "      <td>64.04</td>\n",
              "      <td>-17.71</td>\n",
              "      <td>52.47</td>\n",
              "      <td>3.12</td>\n",
              "      <td>NaN</td>\n",
              "      <td>5.02</td>\n",
              "    </tr>\n",
              "    <tr>\n",
              "      <th>4</th>\n",
              "      <td>12402.49</td>\n",
              "      <td>17.47</td>\n",
              "      <td>85.14</td>\n",
              "      <td>60.89</td>\n",
              "      <td>296.69</td>\n",
              "      <td>21.19</td>\n",
              "      <td>15.84</td>\n",
              "      <td>77.19</td>\n",
              "      <td>11.48</td>\n",
              "      <td>0.95</td>\n",
              "      <td>5.97</td>\n",
              "      <td>10.40</td>\n",
              "      <td>568.1</td>\n",
              "      <td>8.74</td>\n",
              "      <td>87.87</td>\n",
              "      <td>9.22</td>\n",
              "      <td>72.82</td>\n",
              "      <td>6.71</td>\n",
              "      <td>NaN</td>\n",
              "      <td>NaN</td>\n",
              "    </tr>\n",
              "  </tbody>\n",
              "</table>\n",
              "</div>\n",
              "    <div class=\"colab-df-buttons\">\n",
              "\n",
              "  <div class=\"colab-df-container\">\n",
              "    <button class=\"colab-df-convert\" onclick=\"convertToInteractive('df-2c465239-2c01-4e36-931a-bf4b96024eb5')\"\n",
              "            title=\"Convert this dataframe to an interactive table.\"\n",
              "            style=\"display:none;\">\n",
              "\n",
              "  <svg xmlns=\"http://www.w3.org/2000/svg\" height=\"24px\" viewBox=\"0 -960 960 960\">\n",
              "    <path d=\"M120-120v-720h720v720H120Zm60-500h600v-160H180v160Zm220 220h160v-160H400v160Zm0 220h160v-160H400v160ZM180-400h160v-160H180v160Zm440 0h160v-160H620v160ZM180-180h160v-160H180v160Zm440 0h160v-160H620v160Z\"/>\n",
              "  </svg>\n",
              "    </button>\n",
              "\n",
              "  <style>\n",
              "    .colab-df-container {\n",
              "      display:flex;\n",
              "      gap: 12px;\n",
              "    }\n",
              "\n",
              "    .colab-df-convert {\n",
              "      background-color: #E8F0FE;\n",
              "      border: none;\n",
              "      border-radius: 50%;\n",
              "      cursor: pointer;\n",
              "      display: none;\n",
              "      fill: #1967D2;\n",
              "      height: 32px;\n",
              "      padding: 0 0 0 0;\n",
              "      width: 32px;\n",
              "    }\n",
              "\n",
              "    .colab-df-convert:hover {\n",
              "      background-color: #E2EBFA;\n",
              "      box-shadow: 0px 1px 2px rgba(60, 64, 67, 0.3), 0px 1px 3px 1px rgba(60, 64, 67, 0.15);\n",
              "      fill: #174EA6;\n",
              "    }\n",
              "\n",
              "    .colab-df-buttons div {\n",
              "      margin-bottom: 4px;\n",
              "    }\n",
              "\n",
              "    [theme=dark] .colab-df-convert {\n",
              "      background-color: #3B4455;\n",
              "      fill: #D2E3FC;\n",
              "    }\n",
              "\n",
              "    [theme=dark] .colab-df-convert:hover {\n",
              "      background-color: #434B5C;\n",
              "      box-shadow: 0px 1px 3px 1px rgba(0, 0, 0, 0.15);\n",
              "      filter: drop-shadow(0px 1px 2px rgba(0, 0, 0, 0.3));\n",
              "      fill: #FFFFFF;\n",
              "    }\n",
              "  </style>\n",
              "\n",
              "    <script>\n",
              "      const buttonEl =\n",
              "        document.querySelector('#df-2c465239-2c01-4e36-931a-bf4b96024eb5 button.colab-df-convert');\n",
              "      buttonEl.style.display =\n",
              "        google.colab.kernel.accessAllowed ? 'block' : 'none';\n",
              "\n",
              "      async function convertToInteractive(key) {\n",
              "        const element = document.querySelector('#df-2c465239-2c01-4e36-931a-bf4b96024eb5');\n",
              "        const dataTable =\n",
              "          await google.colab.kernel.invokeFunction('convertToInteractive',\n",
              "                                                    [key], {});\n",
              "        if (!dataTable) return;\n",
              "\n",
              "        const docLinkHtml = 'Like what you see? Visit the ' +\n",
              "          '<a target=\"_blank\" href=https://colab.research.google.com/notebooks/data_table.ipynb>data table notebook</a>'\n",
              "          + ' to learn more about interactive tables.';\n",
              "        element.innerHTML = '';\n",
              "        dataTable['output_type'] = 'display_data';\n",
              "        await google.colab.output.renderOutput(dataTable, element);\n",
              "        const docLink = document.createElement('div');\n",
              "        docLink.innerHTML = docLinkHtml;\n",
              "        element.appendChild(docLink);\n",
              "      }\n",
              "    </script>\n",
              "  </div>\n",
              "\n",
              "\n",
              "<div id=\"df-3bd2cedd-a321-411f-8db3-a6655f55e096\">\n",
              "  <button class=\"colab-df-quickchart\" onclick=\"quickchart('df-3bd2cedd-a321-411f-8db3-a6655f55e096')\"\n",
              "            title=\"Suggest charts\"\n",
              "            style=\"display:none;\">\n",
              "\n",
              "<svg xmlns=\"http://www.w3.org/2000/svg\" height=\"24px\"viewBox=\"0 0 24 24\"\n",
              "     width=\"24px\">\n",
              "    <g>\n",
              "        <path d=\"M19 3H5c-1.1 0-2 .9-2 2v14c0 1.1.9 2 2 2h14c1.1 0 2-.9 2-2V5c0-1.1-.9-2-2-2zM9 17H7v-7h2v7zm4 0h-2V7h2v10zm4 0h-2v-4h2v4z\"/>\n",
              "    </g>\n",
              "</svg>\n",
              "  </button>\n",
              "\n",
              "<style>\n",
              "  .colab-df-quickchart {\n",
              "      --bg-color: #E8F0FE;\n",
              "      --fill-color: #1967D2;\n",
              "      --hover-bg-color: #E2EBFA;\n",
              "      --hover-fill-color: #174EA6;\n",
              "      --disabled-fill-color: #AAA;\n",
              "      --disabled-bg-color: #DDD;\n",
              "  }\n",
              "\n",
              "  [theme=dark] .colab-df-quickchart {\n",
              "      --bg-color: #3B4455;\n",
              "      --fill-color: #D2E3FC;\n",
              "      --hover-bg-color: #434B5C;\n",
              "      --hover-fill-color: #FFFFFF;\n",
              "      --disabled-bg-color: #3B4455;\n",
              "      --disabled-fill-color: #666;\n",
              "  }\n",
              "\n",
              "  .colab-df-quickchart {\n",
              "    background-color: var(--bg-color);\n",
              "    border: none;\n",
              "    border-radius: 50%;\n",
              "    cursor: pointer;\n",
              "    display: none;\n",
              "    fill: var(--fill-color);\n",
              "    height: 32px;\n",
              "    padding: 0;\n",
              "    width: 32px;\n",
              "  }\n",
              "\n",
              "  .colab-df-quickchart:hover {\n",
              "    background-color: var(--hover-bg-color);\n",
              "    box-shadow: 0 1px 2px rgba(60, 64, 67, 0.3), 0 1px 3px 1px rgba(60, 64, 67, 0.15);\n",
              "    fill: var(--button-hover-fill-color);\n",
              "  }\n",
              "\n",
              "  .colab-df-quickchart-complete:disabled,\n",
              "  .colab-df-quickchart-complete:disabled:hover {\n",
              "    background-color: var(--disabled-bg-color);\n",
              "    fill: var(--disabled-fill-color);\n",
              "    box-shadow: none;\n",
              "  }\n",
              "\n",
              "  .colab-df-spinner {\n",
              "    border: 2px solid var(--fill-color);\n",
              "    border-color: transparent;\n",
              "    border-bottom-color: var(--fill-color);\n",
              "    animation:\n",
              "      spin 1s steps(1) infinite;\n",
              "  }\n",
              "\n",
              "  @keyframes spin {\n",
              "    0% {\n",
              "      border-color: transparent;\n",
              "      border-bottom-color: var(--fill-color);\n",
              "      border-left-color: var(--fill-color);\n",
              "    }\n",
              "    20% {\n",
              "      border-color: transparent;\n",
              "      border-left-color: var(--fill-color);\n",
              "      border-top-color: var(--fill-color);\n",
              "    }\n",
              "    30% {\n",
              "      border-color: transparent;\n",
              "      border-left-color: var(--fill-color);\n",
              "      border-top-color: var(--fill-color);\n",
              "      border-right-color: var(--fill-color);\n",
              "    }\n",
              "    40% {\n",
              "      border-color: transparent;\n",
              "      border-right-color: var(--fill-color);\n",
              "      border-top-color: var(--fill-color);\n",
              "    }\n",
              "    60% {\n",
              "      border-color: transparent;\n",
              "      border-right-color: var(--fill-color);\n",
              "    }\n",
              "    80% {\n",
              "      border-color: transparent;\n",
              "      border-right-color: var(--fill-color);\n",
              "      border-bottom-color: var(--fill-color);\n",
              "    }\n",
              "    90% {\n",
              "      border-color: transparent;\n",
              "      border-bottom-color: var(--fill-color);\n",
              "    }\n",
              "  }\n",
              "</style>\n",
              "\n",
              "  <script>\n",
              "    async function quickchart(key) {\n",
              "      const quickchartButtonEl =\n",
              "        document.querySelector('#' + key + ' button');\n",
              "      quickchartButtonEl.disabled = true;  // To prevent multiple clicks.\n",
              "      quickchartButtonEl.classList.add('colab-df-spinner');\n",
              "      try {\n",
              "        const charts = await google.colab.kernel.invokeFunction(\n",
              "            'suggestCharts', [key], {});\n",
              "      } catch (error) {\n",
              "        console.error('Error during call to suggestCharts:', error);\n",
              "      }\n",
              "      quickchartButtonEl.classList.remove('colab-df-spinner');\n",
              "      quickchartButtonEl.classList.add('colab-df-quickchart-complete');\n",
              "    }\n",
              "    (() => {\n",
              "      let quickchartButtonEl =\n",
              "        document.querySelector('#df-3bd2cedd-a321-411f-8db3-a6655f55e096 button');\n",
              "      quickchartButtonEl.style.display =\n",
              "        google.colab.kernel.accessAllowed ? 'block' : 'none';\n",
              "    })();\n",
              "  </script>\n",
              "</div>\n",
              "    </div>\n",
              "  </div>\n"
            ]
          },
          "metadata": {},
          "execution_count": 26
        }
      ]
    },
    {
      "cell_type": "code",
      "source": [
        "imputer = SimpleImputer(strategy='mean')\n",
        "X_imputed = imputer.fit_transform(X)\n",
        "scaler = StandardScaler()\n",
        "X_scaled = scaler.fit_transform(X_imputed)"
      ],
      "metadata": {
        "id": "cWNRngmiYk18"
      },
      "execution_count": null,
      "outputs": []
    },
    {
      "cell_type": "code",
      "source": [
        "X_train, X_test, y_train, y_test = train_test_split(X_scaled, y, test_size=0.2, random_state=0)"
      ],
      "metadata": {
        "id": "pFGL2bqnYnJ1"
      },
      "execution_count": null,
      "outputs": []
    },
    {
      "cell_type": "code",
      "source": [
        "X_train"
      ],
      "metadata": {
        "colab": {
          "base_uri": "https://localhost:8080/"
        },
        "id": "Rj0UMJ8aa4rk",
        "outputId": "668890fc-94b0-44de-8117-e228beb2c415"
      },
      "execution_count": null,
      "outputs": [
        {
          "output_type": "execute_result",
          "data": {
            "text/plain": [
              "array([[ 9.21610981e-01, -1.89009111e-01, -2.09576123e-01, ...,\n",
              "        -5.29822170e-02, -3.78283909e-01,  2.77171551e-02],\n",
              "       [-2.62156902e-01, -4.65960158e-01, -1.14726000e-01, ...,\n",
              "        -2.81428016e-01,  0.00000000e+00, -8.57165008e-16],\n",
              "       [ 2.73120052e+00,  8.08014661e-01, -3.53750328e-01, ...,\n",
              "         2.35287999e-01,  0.00000000e+00, -8.57165008e-16],\n",
              "       ...,\n",
              "       [-1.34516158e+00, -9.98420882e-01, -3.10190527e-01, ...,\n",
              "         6.25623845e-02, -2.08747945e+00, -8.57165008e-16],\n",
              "       [-1.23514234e+00,  0.00000000e+00,  0.00000000e+00, ...,\n",
              "         2.69949749e+00,  0.00000000e+00, -8.57165008e-16],\n",
              "       [ 7.18940272e-01,  2.52325785e-01, -3.44272038e-01, ...,\n",
              "         1.93063090e-01,  0.00000000e+00, -8.57165008e-16]])"
            ]
          },
          "metadata": {},
          "execution_count": 31
        }
      ]
    },
    {
      "cell_type": "code",
      "source": [
        "lasso_cv = LassoCV(cv=5)\n",
        "lasso_cv.fit(X_train, y_train)"
      ],
      "metadata": {
        "colab": {
          "base_uri": "https://localhost:8080/",
          "height": 702
        },
        "id": "H1kw68sfYr4C",
        "outputId": "23453019-e25b-43b0-edea-c3ca466e4042"
      },
      "execution_count": null,
      "outputs": [
        {
          "output_type": "stream",
          "name": "stderr",
          "text": [
            "/usr/local/lib/python3.10/dist-packages/sklearn/linear_model/_coordinate_descent.py:617: ConvergenceWarning: Objective did not converge. You might want to increase the number of iterations. Duality gap: 11209.10990453884, tolerance: 8275.081386885246\n",
            "  model = cd_fast.enet_coordinate_descent_gram(\n",
            "/usr/local/lib/python3.10/dist-packages/sklearn/linear_model/_coordinate_descent.py:617: ConvergenceWarning: Objective did not converge. You might want to increase the number of iterations. Duality gap: 11633.08432706818, tolerance: 8275.081386885246\n",
            "  model = cd_fast.enet_coordinate_descent_gram(\n",
            "/usr/local/lib/python3.10/dist-packages/sklearn/linear_model/_coordinate_descent.py:617: ConvergenceWarning: Objective did not converge. You might want to increase the number of iterations. Duality gap: 11649.90039685741, tolerance: 8275.081386885246\n",
            "  model = cd_fast.enet_coordinate_descent_gram(\n",
            "/usr/local/lib/python3.10/dist-packages/sklearn/linear_model/_coordinate_descent.py:617: ConvergenceWarning: Objective did not converge. You might want to increase the number of iterations. Duality gap: 11549.073723617941, tolerance: 8275.081386885246\n",
            "  model = cd_fast.enet_coordinate_descent_gram(\n",
            "/usr/local/lib/python3.10/dist-packages/sklearn/linear_model/_coordinate_descent.py:617: ConvergenceWarning: Objective did not converge. You might want to increase the number of iterations. Duality gap: 11379.858371214941, tolerance: 8275.081386885246\n",
            "  model = cd_fast.enet_coordinate_descent_gram(\n",
            "/usr/local/lib/python3.10/dist-packages/sklearn/linear_model/_coordinate_descent.py:617: ConvergenceWarning: Objective did not converge. You might want to increase the number of iterations. Duality gap: 11159.831596266478, tolerance: 8275.081386885246\n",
            "  model = cd_fast.enet_coordinate_descent_gram(\n",
            "/usr/local/lib/python3.10/dist-packages/sklearn/linear_model/_coordinate_descent.py:617: ConvergenceWarning: Objective did not converge. You might want to increase the number of iterations. Duality gap: 10900.904575876892, tolerance: 8275.081386885246\n",
            "  model = cd_fast.enet_coordinate_descent_gram(\n",
            "/usr/local/lib/python3.10/dist-packages/sklearn/linear_model/_coordinate_descent.py:617: ConvergenceWarning: Objective did not converge. You might want to increase the number of iterations. Duality gap: 10612.74330942519, tolerance: 8275.081386885246\n",
            "  model = cd_fast.enet_coordinate_descent_gram(\n",
            "/usr/local/lib/python3.10/dist-packages/sklearn/linear_model/_coordinate_descent.py:617: ConvergenceWarning: Objective did not converge. You might want to increase the number of iterations. Duality gap: 10303.404363028705, tolerance: 8275.081386885246\n",
            "  model = cd_fast.enet_coordinate_descent_gram(\n",
            "/usr/local/lib/python3.10/dist-packages/sklearn/linear_model/_coordinate_descent.py:617: ConvergenceWarning: Objective did not converge. You might want to increase the number of iterations. Duality gap: 15913.760933984071, tolerance: 10549.96632682927\n",
            "  model = cd_fast.enet_coordinate_descent_gram(\n",
            "/usr/local/lib/python3.10/dist-packages/sklearn/linear_model/_coordinate_descent.py:617: ConvergenceWarning: Objective did not converge. You might want to increase the number of iterations. Duality gap: 17077.988101253286, tolerance: 10549.96632682927\n",
            "  model = cd_fast.enet_coordinate_descent_gram(\n",
            "/usr/local/lib/python3.10/dist-packages/sklearn/linear_model/_coordinate_descent.py:617: ConvergenceWarning: Objective did not converge. You might want to increase the number of iterations. Duality gap: 17342.40027733706, tolerance: 10549.96632682927\n",
            "  model = cd_fast.enet_coordinate_descent_gram(\n",
            "/usr/local/lib/python3.10/dist-packages/sklearn/linear_model/_coordinate_descent.py:617: ConvergenceWarning: Objective did not converge. You might want to increase the number of iterations. Duality gap: 17354.134832115844, tolerance: 10549.96632682927\n",
            "  model = cd_fast.enet_coordinate_descent_gram(\n",
            "/usr/local/lib/python3.10/dist-packages/sklearn/linear_model/_coordinate_descent.py:617: ConvergenceWarning: Objective did not converge. You might want to increase the number of iterations. Duality gap: 17226.672078769654, tolerance: 10549.96632682927\n",
            "  model = cd_fast.enet_coordinate_descent_gram(\n",
            "/usr/local/lib/python3.10/dist-packages/sklearn/linear_model/_coordinate_descent.py:617: ConvergenceWarning: Objective did not converge. You might want to increase the number of iterations. Duality gap: 16996.269790735096, tolerance: 10549.96632682927\n",
            "  model = cd_fast.enet_coordinate_descent_gram(\n",
            "/usr/local/lib/python3.10/dist-packages/sklearn/linear_model/_coordinate_descent.py:617: ConvergenceWarning: Objective did not converge. You might want to increase the number of iterations. Duality gap: 16685.570896178484, tolerance: 10549.96632682927\n",
            "  model = cd_fast.enet_coordinate_descent_gram(\n",
            "/usr/local/lib/python3.10/dist-packages/sklearn/linear_model/_coordinate_descent.py:617: ConvergenceWarning: Objective did not converge. You might want to increase the number of iterations. Duality gap: 16312.624270157889, tolerance: 10549.96632682927\n",
            "  model = cd_fast.enet_coordinate_descent_gram(\n"
          ]
        },
        {
          "output_type": "execute_result",
          "data": {
            "text/plain": [
              "LassoCV(cv=5)"
            ],
            "text/html": [
              "<style>#sk-container-id-2 {color: black;background-color: white;}#sk-container-id-2 pre{padding: 0;}#sk-container-id-2 div.sk-toggleable {background-color: white;}#sk-container-id-2 label.sk-toggleable__label {cursor: pointer;display: block;width: 100%;margin-bottom: 0;padding: 0.3em;box-sizing: border-box;text-align: center;}#sk-container-id-2 label.sk-toggleable__label-arrow:before {content: \"▸\";float: left;margin-right: 0.25em;color: #696969;}#sk-container-id-2 label.sk-toggleable__label-arrow:hover:before {color: black;}#sk-container-id-2 div.sk-estimator:hover label.sk-toggleable__label-arrow:before {color: black;}#sk-container-id-2 div.sk-toggleable__content {max-height: 0;max-width: 0;overflow: hidden;text-align: left;background-color: #f0f8ff;}#sk-container-id-2 div.sk-toggleable__content pre {margin: 0.2em;color: black;border-radius: 0.25em;background-color: #f0f8ff;}#sk-container-id-2 input.sk-toggleable__control:checked~div.sk-toggleable__content {max-height: 200px;max-width: 100%;overflow: auto;}#sk-container-id-2 input.sk-toggleable__control:checked~label.sk-toggleable__label-arrow:before {content: \"▾\";}#sk-container-id-2 div.sk-estimator input.sk-toggleable__control:checked~label.sk-toggleable__label {background-color: #d4ebff;}#sk-container-id-2 div.sk-label input.sk-toggleable__control:checked~label.sk-toggleable__label {background-color: #d4ebff;}#sk-container-id-2 input.sk-hidden--visually {border: 0;clip: rect(1px 1px 1px 1px);clip: rect(1px, 1px, 1px, 1px);height: 1px;margin: -1px;overflow: hidden;padding: 0;position: absolute;width: 1px;}#sk-container-id-2 div.sk-estimator {font-family: monospace;background-color: #f0f8ff;border: 1px dotted black;border-radius: 0.25em;box-sizing: border-box;margin-bottom: 0.5em;}#sk-container-id-2 div.sk-estimator:hover {background-color: #d4ebff;}#sk-container-id-2 div.sk-parallel-item::after {content: \"\";width: 100%;border-bottom: 1px solid gray;flex-grow: 1;}#sk-container-id-2 div.sk-label:hover label.sk-toggleable__label {background-color: #d4ebff;}#sk-container-id-2 div.sk-serial::before {content: \"\";position: absolute;border-left: 1px solid gray;box-sizing: border-box;top: 0;bottom: 0;left: 50%;z-index: 0;}#sk-container-id-2 div.sk-serial {display: flex;flex-direction: column;align-items: center;background-color: white;padding-right: 0.2em;padding-left: 0.2em;position: relative;}#sk-container-id-2 div.sk-item {position: relative;z-index: 1;}#sk-container-id-2 div.sk-parallel {display: flex;align-items: stretch;justify-content: center;background-color: white;position: relative;}#sk-container-id-2 div.sk-item::before, #sk-container-id-2 div.sk-parallel-item::before {content: \"\";position: absolute;border-left: 1px solid gray;box-sizing: border-box;top: 0;bottom: 0;left: 50%;z-index: -1;}#sk-container-id-2 div.sk-parallel-item {display: flex;flex-direction: column;z-index: 1;position: relative;background-color: white;}#sk-container-id-2 div.sk-parallel-item:first-child::after {align-self: flex-end;width: 50%;}#sk-container-id-2 div.sk-parallel-item:last-child::after {align-self: flex-start;width: 50%;}#sk-container-id-2 div.sk-parallel-item:only-child::after {width: 0;}#sk-container-id-2 div.sk-dashed-wrapped {border: 1px dashed gray;margin: 0 0.4em 0.5em 0.4em;box-sizing: border-box;padding-bottom: 0.4em;background-color: white;}#sk-container-id-2 div.sk-label label {font-family: monospace;font-weight: bold;display: inline-block;line-height: 1.2em;}#sk-container-id-2 div.sk-label-container {text-align: center;}#sk-container-id-2 div.sk-container {/* jupyter's `normalize.less` sets `[hidden] { display: none; }` but bootstrap.min.css set `[hidden] { display: none !important; }` so we also need the `!important` here to be able to override the default hidden behavior on the sphinx rendered scikit-learn.org. See: https://github.com/scikit-learn/scikit-learn/issues/21755 */display: inline-block !important;position: relative;}#sk-container-id-2 div.sk-text-repr-fallback {display: none;}</style><div id=\"sk-container-id-2\" class=\"sk-top-container\"><div class=\"sk-text-repr-fallback\"><pre>LassoCV(cv=5)</pre><b>In a Jupyter environment, please rerun this cell to show the HTML representation or trust the notebook. <br />On GitHub, the HTML representation is unable to render, please try loading this page with nbviewer.org.</b></div><div class=\"sk-container\" hidden><div class=\"sk-item\"><div class=\"sk-estimator sk-toggleable\"><input class=\"sk-toggleable__control sk-hidden--visually\" id=\"sk-estimator-id-2\" type=\"checkbox\" checked><label for=\"sk-estimator-id-2\" class=\"sk-toggleable__label sk-toggleable__label-arrow\">LassoCV</label><div class=\"sk-toggleable__content\"><pre>LassoCV(cv=5)</pre></div></div></div></div></div>"
            ]
          },
          "metadata": {},
          "execution_count": 23
        }
      ]
    },
    {
      "cell_type": "code",
      "source": [
        "coefs = lasso_cv.coef_\n",
        "features = X.columns\n",
        "\n",
        "# Filter out the non-zero coefficients and their corresponding feature names\n",
        "selected_features = features[coefs != 0]\n",
        "selected_coefs = coefs[coefs != 0]\n",
        "unselected_features = features[coefs == 0]\n",
        "print(unselected_features)\n",
        "\n",
        "# Plot the coefficients\n",
        "plt.figure(figsize=(10, 6))\n",
        "plt.barh(selected_features, selected_coefs)\n",
        "plt.xlabel('Coefficient Value')\n",
        "plt.ylabel('Feature Name')\n",
        "plt.title('Non-Zero Coefficients Selected by Lasso')\n",
        "plt.show()"
      ],
      "metadata": {
        "colab": {
          "base_uri": "https://localhost:8080/",
          "height": 582
        },
        "id": "65QHIWtodZwv",
        "outputId": "7ddadf3b-1eaf-4124-baf7-c462c484d329"
      },
      "execution_count": null,
      "outputs": [
        {
          "output_type": "stream",
          "name": "stdout",
          "text": [
            "Index(['Tax revenue percent of GDP', 'Imports of goods and services billion USD'], dtype='object')\n"
          ]
        },
        {
          "output_type": "display_data",
          "data": {
            "text/plain": [
              "<Figure size 1000x600 with 1 Axes>"
            ],
            "image/png": "[encoded data removed]"
          },
          "metadata": {}
        }
      ]
    },
    {
      "cell_type": "code",
      "source": [
        "y_pred = lasso_cv.predict(X_test)\n",
        "mse = mean_squared_error(y_test, y_pred)\n",
        "print(f\"Mean Squared Error: {mse}\")"
      ],
      "metadata": {
        "colab": {
          "base_uri": "https://localhost:8080/"
        },
        "id": "1L-JPjSDacBs",
        "outputId": "4c62037b-1956-481e-c3e8-a8fcd72ed77c"
      },
      "execution_count": null,
      "outputs": [
        {
          "output_type": "stream",
          "name": "stdout",
          "text": [
            "Mean Squared Error: 243415.37720518597\n"
          ]
        }
      ]
    },
    {
      "cell_type": "code",
      "source": [
        "print(f\"Best alpha: {lasso_cv.alpha_}\")\n",
        "coef_dict = {df.columns[i+4]: lasso_cv.coef_[i] for i in range(len(df.columns)-5)}\n",
        "print(coef_dict)"
      ],
      "metadata": {
        "colab": {
          "base_uri": "https://localhost:8080/"
        },
        "id": "GZwKWMPfagVO",
        "outputId": "662d39d4-fb6b-4b20-e695-8024469921a9"
      },
      "execution_count": null,
      "outputs": [
        {
          "output_type": "stream",
          "name": "stdout",
          "text": [
            "Best alpha: 7.873999902800354\n",
            "{'GDP per capita constant 2010 dollars': 262.4899900818571, 'Capital investment as percent of GDP': -148.35859466344007, 'Capital investment billion USD': -145.11542311904043, 'Household consumption as percent of GDP': 117.6718919304828, 'Household consumption billion USD': 123.23323623601972, 'Labor force million people': -61.868253227633, 'Government spending as percent of GDP': 55.10846827625502, 'Government spending billion USD': 312.1083592843328, 'Tax revenue percent of GDP': 0.0, 'Population growth percent': 6.365210617015013, 'Happiness Index 0 (unhappy) - 10 (happy)': -58.75759316217983, 'Economic growth: the rate of change of real GDP': -23.120461368807025, 'Gross Domestic Product billions of 2010 U.S. dollars': 238.2753836069381, 'Unemployment rate': -151.8349300440346, 'Exports of goods and services billion USD': 225.52489621082321, 'Exports of goods and services annual growth': -18.05661898206782, 'Imports of goods and services billion USD': 0.0, 'Current account balance billion USD': -317.1694894152698, 'Research and development expenditure percent of GDP': 3.531783567971101, 'Public spending on education percent of GDP': -34.58698661676337}\n"
          ]
        }
      ]
    }
  ]
}