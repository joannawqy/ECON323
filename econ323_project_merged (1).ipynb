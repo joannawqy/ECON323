{
 "cells": [
  {
   "cell_type": "markdown",
   "id": "322470c5-d98f-404e-94b2-4eeea2934d69",
   "metadata": {},
   "source": [
    "### Regression models"
   ]
  },
  {
   "cell_type": "code",
   "execution_count": 29,
   "id": "3069104c-eb00-437d-b72a-39ffc1aa5b8c",
   "metadata": {},
   "outputs": [
    {
     "name": "stdout",
     "output_type": "stream",
     "text": [
      "Are there NaN values in 'ranking index'? False\n",
      "Are there inf values in 'ranking index'? False\n"
     ]
    }
   ],
   "source": [
    "# Check for na values in 'ranking index'\n",
    "nan_exists = merged_data['ranking index'].isna().any()\n",
    "print(f\"Are there NaN values in 'ranking index'? {nan_exists}\")\n",
    "# Check for inf (infinite) values in 'ranking index'\n",
    "inf_exists = merged_data['ranking index'].replace([np.inf, -np.inf], np.nan).isna().any()\n",
    "print(f\"Are there inf values in 'ranking index'? {inf_exists}\")"
   ]
  },
  {
   "cell_type": "code",
   "execution_count": 22,
   "id": "bf00a864-6eeb-4fda-8f0d-34c1f4ad599a",
   "metadata": {},
   "outputs": [
    {
     "name": "stdout",
     "output_type": "stream",
     "text": [
      "\u001b[33mWARNING: Skipping /opt/conda/lib/python3.11/site-packages/nlopt-2.7.1.dist-info due to invalid metadata entry 'name'\u001b[0m\u001b[33m\n",
      "\u001b[0m\u001b[33mWARNING: Skipping /opt/conda/lib/python3.11/site-packages/nlopt-2.7.1.dist-info due to invalid metadata entry 'name'\u001b[0m\u001b[33m\n",
      "\u001b[0mRequirement already satisfied: statsmodels in /opt/conda/lib/python3.11/site-packages (0.14.0)\n",
      "Requirement already satisfied: numpy>=1.18 in /opt/conda/lib/python3.11/site-packages (from statsmodels) (1.24.4)\n",
      "Requirement already satisfied: scipy!=1.9.2,>=1.4 in /opt/conda/lib/python3.11/site-packages (from statsmodels) (1.11.1)\n",
      "Requirement already satisfied: pandas>=1.0 in /opt/conda/lib/python3.11/site-packages (from statsmodels) (1.5.3)\n",
      "Requirement already satisfied: patsy>=0.5.2 in /opt/conda/lib/python3.11/site-packages (from statsmodels) (0.5.3)\n",
      "Requirement already satisfied: packaging>=21.3 in /opt/conda/lib/python3.11/site-packages (from statsmodels) (23.1)\n",
      "Requirement already satisfied: python-dateutil>=2.8.1 in /opt/conda/lib/python3.11/site-packages (from pandas>=1.0->statsmodels) (2.8.2)\n",
      "Requirement already satisfied: pytz>=2020.1 in /opt/conda/lib/python3.11/site-packages (from pandas>=1.0->statsmodels) (2023.3)\n",
      "Requirement already satisfied: six in /opt/conda/lib/python3.11/site-packages (from patsy>=0.5.2->statsmodels) (1.16.0)\n",
      "\u001b[33mWARNING: Skipping /opt/conda/lib/python3.11/site-packages/nlopt-2.7.1.dist-info due to invalid metadata entry 'name'\u001b[0m\u001b[33m\n",
      "\u001b[0mNote: you may need to restart the kernel to use updated packages.\n"
     ]
    }
   ],
   "source": [
    "pip install statsmodels"
   ]
  },
  {
   "cell_type": "code",
   "execution_count": 23,
   "id": "748f15ac-d281-4e85-925b-ebee4baa6218",
   "metadata": {},
   "outputs": [
    {
     "name": "stdout",
     "output_type": "stream",
     "text": [
      "Indices of NaN values in 'Economic growth: the rate of change of real GDP': []\n",
      "Indices of inf values in 'Economic growth: the rate of change of real GDP': []\n",
      "Indices of NaN values in 'Gross Domestic Product billions of 2010 U.S. dollars': []\n",
      "Indices of inf values in 'Gross Domestic Product billions of 2010 U.S. dollars': []\n",
      "Indices of NaN values in 'Unemployment rate': [143]\n",
      "Indices of inf values in 'Unemployment rate': []\n"
     ]
    },
    {
     "ename": "KeyError",
     "evalue": "'Imports of goods and services billion USD'",
     "output_type": "error",
     "traceback": [
      "\u001b[0;31m---------------------------------------------------------------------------\u001b[0m",
      "\u001b[0;31mKeyError\u001b[0m                                  Traceback (most recent call last)",
      "File \u001b[0;32m/opt/conda/lib/python3.11/site-packages/pandas/core/indexes/base.py:3802\u001b[0m, in \u001b[0;36mIndex.get_loc\u001b[0;34m(self, key, method, tolerance)\u001b[0m\n\u001b[1;32m   3801\u001b[0m \u001b[38;5;28;01mtry\u001b[39;00m:\n\u001b[0;32m-> 3802\u001b[0m     \u001b[38;5;28;01mreturn\u001b[39;00m \u001b[38;5;28;43mself\u001b[39;49m\u001b[38;5;241;43m.\u001b[39;49m\u001b[43m_engine\u001b[49m\u001b[38;5;241;43m.\u001b[39;49m\u001b[43mget_loc\u001b[49m\u001b[43m(\u001b[49m\u001b[43mcasted_key\u001b[49m\u001b[43m)\u001b[49m\n\u001b[1;32m   3803\u001b[0m \u001b[38;5;28;01mexcept\u001b[39;00m \u001b[38;5;167;01mKeyError\u001b[39;00m \u001b[38;5;28;01mas\u001b[39;00m err:\n",
      "File \u001b[0;32m/opt/conda/lib/python3.11/site-packages/pandas/_libs/index.pyx:138\u001b[0m, in \u001b[0;36mpandas._libs.index.IndexEngine.get_loc\u001b[0;34m()\u001b[0m\n",
      "File \u001b[0;32m/opt/conda/lib/python3.11/site-packages/pandas/_libs/index.pyx:165\u001b[0m, in \u001b[0;36mpandas._libs.index.IndexEngine.get_loc\u001b[0;34m()\u001b[0m\n",
      "File \u001b[0;32mpandas/_libs/hashtable_class_helper.pxi:5745\u001b[0m, in \u001b[0;36mpandas._libs.hashtable.PyObjectHashTable.get_item\u001b[0;34m()\u001b[0m\n",
      "File \u001b[0;32mpandas/_libs/hashtable_class_helper.pxi:5753\u001b[0m, in \u001b[0;36mpandas._libs.hashtable.PyObjectHashTable.get_item\u001b[0;34m()\u001b[0m\n",
      "\u001b[0;31mKeyError\u001b[0m: 'Imports of goods and services billion USD'",
      "\nThe above exception was the direct cause of the following exception:\n",
      "\u001b[0;31mKeyError\u001b[0m                                  Traceback (most recent call last)",
      "Cell \u001b[0;32mIn[23], line 11\u001b[0m\n\u001b[1;32m      8\u001b[0m \u001b[38;5;66;03m# Iterate through each column and identify the indices of NaN and inf values\u001b[39;00m\n\u001b[1;32m      9\u001b[0m \u001b[38;5;28;01mfor\u001b[39;00m column \u001b[38;5;129;01min\u001b[39;00m columns_of_interest:\n\u001b[1;32m     10\u001b[0m     \u001b[38;5;66;03m# NaN values\u001b[39;00m\n\u001b[0;32m---> 11\u001b[0m     nan_indices \u001b[38;5;241m=\u001b[39m \u001b[43mmerged_data\u001b[49m\u001b[43m[\u001b[49m\u001b[43mcolumn\u001b[49m\u001b[43m]\u001b[49m[merged_data[column]\u001b[38;5;241m.\u001b[39misna()]\u001b[38;5;241m.\u001b[39mindex\n\u001b[1;32m     12\u001b[0m     \u001b[38;5;28mprint\u001b[39m(\u001b[38;5;124mf\u001b[39m\u001b[38;5;124m\"\u001b[39m\u001b[38;5;124mIndices of NaN values in \u001b[39m\u001b[38;5;124m'\u001b[39m\u001b[38;5;132;01m{\u001b[39;00mcolumn\u001b[38;5;132;01m}\u001b[39;00m\u001b[38;5;124m'\u001b[39m\u001b[38;5;124m: \u001b[39m\u001b[38;5;132;01m{\u001b[39;00mnan_indices\u001b[38;5;241m.\u001b[39mtolist()\u001b[38;5;132;01m}\u001b[39;00m\u001b[38;5;124m\"\u001b[39m)\n\u001b[1;32m     14\u001b[0m     \u001b[38;5;66;03m# Inf values\u001b[39;00m\n",
      "File \u001b[0;32m/opt/conda/lib/python3.11/site-packages/pandas/core/frame.py:3807\u001b[0m, in \u001b[0;36mDataFrame.__getitem__\u001b[0;34m(self, key)\u001b[0m\n\u001b[1;32m   3805\u001b[0m \u001b[38;5;28;01mif\u001b[39;00m \u001b[38;5;28mself\u001b[39m\u001b[38;5;241m.\u001b[39mcolumns\u001b[38;5;241m.\u001b[39mnlevels \u001b[38;5;241m>\u001b[39m \u001b[38;5;241m1\u001b[39m:\n\u001b[1;32m   3806\u001b[0m     \u001b[38;5;28;01mreturn\u001b[39;00m \u001b[38;5;28mself\u001b[39m\u001b[38;5;241m.\u001b[39m_getitem_multilevel(key)\n\u001b[0;32m-> 3807\u001b[0m indexer \u001b[38;5;241m=\u001b[39m \u001b[38;5;28;43mself\u001b[39;49m\u001b[38;5;241;43m.\u001b[39;49m\u001b[43mcolumns\u001b[49m\u001b[38;5;241;43m.\u001b[39;49m\u001b[43mget_loc\u001b[49m\u001b[43m(\u001b[49m\u001b[43mkey\u001b[49m\u001b[43m)\u001b[49m\n\u001b[1;32m   3808\u001b[0m \u001b[38;5;28;01mif\u001b[39;00m is_integer(indexer):\n\u001b[1;32m   3809\u001b[0m     indexer \u001b[38;5;241m=\u001b[39m [indexer]\n",
      "File \u001b[0;32m/opt/conda/lib/python3.11/site-packages/pandas/core/indexes/base.py:3804\u001b[0m, in \u001b[0;36mIndex.get_loc\u001b[0;34m(self, key, method, tolerance)\u001b[0m\n\u001b[1;32m   3802\u001b[0m     \u001b[38;5;28;01mreturn\u001b[39;00m \u001b[38;5;28mself\u001b[39m\u001b[38;5;241m.\u001b[39m_engine\u001b[38;5;241m.\u001b[39mget_loc(casted_key)\n\u001b[1;32m   3803\u001b[0m \u001b[38;5;28;01mexcept\u001b[39;00m \u001b[38;5;167;01mKeyError\u001b[39;00m \u001b[38;5;28;01mas\u001b[39;00m err:\n\u001b[0;32m-> 3804\u001b[0m     \u001b[38;5;28;01mraise\u001b[39;00m \u001b[38;5;167;01mKeyError\u001b[39;00m(key) \u001b[38;5;28;01mfrom\u001b[39;00m \u001b[38;5;21;01merr\u001b[39;00m\n\u001b[1;32m   3805\u001b[0m \u001b[38;5;28;01mexcept\u001b[39;00m \u001b[38;5;167;01mTypeError\u001b[39;00m:\n\u001b[1;32m   3806\u001b[0m     \u001b[38;5;66;03m# If we have a listlike key, _check_indexing_error will raise\u001b[39;00m\n\u001b[1;32m   3807\u001b[0m     \u001b[38;5;66;03m#  InvalidIndexError. Otherwise we fall through and re-raise\u001b[39;00m\n\u001b[1;32m   3808\u001b[0m     \u001b[38;5;66;03m#  the TypeError.\u001b[39;00m\n\u001b[1;32m   3809\u001b[0m     \u001b[38;5;28mself\u001b[39m\u001b[38;5;241m.\u001b[39m_check_indexing_error(key)\n",
      "\u001b[0;31mKeyError\u001b[0m: 'Imports of goods and services billion USD'"
     ]
    }
   ],
   "source": [
    "# Specify the columns of interest\n",
    "columns_of_interest = ['Economic growth: the rate of change of real GDP', \n",
    "                       'Gross Domestic Product billions of 2010 U.S. dollars', \n",
    "                       'Unemployment rate', \n",
    "                       'Imports of goods and services billion USD', \n",
    "                       'Current account balance billion USD']\n",
    "\n",
    "# Iterate through each column and identify the indices of NaN and inf values\n",
    "for column in columns_of_interest:\n",
    "    # NaN values\n",
    "    nan_indices = merged_data[column][merged_data[column].isna()].index\n",
    "    print(f\"Indices of NaN values in '{column}': {nan_indices.tolist()}\")\n",
    "\n",
    "    # Inf values\n",
    "    inf_indices = merged_data[column][np.isinf(merged_data[column])].index\n",
    "    print(f\"Indices of inf values in '{column}': {inf_indices.tolist()}\")\n"
   ]
  },
  {
   "cell_type": "code",
   "execution_count": null,
   "id": "1d1887bf-23c0-4b07-bc20-0f419be9adae",
   "metadata": {},
   "outputs": [],
   "source": [
    "# Fill in the NaN value at index 143 in the 'Unemployment rate' column with 4.3\n",
    "merged_data.loc[143, 'Unemployment rate'] = 4.3\n",
    "\n",
    "# This will replace the NaN value at index 143 in the 'Unemployment rate' column with 4.3\n"
   ]
  },
  {
   "cell_type": "code",
   "execution_count": null,
   "id": "5c789279-c9be-4228-abb8-9b7aaac93fea",
   "metadata": {},
   "outputs": [],
   "source": [
    "import pandas as pd\n",
    "import statsmodels.api as sm\n",
    "from statsmodels.sandbox.regression.gmm import IV2SLS\n",
    "\n",
    "# Assuming your merged data is loaded into a DataFrame named 'merged_data'\n",
    "# merged_data = pd.read_csv('path_to_your_merged_data.csv')  # Load your merged data\n",
    "\n",
    "# Define the dependent variable\n",
    "y = merged_data['ranking index']\n",
    "\n",
    "# Define the independent variables and covariates\n",
    "X = merged_data[['Economic growth: the rate of change of real GDP', 'Gross Domestic Product billions of 2010 U.S. dollars', \n",
    "                 'Unemployment rate', 'Imports of goods and services billion USD', \n",
    "                 'Current account balance billion USD']]\n",
    "\n",
    "# Add a constant to the independent variables (if needed)\n",
    "X = sm.add_constant(X)\n",
    "\n",
    "# Define the instrumental variable\n",
    "instrument = merged_data['Exports of goods and services billion USD']\n",
    "\n",
    "# Perform the 2SLS regression\n",
    "model = IV2SLS(y, X, instrument).fit()\n",
    "\n",
    "# Print the summary of the regression results\n",
    "print(model.summary())"
   ]
  },
  {
   "cell_type": "code",
   "execution_count": null,
   "id": "f9501ff2-87de-4af6-95e5-cbb0a4cf29f7",
   "metadata": {},
   "outputs": [],
   "source": [
    "import pandas as pd\n",
    "import statsmodels.api as sm\n",
    "from statsmodels.sandbox.regression.gmm import IV2SLS\n",
    "\n",
    "# Assuming your merged data is loaded into a DataFrame named 'merged_data'\n",
    "# merged_data = pd.read_csv('path_to_your_merged_data.csv')  # Load your merged data\n",
    "\n",
    "# Define the dependent variable\n",
    "y = merged_data['ranking index']\n",
    "\n",
    "# Define the exogenous variables and covariates\n",
    "X = merged_data[['Economic growth: the rate of change of real GDP', \n",
    "                 'Unemployment rate', 'Imports of goods and services billion USD', ]]\n",
    "\n",
    "# Define the endogenous variable\n",
    "endog = merged_data['Gross Domestic Product billions of 2010 U.S. dollars']\n",
    "X = sm.add_constant(X.join(endog))  # Add a constant and include the endogenous variable\n",
    "\n",
    "# Define the instrumental variable\n",
    "instrument = merged_data['Exports of goods and services billion USD']\n",
    "\n",
    "# Perform the 2SLS regression\n",
    "model = IV2SLS(endog=y, exog=X, instrument=instrument).fit()\n",
    "\n",
    "# Print the summary of the regression results\n",
    "print(model.summary())"
   ]
  },
  {
   "cell_type": "code",
   "execution_count": null,
   "id": "f12872da-4723-4c04-9e9c-b57ccb3372c7",
   "metadata": {},
   "outputs": [],
   "source": [
    "import pandas as pd\n",
    "import statsmodels.api as sm\n",
    "\n",
    "# Assuming your data is already loaded into a DataFrame named 'merged_data'\n",
    "# merged_data = pd.read_csv('path_to_your_data.csv')  # Load your data\n",
    "\n",
    "# Define the dependent variable (y) and independent variable (x)\n",
    "y = merged_data['Economic growth: the rate of change of real GDP']\n",
    "X = merged_data['Exports of goods and services billion USD']\n",
    "\n",
    "# Add a constant to the independent variable\n",
    "X = sm.add_constant(X)\n",
    "\n",
    "# Fit the linear regression model\n",
    "model = sm.OLS(y, X).fit()\n",
    "\n",
    "# Print the summary of the regression results\n",
    "print(model.summary())"
   ]
  },
  {
   "cell_type": "code",
   "execution_count": null,
   "id": "6679a723-f4c6-4694-a877-7aa929e34330",
   "metadata": {},
   "outputs": [],
   "source": [
    "y = merged_data['Economic growth: the rate of change of real GDP']\n",
    "X = merged_data['Exports of goods and services annual growth']\n",
    "\n",
    "# Add a constant to the independent variable\n",
    "X = sm.add_constant(X)\n",
    "\n",
    "# Fit the linear regression model\n",
    "model = sm.OLS(y, X).fit()\n",
    "\n",
    "# Print the summary of the regression results\n",
    "print(model.summary())"
   ]
  },
  {
   "cell_type": "code",
   "execution_count": null,
   "id": "ffbb8cc4-5306-458d-8393-cc9bf10d5449",
   "metadata": {},
   "outputs": [],
   "source": [
    "import pandas as pd\n",
    "import statsmodels.api as sm\n",
    "\n",
    "# Assuming your data is already loaded into a DataFrame named 'merged_data'\n",
    "# merged_data = pd.read_csv('path_to_your_data.csv')  # Load your data\n",
    "\n",
    "# Define the dependent variable (y)\n",
    "y = merged_data['ranking index']\n",
    "\n",
    "# Define the independent variables (X)\n",
    "X = merged_data[['Economic growth: the rate of change of real GDP', \n",
    "                 'Exports of goods and services annual growth', \n",
    "                 'Gross Domestic Product billions of 2010 U.S. dollars'\n",
    "                 'Unemployment rate']]\n",
    "\n",
    "# Add a constant to the independent variables\n",
    "X = sm.add_constant(X)\n",
    "\n",
    "# Fit the linear regression model\n",
    "model = sm.OLS(y, X).fit()\n",
    "\n",
    "# Print the summary of the regression results\n",
    "print(model.summary())"
   ]
  },
  {
   "cell_type": "code",
   "execution_count": null,
   "id": "3b358a9d-1e0c-4d53-8a24-cd083b913b21",
   "metadata": {},
   "outputs": [],
   "source": [
    "y = merged_data['Economic growth: the rate of change of real GDP']\n",
    "X = merged_data['Exports of goods and services annual growth']\n",
    "\n",
    "# Add a constant to the independent variable\n",
    "X = sm.add_constant(X)\n",
    "\n",
    "# Fit the linear regression model\n",
    "model = sm.OLS(y, X).fit()\n",
    "\n",
    "# Print the summary of the regression results\n",
    "print(model.summary())"
   ]
  }
 ],
 "metadata": {
  "kernelspec": {
   "display_name": "Python 3 (ipykernel)",
   "language": "python",
   "name": "python3"
  },
  "language_info": {
   "codemirror_mode": {
    "name": "ipython",
    "version": 3
   },
   "file_extension": ".py",
   "mimetype": "text/x-python",
   "name": "python",
   "nbconvert_exporter": "python",
   "pygments_lexer": "ipython3",
   "version": "3.11.4"
  }
 },
 "nbformat": 4,
 "nbformat_minor": 5
}
